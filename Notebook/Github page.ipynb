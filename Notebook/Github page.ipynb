{
 "cells": [
  {
   "cell_type": "markdown",
   "id": "dietary-appendix",
   "metadata": {},
   "source": [
    "# Parth Sarthi Sharma\n",
    "\n",
    "#### Electrical and Computer Engineering student at Cornell University (pss242@cornell.edu)"
   ]
  },
  {
   "cell_type": "markdown",
   "id": "norwegian-karen",
   "metadata": {},
   "source": [
    "[GitHub](https://github.com/ParthSSharma) [StackOverflow](https://stackoverflow.com/users/9951130/parth-sarthi-sharma) [LinkedIn](https://www.linkedin.com/in/parthssharma/) [Orcid](https://orcid.org/0000-0001-5470-2866)\n",
    "\n",
    "---"
   ]
  },
  {
   "cell_type": "markdown",
   "id": "gorgeous-sapphire",
   "metadata": {},
   "source": [
    "# About Me\n",
    "\n",
    "> Hi, my name’s Parth and I’m currently pursuing Masters of Engineering in Electrical and Computer Engineering at Cornell University. My area of specialization is Embedded Systems. Before studying at Cornell, I was a Research Associate in the Centre for Energy Studies (CES) at the Indian Institute of Technology, Delhi. You can download my CV [here](https://github.com/ParthSSharma/ParthSSharma.github.io/raw/master/bassets/ParthResumeOverleaf.pdf).\n",
    "\n",
    "> I am most skilled in: **Embedded Systems** and **Eating Pizza**\n",
    "\n",
    "---"
   ]
  },
  {
   "cell_type": "markdown",
   "id": "sapphire-vintage",
   "metadata": {},
   "source": [
    "# Education\n",
    "\n",
    "## Cornell University\n",
    "> **MEng in Electrical and Computer Engineering** (2021 - Current)\n",
    "\n",
    "> I am currently in the 1st semester of my masters program. My area of specialisation is Embedded Systems programming. I have taken up course work like:\n",
    "> - ECE 5725: Design with Embedded Operating Systems\n",
    "> - ECE 4760: Digital Systems Design Using Microcontrollers\n",
    "> - ECE 4320: Integrated Micro Sensors and Actuators: Bridging the Physical and Digital Worlds\n",
    "\n",
    "## Ambedkar Institute Of Advanced Communication Technologies & Research\n",
    "> **B.Tech in Electronics and Communication Engineering** (2015 - 2019)\n",
    "\n",
    "> (Overall CGPA: 8.3 / 10)\n",
    "\n",
    "> Finished my undergraduate studies with a first division. Studied courses like:\n",
    "> - ETEC 401: Embedded Systems\n",
    "> - ETEC 305: Microprocessors and Microcontrollers\n",
    "> - ETEC 309: Digital System Design\n",
    "> - ETCS 204: Computer Organisation and Architecture\n",
    "> - ETCS 209: Data Structures and Algorithms\n",
    "\n",
    "---"
   ]
  },
  {
   "cell_type": "markdown",
   "id": "accurate-clone",
   "metadata": {},
   "source": [
    "# Experience\n",
    "\n",
    "## Cornell University\n",
    "> **Graduate Teaching Research Specialist** (Jan 2021 - Present)\n",
    "> - My duties include, but are not limited to, assisting Prof. Peter Doerschuk with debugging and testing the laboratory systems and grading the assignments/homework submitted by the students with ECE 4670 (Digital Communication System Design)\n",
    "\n",
    "## Indian Institute of Technology, Delhi\n",
    "> **Research Associate** (Jun 2019 - Sep 2020)\n",
    "> - Worked on Genetic Algorithms for energy conservation in power grids under Prof. Ashu Verma.\n",
    "> - Worked on hacking CAN Bus and disrupting data under Prof. B. K. Panigrahi\n",
    "\n",
    "## Indian Institute of Technology, Delhi\n",
    "> **Intern** (Jun 2018 - Aug 2018)\n",
    "> - Worked on ”Energy Efficient Buildings” under Prof. B.K. Panigrahi and Prof. Ashu Verma.\n",
    "> - Successfully developed an integrated light automation system (for HVAC) with 4 ambient zones\n",
    "\n",
    "---"
   ]
  },
  {
   "cell_type": "markdown",
   "id": "bibliographic-renaissance",
   "metadata": {},
   "source": [
    "# Research\n",
    "\n",
    "## Optimisation of power supply and demand parameters\n",
    "> *Ashu Verma, B.K. Panigrahi, Sumedha Sharma, Parth Sharma, \"Optimal Building Energy Management System\" (Indian Patent Application No.: 202011051401)*\n",
    "> - I worked on optimising the power supply and demand parameters using first **Gurobi** and the genetic algorithms using **JAVA**. My work was mostly programming the algorithms developed by my professors and supervisors (PhD students).\n",
    "\n",
    "## Disruption of data in microgrid communication\n",
    "> *S. Rath, D. Pal, P. S. Sharma and B. K. Panigrahi, \"A Cyber-Secure Distributed Control Architecture for Autonomous AC Microgrid,\" in IEEE Systems Journal, doi: 10.1109/JSYST.2020.3020968*\n",
    "> - It was another project I worked on at the Indian Institute of Technology, Delhi. It involved me disrupting the data in a CAN bus communication system taking place between two different microgrids (simulated using an OpalRT system) by first reading the data packets and then disrupting the system by spoofing corrupted data.\n",
    "\n",
    "## Cost-effective Color Pattern-based Security System\n",
    "> *P. S. Sharma, P. K. Jha, P. Singh, P. K. Roy and J. Ahuja, \"Development of a Cost-effective Color Pattern-based Security System,\" 2019 6th International Conference on Computing for Sustainable Global Development (INDIACom), New Delhi, India, 2019, pp. 988-991*\n",
    "> - I worked on a colour coded security system that not only reads the colour cards of users to grant/deny them access, but also maintains a time-stamped database of all the card swipes.\n",
    "\n",
    "## Coin Detection based Mobile Charging System\n",
    "> *P. Goyal and P. S. Sharma, \"Coin Detection based Mobile Charging System,\" 2019 6th International Conference on Computing for Sustainable Global Development (INDIACom), New Delhi, India, 2019, pp. 60-63.*\n",
    "> - I worked on a fully functioning model of a coin operated mobile charging station. There is a coin slot through which coins are inserted. Then the coin’s radius is measured using a camera (with an algorithm running on MATLAB) and the appropriate amount of charge time is loaded to the microcontroller which is also connected to an LCD display which shows the remaining charge time to the user.\n",
    "\n",
    "## Localisation of License Plate and Character Recognition Using Haar Cascade\n",
    "> *P. S. Sharma, P. K. Roy, N. Ahmad, J. Ahuja and N. Kumar, \"Localisation of License Plate and Character Recognition Using Haar Cascade,\" 2019 6th International Conference on Computing for Sustainable Global Development (INDIACom), New Delhi, India, 2019, pp. 971-974.*\n",
    "> - Recognising number plates using Neural Networks is computationally expensive. Thus, in order to save processing power, we worked on the recognition of the characters of a number plate using Haar Cascades and PyTesseract. Using our method, we were able to achieve an accuracy as high as 94.4%.\n",
    "\n",
    "## Offline Real-Time Portable GPS Tracking\n",
    "> *P. S. Sharma, P. K. Roy, P. Singh, R. Bhatia and P. K. Jha, \"Offline Real-Time Portable GPS Tracking,\"2019 6th International Conference on Computing for Sustainable Global Development (INDIACom), New Delhi, India, 2019, pp. 574-576.*\n",
    "> - I worked on an offline GPS tracking device that doesn’t need an active internet connection in order to determine the location. Using this device, I was able to determine the coordinates accurately up to 3 decimal places.\n",
    "\n",
    "---"
   ]
  },
  {
   "cell_type": "markdown",
   "id": "rental-slave",
   "metadata": {},
   "source": [
    "# Projects\n",
    "\n",
    "## [Working on the RaspberryPi Pico](https://parthssharma.github.io/Pico/Pico.html)\n",
    "> As a part of my MEng Project at Cornell University, I have worked intensively with the new [RaspberryPi Pico](https://www.raspberrypi.org/products/raspberry-pi-pico/) microcontroller under the guidance of [Prof. Van Hunter Adams](https://www.engineering.cornell.edu/faculty-directory/hunter-adams) and [Prof. Bruce Robert Land](https://www.ece.cornell.edu/faculty-directory/bruce-robert-land).\n",
    "\n",
    "## High frequency AC switching using TRIACS\n",
    "> - This is a subset of \"Optimisation of power supply and demand parameters\"\n",
    "> - I worked on developing an easy to install module that can control up-to 4 appliances over the internet. I used TRIACS and designed a circuit using optocouplers and NodeMCU in order to switch the appliances. I also created an android application using **MIT App Inventor**, a desktop GUI using **Processing** and integrated everything using **Google Firebase**.\n",
    "\n",
    "## Implementation of Alexnet for self-driving car\n",
    "> - This project was a part of my senior thesis during my undergraduate studies.\n",
    "> - During the final semester of my undergraduate studies, I created a rudimentary version of a prototype self driving car using RaspberryPi and Alexnet. I first built a simple single lane track to run my model car on, used a controller and a RaspberryPi camera module to record the image data and commands sent by me and then trained a model. Then I downloaded the model on RaspberryPi and ran the model. The accuracy achieved was roughly 92%.\n",
    "\n",
    "## Hand Motion Controlled Quadpod Robot\n",
    "> - This project was a part of my junior thesis during my undergraduate studies.\n",
    "> - During the second last semester of my undergraduate studies, I created a Quadpod robot that can be controlled wirelessly using hand gestures. It consists of two modules: the Quadpod and the Controller. The controller has an accelerometer and a gyroscope which sends the orientation of the hand over to the Quadpod via Bluetooth and the Quadpod reacts accordingly.\n",
    "\n",
    "---"
   ]
  }
 ],
 "metadata": {
  "kernelspec": {
   "display_name": "Python 3",
   "language": "python",
   "name": "python3"
  },
  "language_info": {
   "codemirror_mode": {
    "name": "ipython",
    "version": 3
   },
   "file_extension": ".py",
   "mimetype": "text/x-python",
   "name": "python",
   "nbconvert_exporter": "python",
   "pygments_lexer": "ipython3",
   "version": "3.9.2"
  }
 },
 "nbformat": 4,
 "nbformat_minor": 5
}
