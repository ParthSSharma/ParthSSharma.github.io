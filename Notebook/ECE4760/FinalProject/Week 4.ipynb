{
 "cells": [
  {
   "cell_type": "markdown",
   "id": "aging-ukraine",
   "metadata": {},
   "source": [
    "# Week 4\n",
    "\n",
    "During week 4 of the project, we worked on adding the sound effects. In order to do so, we first used MATLAB to convert some `wav` audio files into a large array and then used that array to send data directly to the DAC using DMA.\n",
    "\n",
    "Next, we tweaked the background color a bit to make the display more presentable.\n",
    "\n",
    "---"
   ]
  },
  {
   "cell_type": "markdown",
   "id": "hydraulic-superintendent",
   "metadata": {},
   "source": [
    "## The Design\n",
    "\n",
    "#### 1. Converting audio files to arrays\n",
    "\n",
    "In order to add the audio in game, we first had to covert it into a form which can directly be read by the microcontroller. Moreover, it had to be in a format that can be directly pushed to the DAC. Hence, we also had to append the 4 DAC configuration bits in the MSB of each element of the audio array. To do so, we used a MATLAB script which can be found [here](https://parthssharma.github.io/ECE4760/FinalProject/Files/ConvertAudioToArray.txt)."
   ]
  },
  {
   "cell_type": "markdown",
   "id": "indie-qatar",
   "metadata": {},
   "source": [
    "First, we defined the upper and lower bounds of the audio file in terms of the audio sample number. This was done to remove any unwanted sections of the audio. Next, we defined the `FILE_NAME` and the `TEXT_FILE`. These are the audio input file name and the output text file name respectively. Lastly, we defined the `BitRate` which is the new sampling frequency of the audio. This was done to reduce the size of the audio array. _Note: Reducing the bitrate of the audio also reduces the audio quality._"
   ]
  },
  {
   "cell_type": "markdown",
   "id": "human-friday",
   "metadata": {},
   "source": [
    "```c\n",
    "UPPER_RANGE = %Your Upper Range%\n",
    "LOWER_RANGE = %Your Upper Range%\n",
    "FILE_NAME = %Audio File Name%\n",
    "TEXT_FILE = %Text File Name%\n",
    "BitRate = 8000\n",
    "Range = [LOWER_RANGE, UPPER_RANGE];\n",
    "```\n",
    "\n",
    "<br>"
   ]
  },
  {
   "cell_type": "markdown",
   "id": "copyrighted-opposition",
   "metadata": {},
   "source": [
    "Next we used the `audioread()` function to read the audio file into an array `y` and get its default sampling frequency `Fs`. In order to change the sampling frequency, we used the `resample()` function to change its bitrate. _Note: This function requires the DSP toolbox to be installed in MATLAB to work properly._ The audio file we read was a 2 channel audio, hence we sliced it down to a single channel and stored it in `ys` as a column matrix. The amplitude of the audio input stored in `ys` ranges from -1 to 1. However, we have a 12-bit DAC. Therefore, we had to rescale the amplitude from 0 to 4095. This was done using the `rescale()` function. Laslty, we force casted each element of the audio to a `uint16` data type in order to make it compatible with the DAC."
   ]
  },
  {
   "cell_type": "markdown",
   "id": "understood-bibliography",
   "metadata": {},
   "source": [
    "```c\n",
    "[y, Fs] = audioread(FILE_NAME, Range);\n",
    "yn = resample(y, BitRate, Fs);\n",
    "ys = yn(:, 1);\n",
    "yqfinal = rescale(ys, 0, 4095);\n",
    "ysfinal = cast(yqfinal, 'uint16');\n",
    "```\n",
    "\n",
    "<br>"
   ]
  },
  {
   "cell_type": "markdown",
   "id": "southwest-geology",
   "metadata": {},
   "source": [
    "We then opened the text file in write mode using the `fopen()` function. Then we used a `for` loop to traverse through every element of the audio array and append the DAC configuration bits to it by performing a bitwise `OR` operation using the `bitor()` function. The elements are then written into the text file using the `fprintf()` function. After all elements are written in the text file, we closed the file using the `fclose()` function."
   ]
  },
  {
   "cell_type": "markdown",
   "id": "spread-student",
   "metadata": {},
   "source": [
    "```c\n",
    "file = fopen(TEXT_FILE, 'w');\n",
    "for i = 1 : length(ysfinal)\n",
    "    yfinal(i) = bitor(ysfinal(i), 0b0011000000000000);\n",
    "    fprintf(file, \"%d, \", yfinal(i));\n",
    "end\n",
    "fclose(file);\n",
    "```\n",
    "<br>"
   ]
  },
  {
   "cell_type": "markdown",
   "id": "civil-protein",
   "metadata": {},
   "source": [
    "#### 2. Creating the audio header file\n",
    "\n",
    "The above conversion was repeated for all audio files and we stored the resultant arrays in a file called `Audio.h` which can be found [here](https://parthssharma.github.io/ECE4760/FinalProject/Files/Audio.h). Every single array is of the type `const unsigned short`. We used `const` because the audio will remain constant throught the execution of the program and will be stored in the flash memory."
   ]
  },
  {
   "cell_type": "markdown",
   "id": "further-memory",
   "metadata": {},
   "source": [
    "#### 3. Implementing audio using DMA\n",
    "\n",
    "In order to implement the audio functionality, we used Direct Memory Access (DMA). We chose DMA because it is a hardware peripheral functionality and as a result doesn't use up any clock cycles to run. Moreover, once setup, it can be triggered from any point in the code. We implemented the code as below."
   ]
  },
  {
   "cell_type": "markdown",
   "id": "historic-zambia",
   "metadata": {},
   "source": [
    "We first included the audio library."
   ]
  },
  {
   "cell_type": "markdown",
   "id": "motivated-identifier",
   "metadata": {},
   "source": [
    "```c\n",
    "#include \"Audio.h\"\n",
    "```\n",
    "\n",
    "<br>"
   ]
  },
  {
   "cell_type": "markdown",
   "id": "pressing-africa",
   "metadata": {},
   "source": [
    "We the defined a few parameters. These are namely the number of bytes in the audio arrays (twice the number of elements in the arrays since it is a short data type) and the DMA channels (we are using channels 2 and 3 as channels 0 and 1 are used by the `serial` protothread). We also defined a `SPI_CLK_DIV` as the maximum SPI frequency is 20MHz."
   ]
  },
  {
   "cell_type": "markdown",
   "id": "short-paste",
   "metadata": {},
   "source": [
    "```c\n",
    "#define JUMP_AUDIO_SIZE 23156 \n",
    "#define DEAD_AUDIO_SIZE 35670\n",
    "#define DMA_CHANNEL2 2\n",
    "#define DMA_CHANNEL3 3\n",
    "#define SPI_CLK_DIV 2\n",
    "```\n",
    "\n",
    "<br>"
   ]
  },
  {
   "cell_type": "markdown",
   "id": "vocational-variance",
   "metadata": {},
   "source": [
    "In order to use the DMA, we need to configure a timer which overflows and throws an interrupt at the same rate as the bitrate of the audio. This is to ensure that the audio is played at the correct frequency. In order to do so, we used the `Timer 3` in PIC32 and configured it to throw an interrupt after every 5000 CPU cycles (since our bitrate is 8kHz and the CPU frequency is 40MHz)."
   ]
  },
  {
   "cell_type": "markdown",
   "id": "hundred-value",
   "metadata": {},
   "source": [
    "```c\n",
    "OpenTimer3(T3_ON | T3_SOURCE_INT | T3_PS_1_1, 5000);\n",
    "```\n",
    "\n",
    "<br>"
   ]
  },
  {
   "cell_type": "markdown",
   "id": "accredited-elite",
   "metadata": {},
   "source": [
    "Next, we configured the SPI channel 2 to communicate with the DAC. To do so, we enabled the SPI in 16-bit mode and in the master configuration. We also used `SPICON_FRMEN` and `SPICON_FRMPOL` flags to ensure that the SPI is configured in the framed SPI mode as we cannot toggle the chip select line in software while using DMA. Next, we mapped the SPI data out pin to `RPB5` and the SPI chip select line to `RPA3` pin on the board."
   ]
  },
  {
   "cell_type": "markdown",
   "id": "forty-advisory",
   "metadata": {},
   "source": [
    "```c\n",
    "SpiChnOpen(SPI_CHANNEL2, SPI_OPEN_ON | SPI_OPEN_MODE16 | SPI_OPEN_MSTEN | SPI_OPEN_CKE_REV | SPICON_FRMEN | SPICON_FRMPOL, SPI_CLK_DIV);\n",
    "PPSOutput(2, RPB5, SDO2);\n",
    "PPSOutput(4, RPA3, SS2);\n",
    "```\n",
    "\n",
    "<br>"
   ]
  },
  {
   "cell_type": "markdown",
   "id": "pharmaceutical-screen",
   "metadata": {},
   "source": [
    "In order to open the DMA channel, we used the `DmaChnOpen()` command. We used the higher priority for `deadAudio` as that takes priority over jumps. Moreover, we used the `DMA_OPEN_DEFAULT` flag as we want our audio samples to play only once and then stop. Next, in order to configure the transfers, we used the `DmaChnSetTxfer()` function to set the transfer parameters. It takes in the arguments as the dma channel, the source address, the destination address, the source size, the destination size and the transferred cell size in the given order. Lastly, we setup the DMA event control to timer 3 IRQ as it will control the DMA transfers once the DMA channel has been enabled."
   ]
  },
  {
   "cell_type": "markdown",
   "id": "fallen-council",
   "metadata": {},
   "source": [
    "```c\n",
    "DmaChnOpen(DMA_CHANNEL2, 3, DMA_OPEN_DEFAULT);\n",
    "DmaChnSetTxfer(DMA_CHANNEL2, jumpAudio, (void*)&SPI2BUF, JUMP_AUDIO_SIZE, 2, 2);\n",
    "DmaChnSetEventControl(DMA_CHANNEL2, DMA_EV_START_IRQ(_TIMER_3_IRQ));\n",
    "    \n",
    "DmaChnOpen(DMA_CHANNEL3, 0, DMA_OPEN_DEFAULT);\n",
    "DmaChnSetTxfer(DMA_CHANNEL3, deadAudio, (void*)&SPI2BUF, DEAD_AUDIO_SIZE, 2, 2);\n",
    "DmaChnSetEventControl(DMA_CHANNEL3, DMA_EV_START_IRQ(_TIMER_3_IRQ));\n",
    "```\n",
    "\n",
    "<br>"
   ]
  },
  {
   "cell_type": "markdown",
   "id": "rational-senator",
   "metadata": {},
   "source": [
    "In order to play the audio, we used the `DmaChnEnable()` function to start DMA transfers to the DAC. This function is called whenever the dino jumps to play the jump audio or the dino dies to play the death audio."
   ]
  },
  {
   "cell_type": "markdown",
   "id": "chief-tribute",
   "metadata": {},
   "source": [
    "The complete C code for the end of week 4 can be found [here](https://parthssharma.github.io/ECE4760/FinalProject/Files/Week4Code.c). A video demonstration at the end of week 4 is attached below."
   ]
  },
  {
   "cell_type": "markdown",
   "id": "front-commercial",
   "metadata": {},
   "source": [
    "<div style=\"display: flex; justify-content: center;\">\n",
    "    <iframe width=\"560\" height=\"315\" src=\"https://www.youtube.com/embed/wvb0nBX4MC4\" title=\"YouTube video player\" frameborder=\"0\" allow=\"accelerometer; autoplay; clipboard-write; encrypted-media; gyroscope; picture-in-picture\" allowfullscreen>\n",
    "    </iframe>\n",
    "</div>\n",
    "<figure>\n",
    "    <center><figcaption>Implementation of the audio functionality in the Dino game</figcaption></center>\n",
    "</figure>\n",
    "\n",
    "---"
   ]
  }
 ],
 "metadata": {
  "kernelspec": {
   "display_name": "Python 3",
   "language": "python",
   "name": "python3"
  },
  "language_info": {
   "codemirror_mode": {
    "name": "ipython",
    "version": 3
   },
   "file_extension": ".py",
   "mimetype": "text/x-python",
   "name": "python",
   "nbconvert_exporter": "python",
   "pygments_lexer": "ipython3",
   "version": "3.9.2"
  }
 },
 "nbformat": 4,
 "nbformat_minor": 5
}
