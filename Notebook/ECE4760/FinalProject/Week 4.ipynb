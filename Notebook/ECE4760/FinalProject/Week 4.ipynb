{
 "cells": [
  {
   "cell_type": "markdown",
   "id": "minimal-spare",
   "metadata": {},
   "source": [
    "# Week 4\n",
    "\n",
    "During week 4 of the project, we worked on adding the sound effects. In order to do so, we first used MATLAB to convert some `wav` audio files into a large array and then used that array to send data directly to the DAC using DMA. \n",
    "\n",
    "---"
   ]
  },
  {
   "cell_type": "markdown",
   "id": "known-possible",
   "metadata": {},
   "source": [
    "## The Design\n",
    "\n",
    "#### 1. Converting audio files to arrays\n",
    "\n",
    "In order to add the audio in game, we first had to covert it into a form which can directly be read by the microcontroller. Moreover, it had to be in a format that can be directly pushed to the DAC. Hence, we also had to append the 4 DAC configuration bits in the MSB of each element of the audio array. To do so, we used a MATLAB sc"
   ]
  }
 ],
 "metadata": {
  "kernelspec": {
   "display_name": "Python 3",
   "language": "python",
   "name": "python3"
  },
  "language_info": {
   "codemirror_mode": {
    "name": "ipython",
    "version": 3
   },
   "file_extension": ".py",
   "mimetype": "text/x-python",
   "name": "python",
   "nbconvert_exporter": "python",
   "pygments_lexer": "ipython3",
   "version": "3.9.2"
  }
 },
 "nbformat": 4,
 "nbformat_minor": 5
}
