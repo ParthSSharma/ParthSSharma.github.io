{
 "cells": [
  {
   "cell_type": "markdown",
   "id": "conservative-extent",
   "metadata": {},
   "source": [
    "# Week 4\n",
    "\n",
    "During week 4 of the project, we worked on adding the sound effects. In order to do so, we first used MATLAB to convert some `wav` audio files into a large array and then used that array to send data directly to the DAC using DMA. \n",
    "\n",
    "---"
   ]
  },
  {
   "cell_type": "markdown",
   "id": "disturbed-basement",
   "metadata": {},
   "source": [
    "## The Design\n",
    "\n",
    "#### 1. Converting audio files to arrays\n",
    "\n",
    "In order to add the audio in game, we first had to covert it into a form which can directly be read by the microcontroller. Moreover, it had to be in a format that can be directly pushed to the DAC. Hence, we also had to append the 4 DAC configuration bits in the MSB of each element of the audio array. To do so, we used a MATLAB script which can be found [here](https://parthssharma.github.io/ECE4760/FinalProject/Files/ConvertAudioToArray.txt)."
   ]
  },
  {
   "cell_type": "markdown",
   "id": "cloudy-chess",
   "metadata": {},
   "source": [
    "First, we defined the upper and lower bounds of the audio file in terms of the audio sample number. This was done to remove any unwanted sections of the audio. Next, we defined the `FILE_NAME` and the `TEXT_FILE`. These are the audio input file name and the output text file name respectively. Lastly, we defined the `BitRate` which is the new sampling frequency of the audio. This was done to reduce the size of the audio array. _Note: Reducing the bitrate of the audio also reduces the audio quality._"
   ]
  },
  {
   "cell_type": "markdown",
   "id": "expected-noise",
   "metadata": {},
   "source": [
    "```c\n",
    "UPPER_RANGE = %Your Upper Range%\n",
    "LOWER_RANGE = %Your Upper Range%\n",
    "FILE_NAME = %Audio File Name%\n",
    "TEXT_FILE = %Text File Name%\n",
    "BitRate = 8000\n",
    "Range = [LOWER_RANGE, UPPER_RANGE];\n",
    "```\n",
    "\n",
    "<br>"
   ]
  },
  {
   "cell_type": "markdown",
   "id": "careful-spine",
   "metadata": {},
   "source": [
    "Next we used the `audioread()` function to read the audio file into an array `y` and get its default sampling frequency `Fs`. In order to change the sampling frequency, we used the `resample()` function to change its bitrate. _Note: This function requires the DSP toolbox to be installed in MATLAB to work properly._ The audio file we read was a 2 channel audio, hence we sliced it down to a single channel and stored it in `ys` as a column matrix. The amplitude of the audio input stored in `ys` ranges from -1 to 1. However, we have a 12-bit DAC. Therefore, we had to rescale the amplitude from 0 to 4095. This was done using the `rescale()` function. Laslty, we force casted each element of the audio to a `uint16` data type in order to make it compatible with the DAC."
   ]
  },
  {
   "cell_type": "markdown",
   "id": "banned-nowhere",
   "metadata": {},
   "source": [
    "```c\n",
    "[y, Fs] = audioread(FILE_NAME, Range);\n",
    "yn = resample(y, BitRate, Fs);\n",
    "ys = yn(:, 1);\n",
    "yqfinal = rescale(ys, 0, 4095);\n",
    "ysfinal = cast(yqfinal, 'uint16');\n",
    "```\n",
    "\n",
    "<br>"
   ]
  },
  {
   "cell_type": "markdown",
   "id": "governmental-minimum",
   "metadata": {},
   "source": []
  },
  {
   "cell_type": "markdown",
   "id": "endless-saudi",
   "metadata": {},
   "source": [
    "```c\n",
    "file = fopen(TEXT_FILE, 'w');\n",
    "for i = 1 : length(ysfinal)\n",
    "    yfinal(i) = bitor(ysfinal(i), 0b0011000000000000);\n",
    "    fprintf(file, \"%d, \", yfinal(i));\n",
    "end\n",
    "fclose(file);\n",
    "```"
   ]
  }
 ],
 "metadata": {
  "kernelspec": {
   "display_name": "Python 3",
   "language": "python",
   "name": "python3"
  },
  "language_info": {
   "codemirror_mode": {
    "name": "ipython",
    "version": 3
   },
   "file_extension": ".py",
   "mimetype": "text/x-python",
   "name": "python",
   "nbconvert_exporter": "python",
   "pygments_lexer": "ipython3",
   "version": "3.9.2"
  }
 },
 "nbformat": 4,
 "nbformat_minor": 5
}
