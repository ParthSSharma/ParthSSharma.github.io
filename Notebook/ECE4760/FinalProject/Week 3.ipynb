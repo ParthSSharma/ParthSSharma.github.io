{
 "cells": [
  {
   "cell_type": "markdown",
   "id": "wicked-irish",
   "metadata": {},
   "source": [
    "# Week 3\n",
    "\n",
    "During week 3 of the project, we worked on replacing the dino and obstacle blocks with bitmap images of a cartoon dinosaur and 3 different types of cactii to make it aesthetically pleasing. In order to do so, we first used the predefined `tft_drawBitmap()` function and successfully implemented the dino and cactii graphics in the game. However, we realized that the function is not optimized and takes a lot of CPU cycles to run. Thus, we digged into the header files and created our own optimized function for drawing bitmaps.\n",
    "\n",
    "Next, we implemented the live score and high score functionality in the game.\n",
    "\n",
    "---"
   ]
  },
  {
   "cell_type": "markdown",
   "id": "lovely-british",
   "metadata": {},
   "source": [
    "## The Design\n",
    "\n",
    "#### 1. The graphic images\n",
    "\n",
    "In order to implement the graphics for the dino and cactii, we downloaded stock images of 3 different cactii, and 3 configurations of the dino - jump position, running position 1 and running position 2. "
   ]
  },
  {
   "cell_type": "markdown",
   "id": "atmospheric-influence",
   "metadata": {},
   "source": [
    "In order from left to right: small cactus, large cactus and multiple cactii."
   ]
  },
  {
   "cell_type": "markdown",
   "id": "dependent-cable",
   "metadata": {},
   "source": [
    "<div style=\"display: flex; justify-content: center;\">\n",
    "  <img src=\"https://parthssharma.github.io/ECE4760/FinalProject/Files/smallCactus.png\" style=\"width: 20px; height: 40px;\" >\n",
    "  <img src=\"https://parthssharma.github.io/ECE4760/FinalProject/Files/largeCactus.png\" style=\"width: 30px; height: 60px;\" >\n",
    "  <img src=\"https://parthssharma.github.io/ECE4760/FinalProject/Files/multiCactus.png\" style=\"width: 60px; height: 40px;\" >\n",
    "</div>"
   ]
  },
  {
   "cell_type": "markdown",
   "id": "italic-swift",
   "metadata": {},
   "source": [
    "In order from left to right: dino jump, running position 1 and running position 2."
   ]
  },
  {
   "cell_type": "markdown",
   "id": "agricultural-acquisition",
   "metadata": {},
   "source": [
    "<div style=\"display: flex; justify-content: center;\">\n",
    "  <img src=\"https://parthssharma.github.io/ECE4760/FinalProject/Files/dinoJump.png\" style=\"width: 44px; height: 50px;\" >\n",
    "  <img src=\"https://parthssharma.github.io/ECE4760/FinalProject/Files/dinoRun1.png\" style=\"width: 44px; height: 50px;\" >\n",
    "  <img src=\"https://parthssharma.github.io/ECE4760/FinalProject/Files/dinoRun2.png\" style=\"width: 44px; height: 50px;\" >\n",
    "</div>\n",
    "\n",
    "<br>"
   ]
  },
  {
   "cell_type": "markdown",
   "id": "geographic-assignment",
   "metadata": {},
   "source": [
    "#### 2. Converting images to bitmaps\n",
    "\n",
    "In order to display these images in the game, we needed to convert them in a form which a microcontroller could understand. This form is known as a `bitmap`. A bitmap is basically an array of pixels where each bit of the array signifies whether a pixel is dark or light. If the pixel is light, the bit is set to 1 and if the pixel is dark, the bit is set to 0. In order to conserve space, the pixels are represented in a hexdecimal format so that each element of the array represents a series of 8 pixels.\n",
    "\n",
    "In order to convert these PNG images in the bitmap format, we used [LCD Image Converter](https://lcd-image-converter.riuson.com/en/about/). We followed the following steps for this conversion:\n",
    "- Open the desired PNG image in the software.\n",
    "- Click on `Options > Conversion`.\n",
    "- Set the preset to `Monochrome` and click `Show Preview`.\n",
    "- This will open up a new window which displays the 2D array of the desired bitmap image."
   ]
  },
  {
   "cell_type": "markdown",
   "id": "careful-suggestion",
   "metadata": {},
   "source": [
    "#### 3. Creating the bitmap header\n",
    "\n"
   ]
  }
 ],
 "metadata": {
  "kernelspec": {
   "display_name": "Python 3",
   "language": "python",
   "name": "python3"
  },
  "language_info": {
   "codemirror_mode": {
    "name": "ipython",
    "version": 3
   },
   "file_extension": ".py",
   "mimetype": "text/x-python",
   "name": "python",
   "nbconvert_exporter": "python",
   "pygments_lexer": "ipython3",
   "version": "3.9.2"
  }
 },
 "nbformat": 4,
 "nbformat_minor": 5
}
