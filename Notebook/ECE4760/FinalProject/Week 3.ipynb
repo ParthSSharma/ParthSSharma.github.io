{
 "cells": [
  {
   "cell_type": "markdown",
   "id": "wicked-irish",
   "metadata": {},
   "source": [
    "# Week 3\n",
    "\n",
    "During week 3 of the project, we worked on replacing the dino and obstacle blocks with bitmap images of a cartoon dinosaur and 3 different types of cactii to make it aesthetically pleasing. In order to do so, we first used the predefined `tft_drawBitmap()` function and successfully implemented the dino and cactii graphics in the game. However, we realized that the function is not optimized and takes a lot of CPU cycles to run. Thus, we digged into the header files and created our own optimized function for drawing bitmaps.\n",
    "\n",
    "Next, we implemented the live score and high score functionality in the game.\n",
    "\n",
    "---"
   ]
  },
  {
   "cell_type": "markdown",
   "id": "linear-acceptance",
   "metadata": {},
   "source": [
    "## The Design\n",
    "\n",
    "#### 1. The graphic images\n",
    "\n",
    "In order to implement the graphics for the dino and cactii, we downloaded stock images of 3 different cactii, and 3 configurations of the dino - jump position, running position 1 and running position 2. "
   ]
  },
  {
   "cell_type": "markdown",
   "id": "recognized-fashion",
   "metadata": {},
   "source": [
    "In order from left to right: small cactus, large cactus and multiple cactii."
   ]
  },
  {
   "cell_type": "markdown",
   "id": "extreme-welsh",
   "metadata": {},
   "source": [
    "<div style=\"display: flex; justify-content: center;\">\n",
    "  <img src=\"https://parthssharma.github.io/ECE4760/FinalProject/Files/smallCactus.png\" style=\"width: 20px; height: 40px;\" >\n",
    "  <img src=\"https://parthssharma.github.io/ECE4760/FinalProject/Files/largeCactus.png\" style=\"width: 30px; height: 60px;\" >\n",
    "  <img src=\"https://parthssharma.github.io/ECE4760/FinalProject/Files/multiCactus.png\" style=\"width: 60px; height: 40px;\" >\n",
    "</div>"
   ]
  },
  {
   "cell_type": "markdown",
   "id": "million-purpose",
   "metadata": {},
   "source": [
    "In order from left to right: dino jump, running position 1 and running position 2."
   ]
  },
  {
   "cell_type": "markdown",
   "id": "peaceful-formation",
   "metadata": {},
   "source": [
    "<div style=\"display: flex; justify-content: center;\">\n",
    "  <img src=\"https://parthssharma.github.io/ECE4760/FinalProject/Files/dinoJump.png\" style=\"width: 44px; height: 50px;\" >\n",
    "  <img src=\"https://parthssharma.github.io/ECE4760/FinalProject/Files/dinoRun1.png\" style=\"width: 44px; height: 50px;\" >\n",
    "  <img src=\"https://parthssharma.github.io/ECE4760/FinalProject/Files/dinoRun2.png\" style=\"width: 44px; height: 50px;\" >\n",
    "</div>\n",
    "\n",
    "<br>"
   ]
  },
  {
   "cell_type": "markdown",
   "id": "selected-participant",
   "metadata": {},
   "source": [
    "#### 2. Converting images to bitmaps\n",
    "\n",
    "In order to display these images in the game, we needed to convert them in a form which a microcontroller could understand. This form is known as a `bitmap`. A bitmap is basically an array of pixels where each bit of the array signifies whether a pixel is dark or light. If the pixel is light, the bit is set to 1 and if the pixel is dark, the bit is set to 0. In order to conserve space, the pixels are represented in a hexdecimal format so that each element of the array represents a series of 8 pixels.\n",
    "\n",
    "In order to convert these PNG images in the bitmap format, we used [LCD Image Converter](https://lcd-image-converter.riuson.com/en/about/). We followed the following steps for this conversion:\n",
    "- Open the desired PNG image in the software.\n",
    "- Click on `Options > Conversion`.\n",
    "- Set the preset to `Monochrome` and click `Show Preview`.\n",
    "- This will open up a new window which displays the 1D array of the desired 2D bitmap image."
   ]
  },
  {
   "cell_type": "markdown",
   "id": "coupled-pipeline",
   "metadata": {},
   "source": [
    "#### 3. Creating the bitmap header\n",
    "\n",
    "The above conversion was repeated for all six images and we stored the resultant arrays in a file called `BitMap.h` which can be found [here](https://parthssharma.github.io/ECE4760/FinalProject/Files/BitMap.h). Every single array is of the type `const unsigned char`. We used `const` because the bitmap will remain constant throught the execution of the program and will be stored in the flash memory."
   ]
  },
  {
   "cell_type": "markdown",
   "id": "trying-appliance",
   "metadata": {},
   "source": [
    "#### 4. Implementing the predefined bitmap function\n",
    "\n",
    "The provided `tft_gfx.h` library has a predefined function called `tft_drawBitmap()` which takes in the following parameters to draw the image:\n",
    "- The x-coordinate of the image\n",
    "- The y-coordinate of the image\n",
    "- The pointer to the first element of the bitmap array\n",
    "- The width of the image\n",
    "- The height of the image\n",
    "- The color of the image\n",
    "\n",
    "We implemented the code as below."
   ]
  },
  {
   "cell_type": "markdown",
   "id": "round-weapon",
   "metadata": {},
   "source": [
    "We first included the bitmap library."
   ]
  },
  {
   "cell_type": "markdown",
   "id": "assigned-burke",
   "metadata": {},
   "source": [
    "```c\n",
    "#include \"BitMap.h\"\n",
    "```\n",
    "\n",
    "<br>"
   ]
  },
  {
   "cell_type": "markdown",
   "id": "exposed-today",
   "metadata": {},
   "source": [
    "We then defined `RUNNER_FRAMES` constant value and a variable `runner` which help us in creating an illusion of the dino running."
   ]
  },
  {
   "cell_type": "markdown",
   "id": "qualified-somerset",
   "metadata": {},
   "source": [
    "```c\n",
    "#define RUNNER_FRAMES 10\n",
    "char runner = 0;\n",
    "```\n",
    "\n",
    "<br>"
   ]
  },
  {
   "cell_type": "markdown",
   "id": "welsh-pricing",
   "metadata": {},
   "source": [
    "The next step was to replace all the `tft_fillRect()` functions in the animation protothread with the `tft_drawBitmap()` function to implement the dino cactii graphics.\n",
    "\n",
    "_Note: To implement the cactii graphics, we had to use a switch case which draws the correct bitmap for the cactii based on the variable `obsType`._"
   ]
  },
  {
   "cell_type": "markdown",
   "id": "composed-project",
   "metadata": {},
   "source": [
    "```c\n",
    "switch(obsType){\n",
    "    case 0: tft_drawBitmap(obstacle.x, (HEIGHT - GROUND_HEIGHT - ((obstacle.h / 2))), obsTypeZer, obstacle.w, obstacle.h, ILI9340_BLACK);\n",
    "            break;\n",
    "    case 1: tft_drawBitmap(obstacle.x, (HEIGHT - GROUND_HEIGHT - ((obstacle.h / 2))), obsTypeOne, obstacle.w, obstacle.h, ILI9340_BLACK);\n",
    "            break;\n",
    "    case 2: tft_drawBitmap(obstacle.x, (HEIGHT - GROUND_HEIGHT - ((obstacle.h / 2))), obsTypeTwo, obstacle.w, obstacle.h, ILI9340_BLACK);\n",
    "            break;\n",
    "}\n",
    "\n",
    "//After updating the obstacle parameters\n",
    "\n",
    "switch(obsType){\n",
    "    case 0: tft_drawBitmap(obstacle.x, (HEIGHT - GROUND_HEIGHT - ((obstacle.h / 2))), obsTypeZer, obstacle.w, obstacle.h, HARD_COLOR);\n",
    "            break;\n",
    "    case 1: tft_drawBitmap(obstacle.x, (HEIGHT - GROUND_HEIGHT - ((obstacle.h / 2))), obsTypeOne, obstacle.w, obstacle.h, HARD_COLOR);\n",
    "            break;\n",
    "    case 2: tft_drawBitmap(obstacle.x, (HEIGHT - GROUND_HEIGHT - ((obstacle.h / 2))), obsTypeTwo, obstacle.w, obstacle.h, HARD_COLOR);\n",
    "            break;\n",
    "}\n",
    "```\n",
    "\n",
    "<br>"
   ]
  },
  {
   "cell_type": "markdown",
   "id": "blessed-clause",
   "metadata": {},
   "source": [
    "After updating the player parameters, we had to draw the appropriate dino image. We used the following three conditions to draw the dino:\n",
    "- If the dino is in the middle of a jump, then we draw the dino jump bitmap.\n",
    "- If the `runner` variable is between 0 and `RUNNER_FRAMES` / 2, then draw the dino running position 1 bitmap.\n",
    "- If the `runner` variable is between `RUNNER_FRAMES` / 2 and `RUNNER_FRAMES`, then draw the dino running position 2 bitmap.\n",
    "\n",
    "Once the `runner` variable hits `RUNNER_FRAMES`, it will reset to 0."
   ]
  },
  {
   "cell_type": "markdown",
   "id": "declared-tattoo",
   "metadata": {},
   "source": [
    "```c\n",
    "if(myPlayer.y > 0){\n",
    "    tft_drawBitmap(myPlayer.x, (HEIGHT - GROUND_HEIGHT - (myPlayer.y + (myPlayer.h / 2))), dinoJumpUp, myPlayer.w, myPlayer.h, SOFT_COLOR);\n",
    "}\n",
    "else{\n",
    "    if(runner > RUNNER_FRAMES / 2){\n",
    "        tft_drawBitmap(myPlayer.x, (HEIGHT - GROUND_HEIGHT - (myPlayer.y + (myPlayer.h / 2))), dinoRunOne, myPlayer.w, myPlayer.h, SOFT_COLOR);\n",
    "    }\n",
    "    else{\n",
    "        tft_drawBitmap(myPlayer.x, (HEIGHT - GROUND_HEIGHT - (myPlayer.y + (myPlayer.h / 2))), dinoRunTwo, myPlayer.w, myPlayer.h, SOFT_COLOR);\n",
    "    }\n",
    "}\n",
    "runner = (runner + 1) % RUNNER_FRAMES;\n",
    "```\n",
    "\n",
    "<br>"
   ]
  }
 ],
 "metadata": {
  "kernelspec": {
   "display_name": "Python 3",
   "language": "python",
   "name": "python3"
  },
  "language_info": {
   "codemirror_mode": {
    "name": "ipython",
    "version": 3
   },
   "file_extension": ".py",
   "mimetype": "text/x-python",
   "name": "python",
   "nbconvert_exporter": "python",
   "pygments_lexer": "ipython3",
   "version": "3.9.2"
  }
 },
 "nbformat": 4,
 "nbformat_minor": 5
}
