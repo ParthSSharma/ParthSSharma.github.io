{
 "cells": [
  {
   "cell_type": "markdown",
   "id": "wicked-irish",
   "metadata": {},
   "source": [
    "# Week 3\n",
    "\n",
    "During week 3 of the project, we worked on adding \n",
    "\n",
    "---"
   ]
  }
 ],
 "metadata": {
  "kernelspec": {
   "display_name": "Python 3",
   "language": "python",
   "name": "python3"
  },
  "language_info": {
   "codemirror_mode": {
    "name": "ipython",
    "version": 3
   },
   "file_extension": ".py",
   "mimetype": "text/x-python",
   "name": "python",
   "nbconvert_exporter": "python",
   "pygments_lexer": "ipython3",
   "version": "3.9.2"
  }
 },
 "nbformat": 4,
 "nbformat_minor": 5
}
