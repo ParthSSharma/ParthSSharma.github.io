{
 "cells": [
  {
   "cell_type": "markdown",
   "id": "fuzzy-invite",
   "metadata": {},
   "source": [
    "# Week 2\n",
    "\n",
    "During week 2 of the project, we added some moving obstacles and the dino in the form of some boxes. We then created a Python GUI to interact with the game. The GUI has 3 buttons:\n",
    "- Start button to start the game\n",
    "- Jump button to make the dino jump\n",
    "- Restart button to restart the game in case the dino dies\n",
    "\n",
    "We also used the GUI for debugging purposes.\n",
    "\n",
    "Once we had our GUI ready, we implemented the jump as well as the collision logic in our code. Once it was up and running, we implemented the voice control feature using ADC input and FFT algorithm.\n",
    "\n",
    "---"
   ]
  },
  {
   "cell_type": "markdown",
   "id": "rocky-leader",
   "metadata": {},
   "source": [
    "## The Design\n",
    "\n",
    "The code was implemented in various phases as described below."
   ]
  },
  {
   "cell_type": "markdown",
   "id": "fresh-antigua",
   "metadata": {},
   "source": [
    "#### 1. Implementing the Obstacles\n",
    "\n",
    "Just like with implementing the ground, we implemented the obstacles using a `struct`. However, there is a catch. The ground was implemeted using an array while we only used single variable to implement the obstacle (and reuse it to bring in the next obstacle). We also used a new variable called `obsType` to keep a track of the type of obstacle (we have 3 different types based on their width and height)."
   ]
  },
  {
   "cell_type": "markdown",
   "id": "killing-canberra",
   "metadata": {},
   "source": [
    "```c\n",
    "#define OBS_W_0 10\n",
    "#define OBS_H_0 20\n",
    "#define OBS_W_1 15\n",
    "#define OBS_H_1 30\n",
    "#define OBS_W_2 30\n",
    "#define OBS_H_2 20\n",
    "\n",
    "int obsType;\n",
    "\n",
    "struct Obstacle{\n",
    "    int x, w, h;\n",
    "};\n",
    "struct Obstacle obstacle;\n",
    "```\n",
    "\n",
    "<br>"
   ]
  },
  {
   "cell_type": "markdown",
   "id": "intended-laptop",
   "metadata": {},
   "source": [
    "We initialized the obstacle in main as below:"
   ]
  },
  {
   "cell_type": "markdown",
   "id": "adolescent-margin",
   "metadata": {},
   "source": [
    "```c\n",
    "obsType = randomRange(0, 3);\n",
    "obstacle.x = WIDTH;\n",
    "if(obsType == 0){\n",
    "    obstacle.w = OBS_W_0;\n",
    "    obstacle.h = OBS_H_0;\n",
    "}\n",
    "else if(obsType == 1){\n",
    "    obstacle.w = OBS_W_1;\n",
    "    obstacle.h = OBS_H_1;\n",
    "}\n",
    "else{\n",
    "    obstacle.w = OBS_W_2;\n",
    "    obstacle.h = OBS_H_2;\n",
    "}\n",
    "```\n",
    "\n",
    "<br>"
   ]
  },
  {
   "cell_type": "markdown",
   "id": "prescribed-thermal",
   "metadata": {},
   "source": [
    "Now that we had initialized the obstacle, we needed to update it for every iteration. It was done so by following a simple algorithm:\n",
    "- Update the x-coordinate of the obstacle based on the speed\n",
    "- If the obstacle has reached the left-most edge, reset its parameters\n",
    "\n",
    "This algorithm has been implemented as below:"
   ]
  },
  {
   "cell_type": "markdown",
   "id": "equivalent-daisy",
   "metadata": {},
   "source": [
    "```c\n",
    "tft_fillRect(obstacle.x, (HEIGHT - GROUND_HEIGHT - ((obstacle.h / 2))), obstacle.w, obstacle.h, ILI9340_BLACK);\n",
    "\n",
    "obstacle.x -= SPEED;\n",
    "if(obstacle.x + obstacle.w < 0){\n",
    "    obsType = randomRange(0, 3);\n",
    "    obstacle.x = WIDTH + randomRange(0, 50);\n",
    "    switch(obsType){\n",
    "        case 0: obstacle.w = OBS_W_0;\n",
    "                obstacle.h = OBS_H_0;\n",
    "                break;\n",
    "        case 1: obstacle.w = OBS_W_1;\n",
    "                obstacle.h = OBS_H_1;\n",
    "                break;\n",
    "        case 2: obstacle.w = OBS_W_2;\n",
    "                obstacle.h = OBS_H_2;\n",
    "                break;\n",
    "    }\n",
    "}\n",
    "\n",
    "tft_fillRect(obstacle.x, (HEIGHT - GROUND_HEIGHT - ((obstacle.h / 2))), obstacle.w, obstacle.h, HARD_COLOR); \n",
    "```\n",
    "\n",
    "<br>"
   ]
  },
  {
   "cell_type": "markdown",
   "id": "norwegian-burke",
   "metadata": {},
   "source": [
    "The output obtained after running this code is given below."
   ]
  },
  {
   "cell_type": "markdown",
   "id": "republican-johnson",
   "metadata": {},
   "source": [
    "<div style=\"display: flex; justify-content: center;\">\n",
    "  <img src=\"https://parthssharma.github.io/ECE4760/FinalProject/Files/Week2Obstacle.jfif\" style=\"width: 446px; height: 273px;\" >\n",
    "</div>\n",
    "<figure>\n",
    "    <center><figcaption>The Moving Obstacle Frame</figcaption></center>\n",
    "</figure>"
   ]
  },
  {
   "cell_type": "markdown",
   "id": "sunset-commission",
   "metadata": {},
   "source": [
    "#### 2. Implementing the Dino\n",
    "\n",
    "Now that we had implemented the obstacle, we had to implement the Dino. Just like with implementing the obstacke, we implemented the dino using a `struct`. The dino is a little different from the ground and obstacles. Its x-coordinate is to remain constant and the y-coordinate is to change. It also needs to have a flag in order to keep track of whether the dino is alive or dead and a parameter to keep track of its velocity when it jumps. It is implemented as below."
   ]
  },
  {
   "cell_type": "markdown",
   "id": "rising-sodium",
   "metadata": {},
   "source": [
    "```c\n",
    "struct Player{\n",
    "    int x, y, w, h, vy;\n",
    "    int alive;\n",
    "};\n",
    "struct Player myPlayer;\n",
    "```\n",
    "\n",
    "<br>"
   ]
  },
  {
   "cell_type": "markdown",
   "id": "optical-blind",
   "metadata": {},
   "source": [
    "We initialized the dino (`myPlayer`) in main as below."
   ]
  },
  {
   "cell_type": "markdown",
   "id": "sunrise-suggestion",
   "metadata": {},
   "source": [
    "```c\n",
    "myPlayer.x = 30;\n",
    "myPlayer.y = 0;\n",
    "myPlayer.w = 22;\n",
    "myPlayer.h = 25;\n",
    "myPlayer.vy = 0;\n",
    "myPlayer.alive = 1;\n",
    "```\n",
    "\n",
    "<br>"
   ]
  },
  {
   "cell_type": "markdown",
   "id": "tight-japanese",
   "metadata": {},
   "source": [
    "Now that we had initialized the dino, we needed to update it for every iteration. It was done so by simply clearing old position of the dino and drawing the new position. The jump logic was implemented later on."
   ]
  },
  {
   "cell_type": "markdown",
   "id": "executed-relationship",
   "metadata": {},
   "source": [
    "```c\n",
    "tft_fillRect(myPlayer.x, (HEIGHT - GROUND_HEIGHT - (myPlayer.y + (myPlayer.h / 2))), myPlayer.w, myPlayer.h, ILI9340_BLACK);\n",
    "tft_fillRect(myPlayer.x, (HEIGHT - GROUND_HEIGHT - (myPlayer.y + (myPlayer.h / 2))), myPlayer.w, myPlayer.h, SOFT_COLOR);\n",
    "```\n",
    "\n",
    "<br>"
   ]
  },
  {
   "cell_type": "markdown",
   "id": "structural-aviation",
   "metadata": {},
   "source": [
    "The output obtained after running this code is given below."
   ]
  },
  {
   "cell_type": "markdown",
   "id": "about-future",
   "metadata": {},
   "source": [
    "<div style=\"display: flex; justify-content: center;\">\n",
    "  <img src=\"https://parthssharma.github.io/ECE4760/FinalProject/Files/Week2Dino.jfif\" style=\"width: 446px; height: 273px;\" >\n",
    "</div>\n",
    "<figure>\n",
    "    <center><figcaption>Implementation of the Dino</figcaption></center>\n",
    "</figure>"
   ]
  }
 ],
 "metadata": {
  "kernelspec": {
   "display_name": "Python 3",
   "language": "python",
   "name": "python3"
  },
  "language_info": {
   "codemirror_mode": {
    "name": "ipython",
    "version": 3
   },
   "file_extension": ".py",
   "mimetype": "text/x-python",
   "name": "python",
   "nbconvert_exporter": "python",
   "pygments_lexer": "ipython3",
   "version": "3.9.2"
  }
 },
 "nbformat": 4,
 "nbformat_minor": 5
}
