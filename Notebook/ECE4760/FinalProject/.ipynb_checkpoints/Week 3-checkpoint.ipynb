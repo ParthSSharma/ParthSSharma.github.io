{
 "cells": [
  {
   "cell_type": "markdown",
   "id": "wicked-irish",
   "metadata": {},
   "source": [
    "# Week 3\n",
    "\n",
    "During week 3 of the project, we worked on replacing the dino and obstacle blocks with bitmap images of a cartoon dinosaur and 3 different types of cactii to make it aesthetically pleasing. In order to do so, we first used the predefined `tft_drawBitmap()` function and successfully implemented the dino and cactii graphics in the game. However, we realized that the function is not optimized and takes a lot of CPU cycles to run. Thus, we digged into the header files and created our own optimized function for drawing bitmaps.\n",
    "\n",
    "Next, we implemented the live score and high score functionality in the game.\n",
    "\n",
    "> - [The graphic images](https://parthssharma.github.io/ECE4760/FinalProject/Week3.html#1.-The-graphic-images)\n",
    "> - [Converting images to bitmaps](https://parthssharma.github.io/ECE4760/FinalProject/Week3.html#2.-Converting-images-to-bitmaps)\n",
    "> - [Creating the bitmap header](https://parthssharma.github.io/ECE4760/FinalProject/Week3.html#3.-Creating-the-bitmap-header)\n",
    "> - [Implementing the predefined bitmap function](https://parthssharma.github.io/ECE4760/FinalProject/Week3.html#4.-Implementing-the-predefined-bitmap-function)\n",
    "> - [Optimization of the tft_drawBitmap() function](https://parthssharma.github.io/ECE4760/FinalProject/Week3.html#5.-Optimization-of-the-tft_drawBitmap()-function)\n",
    "> - [Implementation of scores](https://parthssharma.github.io/ECE4760/FinalProject/Week3.html#6.-Implementation-of-scores)\n",
    "---"
   ]
  },
  {
   "cell_type": "markdown",
   "id": "exposed-citizen",
   "metadata": {},
   "source": [
    "## The Design\n",
    "\n",
    "#### 1. The graphic images\n",
    "\n",
    "In order to implement the graphics for the dino and cactii, we downloaded stock images of 3 different cactii, and 3 configurations of the dino - jump position, running position 1 and running position 2. "
   ]
  },
  {
   "cell_type": "markdown",
   "id": "special-conservative",
   "metadata": {},
   "source": [
    "In order from left to right: small cactus, large cactus and multiple cactii."
   ]
  },
  {
   "cell_type": "markdown",
   "id": "unsigned-karma",
   "metadata": {},
   "source": [
    "<div style=\"display: flex; justify-content: center;\">\n",
    "  <img src=\"https://parthssharma.github.io/ECE4760/FinalProject/Files/smallCactus.png\" style=\"margin:10px 50px; width: 20px; height: 40px; \" >\n",
    "  <img src=\"https://parthssharma.github.io/ECE4760/FinalProject/Files/largeCactus.png\" style=\"margin:10px 50px; width: 30px; height: 60px;\" >\n",
    "  <img src=\"https://parthssharma.github.io/ECE4760/FinalProject/Files/multiCactus.png\" style=\"margin:10px 50px; width: 60px; height: 40px;\" >\n",
    "</div>"
   ]
  },
  {
   "cell_type": "markdown",
   "id": "intimate-basis",
   "metadata": {},
   "source": [
    "In order from left to right: dino jump, running position 1 and running position 2."
   ]
  },
  {
   "cell_type": "markdown",
   "id": "unlike-origin",
   "metadata": {},
   "source": [
    "<div style=\"display: flex; justify-content: center;\">\n",
    "  <img src=\"https://parthssharma.github.io/ECE4760/FinalProject/Files/dinoJump.png\" style=\"margin:10px 50px; width: 44px; height: 50px;\" >\n",
    "  <img src=\"https://parthssharma.github.io/ECE4760/FinalProject/Files/dinoRun1.png\" style=\"margin:10px 50px; width: 44px; height: 50px;\" >\n",
    "  <img src=\"https://parthssharma.github.io/ECE4760/FinalProject/Files/dinoRun2.png\" style=\"margin:10px 50px; width: 44px; height: 50px;\" >\n",
    "</div>\n",
    "\n",
    "<br>"
   ]
  },
  {
   "cell_type": "markdown",
   "id": "minor-austin",
   "metadata": {},
   "source": [
    "#### 2. Converting images to bitmaps\n",
    "\n",
    "In order to display these images in the game, we needed to convert them in a form which a microcontroller could understand. This form is known as a `bitmap`. A bitmap is basically an array of pixels where each bit of the array signifies whether a pixel is dark or light. If the pixel is light, the bit is set to 1 and if the pixel is dark, the bit is set to 0. In order to conserve space, the pixels are represented in a hexdecimal format so that each element of the array represents a series of 8 pixels.\n",
    "\n",
    "In order to convert these PNG images in the bitmap format, we used [LCD Image Converter](https://lcd-image-converter.riuson.com/en/about/). We followed the following steps for this conversion:\n",
    "- Open the desired PNG image in the software.\n",
    "- Click on `Options > Conversion`.\n",
    "- Set the preset to `Monochrome` and click `Show Preview`.\n",
    "- This will open up a new window which displays the 1D array of the desired 2D bitmap image."
   ]
  },
  {
   "cell_type": "markdown",
   "id": "liquid-harvest",
   "metadata": {},
   "source": [
    "#### 3. Creating the bitmap header\n",
    "\n",
    "The above conversion was repeated for all six images and we stored the resultant arrays in a file called `BitMap.h` which can be found [here](https://parthssharma.github.io/ECE4760/FinalProject/Files/BitMap.h). Every single array is of the type `const unsigned char`. We used `const` because the bitmap will remain constant throught the execution of the program and will be stored in the flash memory."
   ]
  },
  {
   "cell_type": "markdown",
   "id": "right-second",
   "metadata": {},
   "source": [
    "#### 4. Implementing the predefined bitmap function\n",
    "\n",
    "The provided `tft_gfx.h` library has a predefined function called `tft_drawBitmap()` which takes in the following parameters to draw the image:\n",
    "- The x-coordinate of the image\n",
    "- The y-coordinate of the image\n",
    "- The pointer to the first element of the bitmap array\n",
    "- The width of the image\n",
    "- The height of the image\n",
    "- The color of the image\n",
    "\n",
    "We implemented the code as below."
   ]
  },
  {
   "cell_type": "markdown",
   "id": "czech-carter",
   "metadata": {},
   "source": [
    "We first included the bitmap library."
   ]
  },
  {
   "cell_type": "markdown",
   "id": "joined-illustration",
   "metadata": {},
   "source": [
    "```c\n",
    "#include \"BitMap.h\"\n",
    "```\n",
    "\n",
    "<br>"
   ]
  },
  {
   "cell_type": "markdown",
   "id": "amino-horizon",
   "metadata": {},
   "source": [
    "We then defined `RUNNER_FRAMES` constant value and a variable `runner` which help us in creating an illusion of the dino running."
   ]
  },
  {
   "cell_type": "markdown",
   "id": "thousand-fight",
   "metadata": {},
   "source": [
    "```c\n",
    "#define RUNNER_FRAMES 10\n",
    "char runner = 0;\n",
    "```\n",
    "\n",
    "<br>"
   ]
  },
  {
   "cell_type": "markdown",
   "id": "saving-mounting",
   "metadata": {},
   "source": [
    "The next step was to replace all the `tft_fillRect()` functions in the animation protothread with the `tft_drawBitmap()` function to implement the dino cactii graphics.\n",
    "\n",
    "_Note: To implement the cactii graphics, we had to use a switch case which draws the correct bitmap for the cactii based on the variable `obsType`._"
   ]
  },
  {
   "cell_type": "markdown",
   "id": "spoken-architecture",
   "metadata": {},
   "source": [
    "```c\n",
    "switch(obsType){\n",
    "    case 0: tft_drawBitmap(obstacle.x, (HEIGHT - GROUND_HEIGHT - ((obstacle.h / 2))), obsTypeZer, obstacle.w, obstacle.h, ILI9340_BLACK);\n",
    "            break;\n",
    "    case 1: tft_drawBitmap(obstacle.x, (HEIGHT - GROUND_HEIGHT - ((obstacle.h / 2))), obsTypeOne, obstacle.w, obstacle.h, ILI9340_BLACK);\n",
    "            break;\n",
    "    case 2: tft_drawBitmap(obstacle.x, (HEIGHT - GROUND_HEIGHT - ((obstacle.h / 2))), obsTypeTwo, obstacle.w, obstacle.h, ILI9340_BLACK);\n",
    "            break;\n",
    "}\n",
    "\n",
    "//After updating the obstacle parameters\n",
    "\n",
    "switch(obsType){\n",
    "    case 0: tft_drawBitmap(obstacle.x, (HEIGHT - GROUND_HEIGHT - ((obstacle.h / 2))), obsTypeZer, obstacle.w, obstacle.h, HARD_COLOR);\n",
    "            break;\n",
    "    case 1: tft_drawBitmap(obstacle.x, (HEIGHT - GROUND_HEIGHT - ((obstacle.h / 2))), obsTypeOne, obstacle.w, obstacle.h, HARD_COLOR);\n",
    "            break;\n",
    "    case 2: tft_drawBitmap(obstacle.x, (HEIGHT - GROUND_HEIGHT - ((obstacle.h / 2))), obsTypeTwo, obstacle.w, obstacle.h, HARD_COLOR);\n",
    "            break;\n",
    "}\n",
    "```\n",
    "\n",
    "<br>"
   ]
  },
  {
   "cell_type": "markdown",
   "id": "surrounded-bidding",
   "metadata": {},
   "source": [
    "After updating the player parameters, we had to draw the appropriate dino image. We used the following three conditions to draw the dino:\n",
    "- If the dino is in the middle of a jump, then we draw the dino jump bitmap.\n",
    "- If the `runner` variable is between 0 and `RUNNER_FRAMES` / 2, then draw the dino running position 1 bitmap.\n",
    "- If the `runner` variable is between `RUNNER_FRAMES` / 2 and `RUNNER_FRAMES`, then draw the dino running position 2 bitmap.\n",
    "\n",
    "Once the `runner` variable hits `RUNNER_FRAMES`, it will reset to 0."
   ]
  },
  {
   "cell_type": "markdown",
   "id": "virgin-polish",
   "metadata": {},
   "source": [
    "```c\n",
    "if(myPlayer.y > 0){\n",
    "    tft_drawBitmap(myPlayer.x, (HEIGHT - GROUND_HEIGHT - (myPlayer.y + (myPlayer.h / 2))), dinoJumpUp, myPlayer.w, myPlayer.h, SOFT_COLOR);\n",
    "}\n",
    "else{\n",
    "    if(runner > RUNNER_FRAMES / 2){\n",
    "        tft_drawBitmap(myPlayer.x, (HEIGHT - GROUND_HEIGHT - (myPlayer.y + (myPlayer.h / 2))), dinoRunOne, myPlayer.w, myPlayer.h, SOFT_COLOR);\n",
    "    }\n",
    "    else{\n",
    "        tft_drawBitmap(myPlayer.x, (HEIGHT - GROUND_HEIGHT - (myPlayer.y + (myPlayer.h / 2))), dinoRunTwo, myPlayer.w, myPlayer.h, SOFT_COLOR);\n",
    "    }\n",
    "}\n",
    "runner = (runner + 1) % RUNNER_FRAMES;\n",
    "```\n",
    "\n",
    "<br>"
   ]
  },
  {
   "cell_type": "markdown",
   "id": "passing-company",
   "metadata": {},
   "source": [
    "After implementing the bitmaps, we tested the code out using the GUI. The result is shown below."
   ]
  },
  {
   "cell_type": "markdown",
   "id": "broad-strengthening",
   "metadata": {},
   "source": [
    "<div style=\"display: flex; justify-content: center;\">\n",
    "  <img src=\"https://parthssharma.github.io/ECE4760/FinalProject/Files/BitmapUnoptimized.png\" style=\"width: 600px; height: 405px;\" >\n",
    "</div>\n",
    "<figure>\n",
    "    <center><figcaption>The Output of Bitmap Implementation</figcaption></center>\n",
    "</figure>\n",
    "\n",
    "<br>"
   ]
  },
  {
   "cell_type": "markdown",
   "id": "starting-illness",
   "metadata": {},
   "source": [
    "As we can see from the result, the amount of extra time we were left with is 1 millisecond for a specific frame with the multi cactus image. This is not a lot considering that it was about 7-8 milliseconds before implementing the graphics. Therefore, there was a pressing need to optimize the process of drawing bitmap."
   ]
  },
  {
   "cell_type": "markdown",
   "id": "intense-prospect",
   "metadata": {},
   "source": [
    "#### 5. Optimization of the `tft_drawBitmap()` function\n",
    "\n",
    "In order to optimize the function, we dug into the library and studied how each function is implemented. Particularly, the `tft_drawBitmap()` function is implemented in the following manner:\n",
    "- Define a `byteWidth` and counter variables `i` & `j`.\n",
    "- For all the elements in the given bitmap, check if the given pixel is set.\n",
    "- If the given pixel is set, draw a pixel of the given color using the `tft_drawPixel()` function.\n",
    "- Otherwise, do nothing.\n",
    "\n",
    "At first glance, this doesn't look particularly unoptimized. However, digging in deeper, we found that calling the `tft_drawPixel()` function for all the pixels is pretty time consuming as the `tft_drawPixel()` function is implemented as follows:\n",
    "- Configure the row address.\n",
    "- Configure the column address.\n",
    "- Send the color to be drawn with.\n",
    "\n",
    "This row and column address configuration for all the pixels is quite time consuming and redundant. On the other hand, comparing it to the `tft_fillRect()` function, this function is implemented as follows:\n",
    "- Set the boundary condition for the rectangle.\n",
    "- Set the address window.\n",
    "- For all the pixels, send the color to be drawn with.\n",
    "\n",
    "This function is extremely optimized as we need to set the address window only once. Therefore, we combined the two functions to create a new function called `drawBitmap()` which takes in the same set of arguments as the `tft_drawBitmap()` function (and is therefore interchangeable). It was implemented as follows:\n",
    "- Set the boundary condition for the rectangle.\n",
    "- Set the address window.\n",
    "- For all the elements in the given bitmap, check if the given pixel is set.\n",
    "- If the given pixel is set, send the color directly to the TFT using the `tft_spiwrite16()` function.\n",
    "- Otherwise, send the `0xFFFF` directly to the TFT using the `tft_spiwrite16()` function to draw a black background.\n",
    "\n",
    "_Note: This function assumes that the background is black in color. It can be optimized to take a different background color._\n",
    "\n",
    "The implemented function is shown below."
   ]
  },
  {
   "cell_type": "markdown",
   "id": "fresh-consequence",
   "metadata": {},
   "source": [
    "```c\n",
    "#define pgm_read_byte(addr) (*(const unsigned char *)(addr))\n",
    "void drawBitmap(short x, short y, const unsigned char *bitmap, short w, short h, unsigned short color){\n",
    "    if((x >= _width) || (y >= _height)) return;\n",
    "    if((x + w - 1) >= _width)  w = _width  - x;\n",
    "    if((y + h - 1) >= _height) h = _height - y;\n",
    "\n",
    "    tft_setAddrWindow(x, y, x + w - 1, y + h - 1);\n",
    "    _dc_high();\n",
    "    _cs_low();\n",
    "  \n",
    "    short i, j, byteWidth = (w + 7) / 8;\n",
    "    for(j = 0; j < h; j++){\n",
    "        for(i = 0; i < w; i++){\n",
    "            if(pgm_read_byte(bitmap + j * byteWidth + i / 8) & (128 >> (i & 7))) {\n",
    "                tft_spiwrite16(color);\n",
    "            }\n",
    "            else{\n",
    "                tft_spiwrite16(0x0000);\n",
    "            }\n",
    "        }\n",
    "    }\n",
    "\n",
    "  _cs_high();\n",
    "}\n",
    "```\n",
    "\n",
    "<br>"
   ]
  },
  {
   "cell_type": "markdown",
   "id": "charming-privilege",
   "metadata": {},
   "source": [
    "After implementing the bitmaps using our optimized function, we tested the code out again using the GUI. The result is shown below."
   ]
  },
  {
   "cell_type": "markdown",
   "id": "korean-bride",
   "metadata": {},
   "source": [
    "<div style=\"display: flex; justify-content: center;\">\n",
    "  <img src=\"https://parthssharma.github.io/ECE4760/FinalProject/Files/BitmapOptimized.png\" style=\"width: 600px; height: 402px;\" >\n",
    "</div>\n",
    "<figure>\n",
    "    <center><figcaption>The Output of Optimized Bitmap Implementation</figcaption></center>\n",
    "</figure>\n",
    "\n",
    "<br>"
   ]
  },
  {
   "cell_type": "markdown",
   "id": "molecular-exposure",
   "metadata": {},
   "source": [
    "As we can see from the result, the amount of extra time we were left with is 7 milliseconds for a specific frame with the multi cactus image. This is a huge improvement as compared to the unoptimized version of the code. This timing difference is even greated for larger bitmaps as there are more pixels to draw."
   ]
  },
  {
   "cell_type": "markdown",
   "id": "lovely-korea",
   "metadata": {},
   "source": [
    "#### 6. Implementation of scores\n",
    "\n",
    "At this point our game was almost ready. One small thing that was left was keeping a track of score and high score. In order to do so, we initialized two variables: `score` and `highScore`."
   ]
  },
  {
   "cell_type": "markdown",
   "id": "julian-institute",
   "metadata": {},
   "source": [
    "```c\n",
    "int score = 0, highScore = 0;\n",
    "```\n",
    "\n",
    "<br>"
   ]
  },
  {
   "cell_type": "markdown",
   "id": "north-wheel",
   "metadata": {},
   "source": [
    "In order to keep a track of the score, we increment the score as soon as the obstacle has passed the frame in the animation protothread. Next, we compare if the current score is greater than the high score. If it is, we change the high score."
   ]
  },
  {
   "cell_type": "markdown",
   "id": "historic-longer",
   "metadata": {},
   "source": [
    "```c\n",
    "if(obstacle.x + obstacle.w < 0){\n",
    "    score++;\n",
    "    if(score > highScore){\n",
    "        highScore = score;\n",
    "    }\n",
    "}\n",
    "```\n",
    "\n",
    "<br>"
   ]
  },
  {
   "cell_type": "markdown",
   "id": "painful-extension",
   "metadata": {},
   "source": [
    "Moreover, we needed to add the score reset feature in the reset button functionality. Therefore, we modified the reset button condition in the button protothread by adding the following statement to it."
   ]
  },
  {
   "cell_type": "markdown",
   "id": "endangered-covering",
   "metadata": {},
   "source": [
    "```c\n",
    "score = 0;\n",
    "```\n",
    "\n",
    "<br>"
   ]
  },
  {
   "cell_type": "markdown",
   "id": "concerned-mining",
   "metadata": {},
   "source": [
    "At this point the score and high score were implemented. All that was left to do was print them out on the screen. In order to do so, we `#define`ed a few parameters which kept a track of the screen coordinates as to where to show the score."
   ]
  },
  {
   "cell_type": "markdown",
   "id": "after-american",
   "metadata": {},
   "source": [
    "```c\n",
    "#define SCORE_X_OFFSET1 5\n",
    "#define SCORE_X_OFFSET2 150\n",
    "#define SCORE_Y_OFFSET1 5\n",
    "#define SCORE_Y_OFFSET2 30\n",
    "```\n",
    "\n",
    "<br>"
   ]
  },
  {
   "cell_type": "markdown",
   "id": "unnecessary-henry",
   "metadata": {},
   "source": [
    "Next, we implemented the following lines of code in the start button condition in the button protothread in order to print out the score as soon as the game starts. The `tft_setTextSize()` is used to set the size of the text to be printed. `tft_setTextColor()` is used to change the color of the text to be printed. The `tft_setCursor()` function takes in two arguments: the x-coordinate and the y-coordinate of the top left corner of the text. In order to print a string on the screen, we used the `tft_writeString()`. Lastly, in order to print some variables on the screen, we had to use the `sprintf()` function to first store the variable in a char array and then send the char array to the screen in order to print it."
   ]
  },
  {
   "cell_type": "markdown",
   "id": "metropolitan-headquarters",
   "metadata": {},
   "source": [
    "```c\n",
    "tft_setTextSize(2);\n",
    "tft_setTextColor(SOFT_COLOR);\n",
    "tft_setCursor(SCORE_X_OFFSET1, SCORE_Y_OFFSET1);\n",
    "tft_writeString(\"Your Score:\");\n",
    "tft_setCursor(SCORE_X_OFFSET1, SCORE_Y_OFFSET2);\n",
    "tft_writeString(\"High Score:\");\n",
    "tft_setCursor(SCORE_X_OFFSET2, SCORE_Y_OFFSET1);\n",
    "sprintf(buffer, \"%2d\", score);\n",
    "tft_writeString(buffer);\n",
    "tft_setCursor(SCORE_X_OFFSET2, SCORE_Y_OFFSET2);\n",
    "sprintf(buffer, \"%2d\", highScore);\n",
    "tft_writeString(buffer);\n",
    "```\n",
    "\n",
    "<br>"
   ]
  },
  {
   "cell_type": "markdown",
   "id": "indoor-technique",
   "metadata": {},
   "source": [
    "Next, everytime the score changes (when the obstacle moves out of the frame), we changed the text printed on the screen. We implemented it by adding the following lines in the animation protothread. We first erase the previous value of the score and highscore by printing them in black and then print the updated values using the desired color."
   ]
  },
  {
   "cell_type": "markdown",
   "id": "hundred-norman",
   "metadata": {},
   "source": [
    "```c\n",
    "if(obstacle.x + obstacle.w < 0){\n",
    "    tft_setTextColor(ILI9340_BLACK);\n",
    "    tft_setCursor(SCORE_X_OFFSET2, SCORE_Y_OFFSET1);\n",
    "    sprintf(buffer, \"%2d\", score);\n",
    "    tft_writeString(buffer);\n",
    "    tft_setCursor(SCORE_X_OFFSET2, SCORE_Y_OFFSET2);\n",
    "    sprintf(buffer, \"%2d\", highScore);\n",
    "    tft_writeString(buffer);\n",
    "    \n",
    "    //Update the score and high score\n",
    "    \n",
    "    tft_setTextColor(SOFT_COLOR);\n",
    "    tft_setCursor(SCORE_X_OFFSET2, SCORE_Y_OFFSET1);\n",
    "    sprintf(buffer, \"%2d\", score);\n",
    "    tft_writeString(buffer);\n",
    "    tft_setCursor(SCORE_X_OFFSET2, SCORE_Y_OFFSET2);\n",
    "    sprintf(buffer, \"%2d\", highScore);\n",
    "    tft_writeString(buffer);\n",
    "}\n",
    "```\n",
    "\n",
    "<br>"
   ]
  },
  {
   "cell_type": "markdown",
   "id": "respiratory-skirt",
   "metadata": {},
   "source": [
    "The complete C code for the end of week 3 can be found [here](https://parthssharma.github.io/ECE4760/FinalProject/Files/Week3Code.c). A video demonstration at the end of week 3 is attached below."
   ]
  },
  {
   "cell_type": "markdown",
   "id": "champion-colon",
   "metadata": {},
   "source": [
    "<div style=\"display: flex; justify-content: center;\">\n",
    "    <iframe width=\"560\" height=\"315\" src=\"https://www.youtube.com/embed/wvb0nBX4MC4\" title=\"YouTube video player\" frameborder=\"0\" allow=\"accelerometer; autoplay; clipboard-write; encrypted-media; gyroscope; picture-in-picture\" allowfullscreen>\n",
    "    </iframe>\n",
    "</div>\n",
    "<figure>\n",
    "    <center><figcaption>Implementation of the graphics and score in the Dino game</figcaption></center>\n",
    "</figure>\n",
    "\n",
    "---"
   ]
  }
 ],
 "metadata": {
  "kernelspec": {
   "display_name": "Python 3",
   "language": "python",
   "name": "python3"
  },
  "language_info": {
   "codemirror_mode": {
    "name": "ipython",
    "version": 3
   },
   "file_extension": ".py",
   "mimetype": "text/x-python",
   "name": "python",
   "nbconvert_exporter": "python",
   "pygments_lexer": "ipython3",
   "version": "3.9.2"
  }
 },
 "nbformat": 4,
 "nbformat_minor": 5
}
