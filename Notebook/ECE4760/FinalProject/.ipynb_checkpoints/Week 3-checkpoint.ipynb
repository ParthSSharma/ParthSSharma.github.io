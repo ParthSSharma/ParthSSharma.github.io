{
 "cells": [
  {
   "cell_type": "markdown",
   "id": "wicked-irish",
   "metadata": {},
   "source": [
    "# Week 3\n",
    "\n",
    "During week 3 of the project, we worked on replacing the dino and obstacle blocks with bitmap images of a cartoon dinosaur and 3 different types of cactii to make it aesthetically pleasing. In order to do so, we first used the predefined `tft_drawBitmap()` function and successfully implemented the dino and cactii graphics in the game. However, we realized that the function is not optimized and takes a lot of CPU cycles to run. Thus, we digged into the header files and created our own optimized function for drawing bitmaps.\n",
    "\n",
    "Next, we implemented the live score and high score functionality in the game.\n",
    "\n",
    "---"
   ]
  },
  {
   "cell_type": "markdown",
   "id": "closing-harvest",
   "metadata": {},
   "source": [
    "## The Design\n",
    "\n",
    "The code was implemented in various phases as described below."
   ]
  },
  {
   "cell_type": "markdown",
   "id": "heated-qatar",
   "metadata": {},
   "source": [
    "<div style=\"display: flex; justify-content: center;\">\n",
    "  <img src=\"https://parthssharma.github.io/ECE4760/FinalProject/Files/dinoJump.png\" style=\"width: 44px; height: 50px;\" >\n",
    "  <img src=\"https://parthssharma.github.io/ECE4760/FinalProject/Files/dinoJump.png\" style=\"width: 44px; height: 50px;\" >\n",
    "</div>\n",
    "<figure>\n",
    "    <center><figcaption>Implementation of the Dino</figcaption></center>\n",
    "</figure>"
   ]
  }
 ],
 "metadata": {
  "kernelspec": {
   "display_name": "Python 3",
   "language": "python",
   "name": "python3"
  },
  "language_info": {
   "codemirror_mode": {
    "name": "ipython",
    "version": 3
   },
   "file_extension": ".py",
   "mimetype": "text/x-python",
   "name": "python",
   "nbconvert_exporter": "python",
   "pygments_lexer": "ipython3",
   "version": "3.9.2"
  }
 },
 "nbformat": 4,
 "nbformat_minor": 5
}
