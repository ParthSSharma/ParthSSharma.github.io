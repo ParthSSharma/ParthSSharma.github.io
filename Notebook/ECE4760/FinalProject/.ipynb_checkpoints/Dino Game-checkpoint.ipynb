{
 "cells": [
  {
   "cell_type": "markdown",
   "id": "atlantic-richmond",
   "metadata": {},
   "source": [
    "# Voice Controlled Dino Game\n",
    "\n",
    "As a part of the final project for [ECE 4760: Digital Systems Design Using Microcontrollers](https://people.ece.cornell.edu/land/courses/ece4760/), I along with Shreyas Patil (E-Mail: sp2544@cornell.edu) worked on a voice controlled version of the [Google Dino game](https://en.wikipedia.org/wiki/Dinosaur_Game) on the PIC32 microcontroller. The microcontroller we used is a PIC32MX250F128B microcontroller on the [SECABB](https://people.ece.cornell.edu/land/courses/ece4760/PIC32/target_board.html) development board."
   ]
  },
  {
   "cell_type": "markdown",
   "id": "according-duplicate",
   "metadata": {},
   "source": [
    "> - [Introduction](https://parthssharma.github.io/ECE4760/FinalProject/Dino.html#Introduction)\n",
    "> - [Weekly Progress](https://parthssharma.github.io/ECE4760/FinalProject/Dino.html#Weekly-Progress)\n",
    "> - [Final Version](https://parthssharma.github.io/ECE4760/FinalProject/Dino.html#Final-Version)\n",
    "\n",
    "---"
   ]
  },
  {
   "cell_type": "markdown",
   "id": "fifteen-bundle",
   "metadata": {},
   "source": [
    "## Introduction\n",
    "\n",
    "We have all been in a situation where we didn’t have access to the internet and to pass time we started playing the Google Dino game. However, the game tends to get a little monotonous with all the key presses and the biggest fear is that if we regain the internet connection, we might lose the progress, especially if we are about to beat a high score. Therefore, for our final project, we wanted to create our own version of the Dino game using the PIC32 microcontroller and the TFT screen. That way, we could play the game any time we wanted without the fear of losing progress by regaining the internet connection.\n",
    "\n",
    "---"
   ]
  },
  {
   "cell_type": "markdown",
   "id": "integrated-camera",
   "metadata": {},
   "source": [
    "## Weekly Progress\n",
    "\n",
    "Since this is an end semester project, we only have roughly 4 weeks to finish the project. Therefore, I documented this in the form of a weekly report.\n",
    "\n",
    "> - [Week 1](https://parthssharma.github.io/ECE4760/FinalProject/Week1.html)\n",
    "> - [Week 2](https://parthssharma.github.io/ECE4760/FinalProject/Week2.html)\n",
    "> - [Week 3](https://parthssharma.github.io/ECE4760/FinalProject/Week3.html)\n",
    "> - [Week 4](https://parthssharma.github.io/ECE4760/FinalProject/Week4.html)\n",
    "\n",
    "---"
   ]
  },
  {
   "cell_type": "markdown",
   "id": "small-survivor",
   "metadata": {},
   "source": [
    "## Final Version\n",
    "\n",
    "The final version of the main program can be found [here](https://parthssharma.github.io/ECE4760/FinalProject/Files/Week4Code.c) along with the [bitmap header file](https://parthssharma.github.io/ECE4760/FinalProject/Files/BitMap.h) and the [audio header file](https://parthssharma.github.io/ECE4760/FinalProject/Files/Audio.h). The complete code for the python GUI can be found [here](https://parthssharma.github.io/ECE4760/FinalProject/Files/Week2PythonCode.txt)."
   ]
  },
  {
   "cell_type": "markdown",
   "id": "earlier-amateur",
   "metadata": {},
   "source": [
    "<div style=\"display: flex; justify-content: center;\">\n",
    "    <iframe width=\"560\" height=\"315\" src=\"https://www.youtube.com/embed/O5_BQlLSv90\" title=\"YouTube video player\" frameborder=\"0\" allow=\"accelerometer; autoplay; clipboard-write; encrypted-media; gyroscope; picture-in-picture\" allowfullscreen>\n",
    "    </iframe>\n",
    "</div>\n",
    "\n",
    "---"
   ]
  }
 ],
 "metadata": {
  "kernelspec": {
   "display_name": "Python 3",
   "language": "python",
   "name": "python3"
  },
  "language_info": {
   "codemirror_mode": {
    "name": "ipython",
    "version": 3
   },
   "file_extension": ".py",
   "mimetype": "text/x-python",
   "name": "python",
   "nbconvert_exporter": "python",
   "pygments_lexer": "ipython3",
   "version": "3.9.2"
  }
 },
 "nbformat": 4,
 "nbformat_minor": 5
}
