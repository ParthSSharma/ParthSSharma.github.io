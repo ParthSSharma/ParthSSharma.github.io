{
 "cells": [
  {
   "cell_type": "markdown",
   "id": "fuzzy-invite",
   "metadata": {},
   "source": [
    "# Week 2\n",
    "\n",
    "During week 2 of the project, we added some moving obstacles and the dino in the form of some boxes. We then created a Python GUI to interact with the game. The GUI has 3 buttons:\n",
    "- Start button to start the game\n",
    "- Jump button to make the dino jump\n",
    "- Restart button to restart the game in case the dino dies\n",
    "\n",
    "We also used the GUI for debugging purposes.\n",
    "\n",
    "Once we had our GUI ready, we implemented the jump as well as the collision logic in our code. Once it was up and running, we implemented the voice control feature using ADC input and FFT algorithm.\n",
    "\n",
    "> - [Implementing the Obstacles](https://parthssharma.github.io/ECE4760/FinalProject/Week2.html#1.-Implementing-the-Obstacles)\n",
    "> - [Implementing the Dino](https://parthssharma.github.io/ECE4760/FinalProject/Week2.html#2.-Implementing-the-Dino)\n",
    "> - [Implementing the GUI](https://parthssharma.github.io/ECE4760/FinalProject/Week2.html#3.-Implementing-the-GUI)\n",
    "> - [Implementing the Jump Algorithm](https://parthssharma.github.io/ECE4760/FinalProject/Week2.html#4.-Implementing-the-Jump-Algorithm)\n",
    "> - [Implementing the Collision Algorithm](https://parthssharma.github.io/ECE4760/FinalProject/Week2.html#5.-Implementing-the-Collision-Algorithm)\n",
    "> - [Implementing the Restart Algorithm](https://parthssharma.github.io/ECE4760/FinalProject/Week2.html#6.-Implementing-the-Restart-Algorithm)\n",
    "> - [Implementing the Voice Control Feature](https://parthssharma.github.io/ECE4760/FinalProject/Week2.html#7.-Implementing-the-Voice-Control-Feature)\n",
    "\n",
    "---"
   ]
  },
  {
   "cell_type": "markdown",
   "id": "rocky-leader",
   "metadata": {},
   "source": [
    "## The Design\n",
    "\n",
    "The code was implemented in various phases as described below."
   ]
  },
  {
   "cell_type": "markdown",
   "id": "fresh-antigua",
   "metadata": {},
   "source": [
    "#### 1. Implementing the Obstacles\n",
    "\n",
    "Just like with implementing the ground, we implemented the obstacles using a `struct`. However, there is a catch. The ground was implemeted using an array while we only used single variable to implement the obstacle (and reuse it to bring in the next obstacle). We also used a new variable called `obsType` to keep a track of the type of obstacle (we have 3 different types based on their width and height)."
   ]
  },
  {
   "cell_type": "markdown",
   "id": "killing-canberra",
   "metadata": {},
   "source": [
    "```c\n",
    "#define OBS_W_0 10\n",
    "#define OBS_H_0 20\n",
    "#define OBS_W_1 15\n",
    "#define OBS_H_1 30\n",
    "#define OBS_W_2 30\n",
    "#define OBS_H_2 20\n",
    "\n",
    "int obsType;\n",
    "\n",
    "struct Obstacle{\n",
    "    int x, w, h;\n",
    "};\n",
    "struct Obstacle obstacle;\n",
    "```\n",
    "\n",
    "<br>"
   ]
  },
  {
   "cell_type": "markdown",
   "id": "intended-laptop",
   "metadata": {},
   "source": [
    "We initialized the obstacle in main as below:"
   ]
  },
  {
   "cell_type": "markdown",
   "id": "adolescent-margin",
   "metadata": {},
   "source": [
    "```c\n",
    "obsType = randomRange(0, 3);\n",
    "obstacle.x = WIDTH;\n",
    "if(obsType == 0){\n",
    "    obstacle.w = OBS_W_0;\n",
    "    obstacle.h = OBS_H_0;\n",
    "}\n",
    "else if(obsType == 1){\n",
    "    obstacle.w = OBS_W_1;\n",
    "    obstacle.h = OBS_H_1;\n",
    "}\n",
    "else{\n",
    "    obstacle.w = OBS_W_2;\n",
    "    obstacle.h = OBS_H_2;\n",
    "}\n",
    "```\n",
    "\n",
    "<br>"
   ]
  },
  {
   "cell_type": "markdown",
   "id": "prescribed-thermal",
   "metadata": {},
   "source": [
    "Now that we had initialized the obstacle, we needed to update it for every iteration. It was done so by following a simple algorithm:\n",
    "- Update the x-coordinate of the obstacle based on the speed\n",
    "- If the obstacle has reached the left-most edge, reset its parameters\n",
    "\n",
    "This algorithm has been implemented as below:"
   ]
  },
  {
   "cell_type": "markdown",
   "id": "equivalent-daisy",
   "metadata": {},
   "source": [
    "```c\n",
    "tft_fillRect(obstacle.x, (HEIGHT - GROUND_HEIGHT - ((obstacle.h / 2))), obstacle.w, obstacle.h, ILI9340_BLACK);\n",
    "\n",
    "obstacle.x -= SPEED;\n",
    "if(obstacle.x + obstacle.w < 0){\n",
    "    obsType = randomRange(0, 3);\n",
    "    obstacle.x = WIDTH + randomRange(0, 50);\n",
    "    switch(obsType){\n",
    "        case 0: obstacle.w = OBS_W_0;\n",
    "                obstacle.h = OBS_H_0;\n",
    "                break;\n",
    "        case 1: obstacle.w = OBS_W_1;\n",
    "                obstacle.h = OBS_H_1;\n",
    "                break;\n",
    "        case 2: obstacle.w = OBS_W_2;\n",
    "                obstacle.h = OBS_H_2;\n",
    "                break;\n",
    "    }\n",
    "}\n",
    "\n",
    "tft_fillRect(obstacle.x, (HEIGHT - GROUND_HEIGHT - ((obstacle.h / 2))), obstacle.w, obstacle.h, HARD_COLOR); \n",
    "```\n",
    "\n",
    "<br>"
   ]
  },
  {
   "cell_type": "markdown",
   "id": "norwegian-burke",
   "metadata": {},
   "source": [
    "The output obtained after running this code is given below."
   ]
  },
  {
   "cell_type": "markdown",
   "id": "republican-johnson",
   "metadata": {},
   "source": [
    "<div style=\"display: flex; justify-content: center;\">\n",
    "  <img src=\"https://parthssharma.github.io/ECE4760/FinalProject/Files/Week2Obstacle.jfif\" style=\"width: 446px; height: 273px;\" >\n",
    "</div>\n",
    "<figure>\n",
    "    <center><figcaption>The Moving Obstacle Frame</figcaption></center>\n",
    "</figure>"
   ]
  },
  {
   "cell_type": "markdown",
   "id": "sunset-commission",
   "metadata": {},
   "source": [
    "#### 2. Implementing the Dino\n",
    "\n",
    "Now that we had implemented the obstacle, we had to implement the Dino. Just like with implementing the obstacke, we implemented the dino using a `struct`. The dino is a little different from the ground and obstacles. Its x-coordinate is to remain constant and the y-coordinate is to change. It also needs to have a flag in order to keep track of whether the dino is alive or dead and a parameter to keep track of its velocity when it jumps. It is implemented as below."
   ]
  },
  {
   "cell_type": "markdown",
   "id": "rising-sodium",
   "metadata": {},
   "source": [
    "```c\n",
    "struct Player{\n",
    "    int x, y, w, h, vy;\n",
    "    int alive;\n",
    "};\n",
    "struct Player myPlayer;\n",
    "```\n",
    "\n",
    "<br>"
   ]
  },
  {
   "cell_type": "markdown",
   "id": "optical-blind",
   "metadata": {},
   "source": [
    "We initialized the dino (`myPlayer`) in main as below."
   ]
  },
  {
   "cell_type": "markdown",
   "id": "sunrise-suggestion",
   "metadata": {},
   "source": [
    "```c\n",
    "myPlayer.x = 30;\n",
    "myPlayer.y = 0;\n",
    "myPlayer.w = 22;\n",
    "myPlayer.h = 25;\n",
    "myPlayer.vy = 0;\n",
    "myPlayer.alive = 1;\n",
    "```\n",
    "\n",
    "<br>"
   ]
  },
  {
   "cell_type": "markdown",
   "id": "tight-japanese",
   "metadata": {},
   "source": [
    "Now that we had initialized the dino, we needed to update it for every iteration. It was done so by simply clearing old position of the dino and drawing the new position. The jump logic was implemented later on."
   ]
  },
  {
   "cell_type": "markdown",
   "id": "executed-relationship",
   "metadata": {},
   "source": [
    "```c\n",
    "tft_fillRect(myPlayer.x, (HEIGHT - GROUND_HEIGHT - (myPlayer.y + (myPlayer.h / 2))), myPlayer.w, myPlayer.h, ILI9340_BLACK);\n",
    "tft_fillRect(myPlayer.x, (HEIGHT - GROUND_HEIGHT - (myPlayer.y + (myPlayer.h / 2))), myPlayer.w, myPlayer.h, SOFT_COLOR);\n",
    "```\n",
    "\n",
    "<br>"
   ]
  },
  {
   "cell_type": "markdown",
   "id": "structural-aviation",
   "metadata": {},
   "source": [
    "The output obtained after running this code is given below."
   ]
  },
  {
   "cell_type": "markdown",
   "id": "about-future",
   "metadata": {},
   "source": [
    "<div style=\"display: flex; justify-content: center;\">\n",
    "  <img src=\"https://parthssharma.github.io/ECE4760/FinalProject/Files/Week2Dino.jfif\" style=\"width: 446px; height: 273px;\" >\n",
    "</div>\n",
    "<figure>\n",
    "    <center><figcaption>Implementation of the Dino</figcaption></center>\n",
    "</figure>"
   ]
  },
  {
   "cell_type": "markdown",
   "id": "identical-assessment",
   "metadata": {},
   "source": [
    "#### 3. Implementing the GUI\n",
    "\n",
    "In order to create the GUI, we used the [sample code](https://people.ece.cornell.edu/land/courses/ece4760/PIC32/remote/target4/pic_target_4a.txt) provided by Prof. Bruce Land for the Lab 0 of ECE 4760 course and modified it in order to create our GUI. In particular, we changed the `layout` list to add 3 buttons to be used. We also had to bind the corrosponding `ButtonRelease` functionality."
   ]
  },
  {
   "cell_type": "markdown",
   "id": "weekly-scout",
   "metadata": {},
   "source": [
    "```python\n",
    "layout = [[sg.RealtimeButton('START!', key = 'pushbut01', font = 'Helvetica 12'),\n",
    "           sg.RealtimeButton('JUMP!', key = 'pushbut02', font = 'Helvetica 12'),\n",
    "           sg.RealtimeButton('RESTART!', key = 'pushbut03', font = 'Helvetica 12')],\n",
    "            \n",
    "          [sg.Text('Serial data to PIC', background_color = heading_color)],\n",
    "          [sg.InputText('', size = (40, 10), key = 'pic_input', do_not_clear = False, enable_events = False, focus = True),\n",
    "           sg.Button('Send', key = 'pic_send', font = 'Helvetica 12')],\n",
    "           \n",
    "          [sg.Text('Serial data from PIC', background_color = heading_color)],\n",
    "          [sg.Multiline('', size = (50, 10), key = 'console', autoscroll = True, enable_events = False)],\n",
    "          \n",
    "          [sg.Text('System Controls', background_color = heading_color)],\n",
    "          [sg.Button('Exit', font = 'Helvetica 12')],\n",
    "          [sg.Checkbox('reset_enable', key = 'r_en', font = 'Helvetica 8', enable_events = True),\n",
    "           sg.Button('RESET PIC', key = 'rtg', font = 'Helvetica 8')\n",
    "         ]]\n",
    "\n",
    "window['pushbut01'].bind('<ButtonRelease-1>', 'r')\n",
    "window['pushbut02'].bind('<ButtonRelease-1>', 'r')\n",
    "window['pushbut03'].bind('<ButtonRelease-1>', 'r')\n",
    "```\n",
    "\n",
    "<br>"
   ]
  },
  {
   "cell_type": "markdown",
   "id": "indirect-vision",
   "metadata": {},
   "source": [
    "The complete code for the python GUI can be found [here](https://parthssharma.github.io/ECE4760/FinalProject/Files/Week2PythonCode.txt). The generated GUI looks as shown below."
   ]
  },
  {
   "cell_type": "markdown",
   "id": "civic-zambia",
   "metadata": {},
   "source": [
    "<div style=\"display: flex; justify-content: center;\">\n",
    "  <img src=\"https://parthssharma.github.io/ECE4760/FinalProject/Files/Week2GUI.png\" style=\"width: 450px; height: 477px;\" >\n",
    "</div>\n",
    "<figure>\n",
    "    <center><figcaption>The Python GUI</figcaption></center>\n",
    "</figure>"
   ]
  },
  {
   "cell_type": "markdown",
   "id": "bearing-sister",
   "metadata": {},
   "source": [
    "#### 4. Implementing the Jump Algorithm\n",
    "\n",
    "Now that we had created the GUI, we started working on the implementing the jump algorithm. In order to do so, we defined the gravity and the initial velocity at which it jumped. Then for every iteration, we changed the velocity based on gravity and changed the y-coordinate based on the velocity.\n",
    "\n",
    "In order implement the jump algorithm, we added a new `protothread` to serially communicate with the Python GUI. When we press the jump button, we simply change the dino velocity to a predefined velocity and increment the y-coordinate by 1. It has been implemented as below.\n",
    "\n",
    "_Note: We also implemented the `Start` functionality to prevent the game from starting before the user is ready to play. It was quite simple to do, using the `startGame` flag._ "
   ]
  },
  {
   "cell_type": "markdown",
   "id": "widespread-offset",
   "metadata": {},
   "source": [
    "```c\n",
    "#define GRAVITY 1.2\n",
    "#define JUM_VEL 15\n",
    "\n",
    "char startGame = 0;\n",
    "char newButton = 0;\n",
    "char buttonID, buttonValue;\n",
    "```\n",
    "\n",
    "<br>"
   ]
  },
  {
   "cell_type": "markdown",
   "id": "logical-emphasis",
   "metadata": {},
   "source": [
    "We initialized the start screen to display `Press Start` in the main as below."
   ]
  },
  {
   "cell_type": "markdown",
   "id": "tight-poland",
   "metadata": {},
   "source": [
    "```c\n",
    "tft_setTextSize(4);\n",
    "tft_setTextColor(SOFT_COLOR);\n",
    "tft_setCursor(25, 100);\n",
    "tft_writeString(\"Press Start!\");\n",
    "```\n",
    "\n",
    "<br>"
   ]
  },
  {
   "cell_type": "markdown",
   "id": "major-johns",
   "metadata": {},
   "source": [
    "The start screen looks as shown below."
   ]
  },
  {
   "cell_type": "markdown",
   "id": "extra-consensus",
   "metadata": {},
   "source": [
    "<div style=\"display: flex; justify-content: center;\">\n",
    "  <img src=\"https://parthssharma.github.io/ECE4760/FinalProject/Files/Week2StartScreen.jfif\" style=\"width: 446px; height: 273px;\" >\n",
    "</div>\n",
    "<figure>\n",
    "    <center><figcaption>The Start Screen</figcaption></center>\n",
    "</figure>"
   ]
  },
  {
   "cell_type": "markdown",
   "id": "loved-passport",
   "metadata": {},
   "source": [
    "Now that we had our start screen ready, we added a `protothread` to detect for `start` button press and start the game if the button is pressed. It was implemented as shown below."
   ]
  },
  {
   "cell_type": "markdown",
   "id": "fewer-dubai",
   "metadata": {},
   "source": [
    "```c\n",
    "if(buttonID == 1 && buttonValue == 1 && startGame == 0){\n",
    "    startGame = 1;\n",
    "    tft_fillRect(0, 0, WIDTH, HEIGHT, ILI9340_BLACK);\n",
    "}\n",
    "```\n",
    "\n",
    "<br>"
   ]
  },
  {
   "cell_type": "markdown",
   "id": "egyptian-chance",
   "metadata": {},
   "source": [
    "Now once the game had started, we wanted to check for the jump button press. It was implemented in the same protothread as follows."
   ]
  },
  {
   "cell_type": "markdown",
   "id": "clean-original",
   "metadata": {},
   "source": [
    "```c\n",
    "if(buttonID == 2 && buttonValue == 1 && myPlayer.y == 0 && startGame){\n",
    "    myPlayer.vy = JUM_VEL;\n",
    "    myPlayer.y += 1;\n",
    "}\n",
    "```\n",
    "\n",
    "<br>"
   ]
  },
  {
   "cell_type": "markdown",
   "id": "arbitrary-advertiser",
   "metadata": {},
   "source": [
    "Now, once we had updated the velocity and the y-coordinate of the dino, it was fairly straightforward to update the dino and make it jump up and back down. We implemented the logic in the animation thread as below."
   ]
  },
  {
   "cell_type": "markdown",
   "id": "alternate-installation",
   "metadata": {},
   "source": [
    "```c\n",
    "if(myPlayer.y > 0){\n",
    "    myPlayer.y += myPlayer.vy;\n",
    "    myPlayer.vy -= GRAVITY;\n",
    "}\n",
    "else if(myPlayer.y < 0){\n",
    "    myPlayer.y = 0;\n",
    "    myPlayer.vy = 0;\n",
    "}\n",
    "```\n",
    "\n",
    "<br>"
   ]
  },
  {
   "cell_type": "markdown",
   "id": "unusual-curtis",
   "metadata": {},
   "source": [
    "After implementing the jump algorithm, we tested the code out using the GUI. The result is shown below."
   ]
  },
  {
   "cell_type": "markdown",
   "id": "accredited-compatibility",
   "metadata": {},
   "source": [
    "<div style=\"display: flex; justify-content: center;\">\n",
    "  <img src=\"https://parthssharma.github.io/ECE4760/FinalProject/Files/Week2Jump.jfif\" style=\"width: 446px; height: 273px;\" >\n",
    "</div>\n",
    "<figure>\n",
    "    <center><figcaption>The Jump Implementation</figcaption></center>\n",
    "</figure>"
   ]
  },
  {
   "cell_type": "markdown",
   "id": "specialized-warner",
   "metadata": {},
   "source": [
    "#### 5. Implementing the Collision Algorithm\n",
    "\n",
    "Now that everything was ready, we only needed to implement the collision algorithm to finish the game. To do so, we used a simple algorithm to keep a track of hitboxes and test if the hitboxes collide. Once we detect that hitboxes have collided, we simply set the alive flag to false and display the death message. It is implemented as below."
   ]
  },
  {
   "cell_type": "markdown",
   "id": "complete-travel",
   "metadata": {},
   "source": [
    "```c\n",
    "if((myPlayer.x + myPlayer.w > obstacle.x) && (myPlayer.x < obstacle.x + obstacle.w) && (myPlayer.y < obstacle.h)){\n",
    "    myPlayer.alive = 0;\n",
    "    tft_setTextSize(4);\n",
    "    tft_setTextColor(SOFT_COLOR);\n",
    "    tft_setCursor(5, 60);\n",
    "    tft_writeString(\"!!!!!DEAD!!!!!\");\n",
    "}\n",
    "```\n",
    "\n",
    "<br>"
   ]
  },
  {
   "cell_type": "markdown",
   "id": "chemical-shuttle",
   "metadata": {},
   "source": [
    "After implementing the collision algorithm, we tested the code out using the GUI. The result is shown below."
   ]
  },
  {
   "cell_type": "markdown",
   "id": "medium-cookbook",
   "metadata": {},
   "source": [
    "<div style=\"display: flex; justify-content: center;\">\n",
    "  <img src=\"https://parthssharma.github.io/ECE4760/FinalProject/Files/Week2Dead.jfif\" style=\"width: 446px; height: 273px;\" >\n",
    "</div>\n",
    "<figure>\n",
    "    <center><figcaption>The Collision Implementation</figcaption></center>\n",
    "</figure>"
   ]
  },
  {
   "cell_type": "markdown",
   "id": "experienced-lithuania",
   "metadata": {},
   "source": [
    "#### 6. Implementing the Restart Algorithm\n",
    "\n",
    "Now that our basic game was almost ready, the only thing that was left to do was add a restart functionality after our player died. It was implemented as below."
   ]
  },
  {
   "cell_type": "markdown",
   "id": "interracial-fellow",
   "metadata": {},
   "source": [
    "```c\n",
    "if(buttonID == 3 && buttonValue == 1){\n",
    "    startGame = 0;\n",
    "    tft_fillRect(0, 0, WIDTH, HEIGHT, ILI9340_BLACK);\n",
    "    tft_setTextSize(4);\n",
    "    tft_setTextColor(SOFT_COLOR);\n",
    "    tft_setCursor(25, 100);\n",
    "    tft_writeString(\"Press Start!\");\n",
    "\n",
    "    obsType = randomRange(0, 3);\n",
    "    obstacle.x = WIDTH;\n",
    "    if(obsType == 0){\n",
    "        obstacle.w = OBS_W_0;\n",
    "        obstacle.h = OBS_H_0;\n",
    "    }\n",
    "    else if(obsType == 1){\n",
    "        obstacle.w = OBS_W_1;\n",
    "        obstacle.h = OBS_H_1;\n",
    "    }\n",
    "    else{\n",
    "        obstacle.w = OBS_W_2;\n",
    "        obstacle.h = OBS_H_2;\n",
    "    }\n",
    "\n",
    "    myPlayer.y = 0;\n",
    "    myPlayer.vy = 0;\n",
    "    myPlayer.alive = 1;\n",
    "}\n",
    "```\n",
    "\n",
    "<br>"
   ]
  },
  {
   "cell_type": "markdown",
   "id": "collaborative-cleaners",
   "metadata": {},
   "source": [
    "At this stage our game was completely ready (except for the graphics using bitmaps). Therefore, we moved on to the next stage which was implementation of the voice control feature."
   ]
  },
  {
   "cell_type": "markdown",
   "id": "reflected-anaheim",
   "metadata": {},
   "source": [
    "#### 7. Implementing the Voice Control Feature\n",
    "\n",
    "This was probably the most challenging part of the entire project. In order to get the voice input, we used the Analog to Digital Converter (ADC). The ADC was triggered by a timer interrupt. Once we got the ADC input in an array, we fed the array to a Fast Fourier Transform (FFT) function. The FFT function computes the FFT of the input and provides a range of frequency bins. We then computed which bin has the highest power and then used the bin to compute the frequency range with most power. In order to use the ADC, we used the following parameters. Here `F` is the clock frequency and `Fs` is the sampling frequency."
   ]
  },
  {
   "cell_type": "markdown",
   "id": "fancy-sympathy",
   "metadata": {},
   "source": [
    "```c\n",
    "#define F 40000000\n",
    "#define Fs 4000\n",
    "\n",
    "#define PARAM1 ADC_FORMAT_INTG16 | ADC_CLK_AUTO | ADC_AUTO_SAMPLING_OFF\n",
    "#define PARAM2 ADC_VREF_AVDD_AVSS | ADC_OFFSET_CAL_DISABLE | ADC_SCAN_OFF | ADC_SAMPLES_PER_INT_1 | ADC_ALT_BUF_OFF | ADC_ALT_INPUT_OFF\n",
    "#define PARAM3 ADC_CONV_CLK_PB | ADC_SAMPLE_TIME_5 | ADC_CONV_CLK_Tcy2\n",
    "#define PARAM4 ENABLE_AN11_ANA\n",
    "#define PARAM5 SKIP_SCAN_ALL\n",
    "```\n",
    "\n",
    "<br>"
   ]
  },
  {
   "cell_type": "markdown",
   "id": "complimentary-scope",
   "metadata": {},
   "source": [
    "We setup Timer 2 to interrupt at 4000 Hz as below."
   ]
  },
  {
   "cell_type": "markdown",
   "id": "viral-hamilton",
   "metadata": {},
   "source": [
    "```c\n",
    "OpenTimer2(T2_ON | T2_SOURCE_INT | T2_PS_1_1, F / Fs);\n",
    "ConfigIntTimer2(T2_INT_ON | T2_INT_PRIOR_2);\n",
    "mT2ClearIntFlag();\n",
    "```\n",
    "\n",
    "<br>"
   ]
  },
  {
   "cell_type": "markdown",
   "id": "faced-offering",
   "metadata": {},
   "source": [
    "Next, we configured the ADC to read the input as below."
   ]
  },
  {
   "cell_type": "markdown",
   "id": "expired-journalist",
   "metadata": {},
   "source": [
    "```c\n",
    "CloseADC10();\n",
    "SetChanADC10(ADC_CH0_NEG_SAMPLEA_NVREF | ADC_CH0_POS_SAMPLEA_AN11);\n",
    "OpenADC10(PARAM1, PARAM2, PARAM3, PARAM4, PARAM5);\n",
    "EnableADC10();\n",
    "```\n",
    "\n",
    "<br>"
   ]
  },
  {
   "cell_type": "markdown",
   "id": "incorporated-commissioner",
   "metadata": {},
   "source": [
    "In order to read the ADC input, we used a counter variable, an input variable and a fixed point array to store the most recent 512 input values."
   ]
  },
  {
   "cell_type": "markdown",
   "id": "powered-union",
   "metadata": {},
   "source": [
    "```c\n",
    "#define nSamp 512\n",
    "#define nPixels 256\n",
    "#define N_WAVE 512\n",
    "#define LOG2_N_WAVE 9\n",
    "\n",
    "_Accum v_in[nSamp];\n",
    "\n",
    "volatile int adc_9 = 0;\n",
    "int counter = 0;\n",
    "\n",
    "void __ISR(_TIMER_2_VECTOR, ipl2) Timer2Handler(void){\n",
    "    mT2ClearIntFlag();\n",
    "    adc_9 = ReadADC10(0); \n",
    "    AcquireADC10();\n",
    "    \n",
    "    v_in[counter] = int2Accum(adc_9);\n",
    "    counter++;\n",
    "    if(counter == 512){\n",
    "        counter = 0;\n",
    "    }\n",
    "}\n",
    "```\n",
    "\n",
    "<br>"
   ]
  },
  {
   "cell_type": "markdown",
   "id": "derived-weekend",
   "metadata": {},
   "source": [
    "In order to compute the FFT of the input signal, we used an FFT function which takes in a real array and an imaginary array as an input and returns the output in the same real and imaginary arrays. In our case, our input will completely be stored in the real array as it is a voice signal input and the imaginary array will be all 0s."
   ]
  },
  {
   "cell_type": "markdown",
   "id": "general-packing",
   "metadata": {},
   "source": [
    "```c\n",
    "void FFTfix(_Accum fr[], _Accum fi[], int m){\n",
    "    int mr, nn, i, j, L, k, istep, n;\n",
    "    _Accum qr, qi, tr, ti, wr, wi;\n",
    "\n",
    "    mr = 0;\n",
    "    n = 1 << m;\n",
    "    nn = n - 1;\n",
    "    for(m = 1; m <= nn; ++m){\n",
    "        L = n;\n",
    "        do{\n",
    "            L >>= 1;\n",
    "        }\n",
    "        while(mr + L > nn);\n",
    "        mr = (mr & (L - 1)) + L;\n",
    "        if(mr <= m){\n",
    "            continue;\n",
    "        }\n",
    "        tr = fr[m];\n",
    "        fr[m] = fr[mr];\n",
    "        fr[mr] = tr;\n",
    "    }\n",
    "\n",
    "    L = 1;\n",
    "    k = LOG2_N_WAVE - 1;\n",
    "    while(L < n){\n",
    "        istep = L << 1;\n",
    "        for(m = 0; m < L; ++m){\n",
    "            j = m << k;\n",
    "            wr =  Sinewave[j + N_WAVE / 4];\n",
    "            wi = -Sinewave[j];\n",
    "            for(i = m; i < n; i += istep){\n",
    "                j = i + L;\n",
    "                tr = (wr * fr[j]) - (wi * fi[j]);\n",
    "                ti = (wr * fi[j]) + (wi * fr[j]);\n",
    "                qr = fr[i] >> 1;\n",
    "                qi = fi[i] >> 1;\n",
    "                fr[j] = qr - tr;\n",
    "                fi[j] = qi - ti;\n",
    "                fr[i] = qr + tr;\n",
    "                fi[i] = qi + ti;\n",
    "            }\n",
    "        }\n",
    "        --k;\n",
    "        L = istep;\n",
    "    }\n",
    "}\n",
    "```\n",
    "\n",
    "<br>"
   ]
  },
  {
   "cell_type": "markdown",
   "id": "jewish-charge",
   "metadata": {},
   "source": [
    "We also needed to define a fixed point sine table to be used by the FFT function and initialize it in main."
   ]
  },
  {
   "cell_type": "markdown",
   "id": "swiss-filter",
   "metadata": {},
   "source": [
    "```c\n",
    "_Accum Sinewave[N_WAVE];\n",
    "\n",
    "for (i = 0; i < N_WAVE; i++){\n",
    "    Sinewave[i] = float2Accum(sin(6.283 * ((float) i) / N_WAVE) * 0.5);\n",
    "}\n",
    "```\n",
    "\n",
    "<br>"
   ]
  },
  {
   "cell_type": "markdown",
   "id": "actual-still",
   "metadata": {},
   "source": [
    "For the final part of the voice control implementation, we implemented the FFT function to our voice input in the animation `protothread` following a simple algorithm:\n",
    "- For the input array, use a windowing function (Hann Window in this case) to make the input signal periodic and store the result in `fr`.\n",
    "- Initialize the imaginary array `fi` as all 0s.\n",
    "- Use `FFTFix` to compute Fast Fourier Trasnform and store the result in `fr` and `fi`.\n",
    "- For all elements, compute the magnitude of real and imaginary components using `Alpha Max Beta Min` algorithm and store it in `fr`.\n",
    "- Compare all the magnitudes and figure out the bin with the maximum magnitude.\n",
    "- Use the bin with maximum magnitude to compute the frequency at which the magnitude is maximum. If the frequency lies within a certain range, implement the jump algorithm.\n",
    "\n",
    "This Hann window was implemented as below."
   ]
  },
  {
   "cell_type": "markdown",
   "id": "advised-spine",
   "metadata": {},
   "source": [
    "```c\n",
    "_Accum window[N_WAVE];\n",
    "\n",
    "for (i = 0; i < N_WAVE; i++){\n",
    "    window[i] = float2Accum(1.0 - cos(6.283 * ((float) i) / (N_WAVE - 1)));\n",
    "}\n",
    "```\n",
    "\n",
    "<br>"
   ]
  },
  {
   "cell_type": "markdown",
   "id": "minor-envelope",
   "metadata": {},
   "source": [
    "The voice detection algorithm was implemented as below."
   ]
  },
  {
   "cell_type": "markdown",
   "id": "extreme-squad",
   "metadata": {},
   "source": [
    "```c\n",
    "#define FREQ_UPPER 1800\n",
    "#define FREQ_LOWER 1500\n",
    "\n",
    "_Accum maxFreq;\n",
    "\n",
    "for(sample_number = 0; sample_number < nSamp - 1; sample_number++){\n",
    "    fr[sample_number] = v_in[sample_number] * window[sample_number]; \n",
    "    fi[sample_number] = 0 ;\n",
    "}\n",
    "FFTfix(fr, fi, LOG2_N_WAVE);\n",
    "\n",
    "for(sample_number = 0; sample_number < nPixels; sample_number++){  \n",
    "    fr[sample_number] = abs(fr[sample_number]);\n",
    "    fi[sample_number] = abs(fi[sample_number]);\n",
    "    fr[sample_number] = max(fr[sample_number], fi[sample_number]) + (min(fr[sample_number], fi[sample_number]) * zero_point_4); \n",
    "}\n",
    "static maxPower = 3;\n",
    "for(sample_number = 3; sample_number <= nPixels; sample_number++){\n",
    "    if(fr[sample_number] > fr[maxPower]){\n",
    "        maxPower = sample_number;\n",
    "    }\n",
    "}\n",
    "\n",
    "maxFreq = ((int2Accum(Fs) / int2Accum(512)) * int2Accum(maxPower));\n",
    "printf(\"Max Power: %d\\n\", Accum2int(maxFreq));\n",
    "if(maxFreq < int2Accum(FREQ_UPPER) && maxFreq > int2Accum(FREQ_LOWER) && myPlayer.y == 0){\n",
    "    myPlayer.vy = JUM_VEL;\n",
    "    myPlayer.y += 1;\n",
    "}\n",
    "```\n",
    "\n",
    "<br>"
   ]
  },
  {
   "cell_type": "markdown",
   "id": "bright-strength",
   "metadata": {},
   "source": [
    "_Note: We start computing the maximum frequency from the $3^{rd}$ bin as there is a DC offset which will **always** have the maximum power._\n",
    "\n",
    "The complete C code for the end of week 2 can be found [here](https://parthssharma.github.io/ECE4760/FinalProject/Files/Week2Code.c). A video demonstration at the end of week 2 is attached below."
   ]
  },
  {
   "cell_type": "markdown",
   "id": "opposed-plaza",
   "metadata": {},
   "source": [
    "<div style=\"display: flex; justify-content: center;\">\n",
    "    <iframe width=\"560\" height=\"315\" src=\"https://www.youtube.com/embed/eVazdA0NXZE\" title=\"YouTube video player\" frameborder=\"0\" allow=\"accelerometer; autoplay; clipboard-write; encrypted-media; gyroscope; picture-in-picture\" allowfullscreen>\n",
    "    </iframe>\n",
    "</div>\n",
    "<figure>\n",
    "    <center><figcaption>GUI and voice control of the Dino game</figcaption></center>\n",
    "</figure>\n",
    "\n",
    "---"
   ]
  }
 ],
 "metadata": {
  "kernelspec": {
   "display_name": "Python 3",
   "language": "python",
   "name": "python3"
  },
  "language_info": {
   "codemirror_mode": {
    "name": "ipython",
    "version": 3
   },
   "file_extension": ".py",
   "mimetype": "text/x-python",
   "name": "python",
   "nbconvert_exporter": "python",
   "pygments_lexer": "ipython3",
   "version": "3.9.2"
  }
 },
 "nbformat": 4,
 "nbformat_minor": 5
}
