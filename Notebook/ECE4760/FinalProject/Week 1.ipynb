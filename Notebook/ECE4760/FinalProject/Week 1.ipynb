{
 "cells": [
  {
   "cell_type": "markdown",
   "id": "adjusted-addiction",
   "metadata": {},
   "source": [
    "# Week 1\n",
    "\n",
    "During week 1 of the project, we setup a basic program to display a moving ground frame on the TFT screen attached to the PIC microcontroller.\n",
    "\n",
    "---"
   ]
  },
  {
   "cell_type": "markdown",
   "id": "hazardous-atmosphere",
   "metadata": {},
   "source": [
    "## The Design\n",
    "\n",
    "In order to create the running ground, we used a simple trick of moving some streaks of white color to the left with each passing frame. Each streak of the ground is a `struct` stored in an array of grounds. It is implemented as below:"
   ]
  },
  {
   "cell_type": "markdown",
   "id": "pleasant-cornell",
   "metadata": {},
   "source": [
    "```c\n",
    "#define GROUND_SIZE 10\n",
    "struct Ground{\n",
    "    int x, y, w;\n",
    "};\n",
    "struct Ground ground[GROUND_SIZE];\n",
    "```"
   ]
  },
  {
   "cell_type": "markdown",
   "id": "reduced-liquid",
   "metadata": {},
   "source": [
    "In order to first initialize all the elements of the array, we loop through the array and randomize the x-coordinate, the y-coordinate and the width of the ground. To do so, we use an inline random function as implemented below:"
   ]
  },
  {
   "cell_type": "markdown",
   "id": "earlier-metadata",
   "metadata": {},
   "source": [
    "```c\n",
    "inline int randomRange(int min, int max){\n",
    "    return (rand() % (max - min)) + min;\n",
    "}\n",
    "```"
   ]
  },
  {
   "cell_type": "markdown",
   "id": "juvenile-theory",
   "metadata": {},
   "source": [
    "This random function takes in two arguments: a lower limit and an upper limit. It returns an integer between the said limits. Now that we had the `randomRange` function, we implemented a `for` loop to initialize all the parameters in `main` as below:"
   ]
  },
  {
   "cell_type": "markdown",
   "id": "moved-spirit",
   "metadata": {},
   "source": [
    "```c\n",
    "for(i = 0; i < GROUND_SIZE; i++){\n",
    "    ground[i].x = randomRange(0, WIDTH);\n",
    "    ground[i].y = randomRange(HEIGHT - GROUND_HEIGHT + 10, HEIGHT);\n",
    "    ground[i].w = randomRange(3, 10);\n",
    "}\n",
    "```"
   ]
  },
  {
   "cell_type": "markdown",
   "id": "dutch-coordinate",
   "metadata": {},
   "source": [
    "Now that we had an initialized array of streaks on the ground, we needed to update it for every iteration. It was done so by following a simple algorithm:\n",
    "- Loop through each element in the ground array\n",
    "- Update the x-coordinate of the element based on the speed\n",
    "- If an element has reached the left-most edge, reset its parameters\n",
    "\n",
    "This algorithm has been implemented as below:"
   ]
  },
  {
   "cell_type": "markdown",
   "id": "critical-sacrifice",
   "metadata": {},
   "source": [
    "```c\n",
    "for(i = 0; i < GROUND_SIZE; i++){\n",
    "    ground[i].x -= SPEED;\n",
    "    if(ground[i].x + ground[i].w <= 0){\n",
    "        ground[i].x = WIDTH;\n",
    "        ground[i].y = randomRange(HEIGHT - GROUND_HEIGHT + 10, HEIGHT);\n",
    "        ground[i].w = randomRange(3, 10);\n",
    "    }\n",
    "}\n",
    "```"
   ]
  },
  {
   "cell_type": "markdown",
   "id": "electronic-enemy",
   "metadata": {},
   "source": [
    "The complete code for the end of week 1 can be found [here](https://parthssharma.github.io/ECE4760/FinalProject/Files/Week1Code.c). The output obtained by running the code at the end of week 1 is shown below."
   ]
  },
  {
   "cell_type": "markdown",
   "id": "formal-dubai",
   "metadata": {},
   "source": [
    "<div style=\"display: flex; justify-content: center;\">\n",
    "  <img src=\"https://parthssharma.github.io/ECE4760/FinalProject/Files/Week1Ground.jfif\" style=\"width: 446px; height: 273px;\" >\n",
    "</div>\n",
    "<figure>\n",
    "    <center><figcaption>The Moving Ground Frame</figcaption></center>\n",
    "</figure>\n",
    "\n",
    "---"
   ]
  }
 ],
 "metadata": {
  "kernelspec": {
   "display_name": "Python 3",
   "language": "python",
   "name": "python3"
  },
  "language_info": {
   "codemirror_mode": {
    "name": "ipython",
    "version": 3
   },
   "file_extension": ".py",
   "mimetype": "text/x-python",
   "name": "python",
   "nbconvert_exporter": "python",
   "pygments_lexer": "ipython3",
   "version": "3.9.2"
  }
 },
 "nbformat": 4,
 "nbformat_minor": 5
}
