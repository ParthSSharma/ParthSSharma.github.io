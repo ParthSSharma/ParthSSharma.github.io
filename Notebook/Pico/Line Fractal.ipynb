{
 "cells": [
  {
   "cell_type": "markdown",
   "id": "higher-input",
   "metadata": {},
   "source": [
    "# Line Fractal\n",
    "\n",
    "This program was my attempt to draw fractals on a VGA screen using Prof. Hunter Adam's [VGA Library](https://vha3.github.io/Pico/VGA/VGA.html) for the RaspberryPi Pico. The resources for the project include the [C SDK User Guide](https://datasheets.raspberrypi.org/pico/raspberry-pi-pico-c-sdk.pdf), the [RP2040 Datasheet](https://datasheets.raspberrypi.org/rp2040/rp2040-datasheet.pdf) and Prof. Hunter's [website](https://vha3.github.io/). I also used the [Nature of Code](https://natureofcode.com/book/) series by [Daniel Shiffman](https://shiffman.net/) as a starting point for studying fractals.\n",
    "\n",
    "---"
   ]
  },
  {
   "cell_type": "markdown",
   "id": "coral-municipality",
   "metadata": {},
   "source": [
    "## About Fractals\n",
    "\n",
    "According to Nature of Code's [fractal page](https://natureofcode.com/book/chapter-8-fractals/), the term **fractal** (from the Latin fractus, meaning “broken”) was coined by the mathematician Benoit Mandelbrot in 1975. In his seminal work “The Fractal Geometry of Nature,” he defines a fractal as “a rough or fragmented geometric shape that can be split into parts, each of which is (at least approximately) a reduced-size copy of the whole.” In short, a fractal is a shape which when divided into various parts, each part can represent the figure as a whole.\n",
    "\n",
    "---"
   ]
  },
  {
   "cell_type": "markdown",
   "id": "curious-replacement",
   "metadata": {},
   "source": [
    "## Recursion\n",
    "\n",
    "The repeated application of a rule to successive results is known as recursion. One of the most famous applications for recursion is the calculation of factorical. The factorial of a natural number is defined as:\n",
    "\n",
    "\\begin{align}\n",
    "n! &= n \\times (n-1)! \\\\\n",
    "0! &= 1\n",
    "\\end{align}\n",
    "\n",
    "For instance, solving for 5! looks like:\n",
    "\\begin{align}\n",
    "5! &= 5 \\times 4! \\\\\n",
    "5! &= 5 \\times 4 \\times 3! \\\\\n",
    "5! &= 5 \\times 4 \\times 3 \\times 2! \\\\\n",
    "5! &= 5 \\times 4 \\times 3 \\times 2 \\times 1! \\\\\n",
    "5! &= 5 \\times 4 \\times 3 \\times 2 \\times 1 \\\\\n",
    "5! &= 120\n",
    "\\end{align}\n",
    "\n",
    "_Note: Recursions must always have a base case and that too at a reasonable depth, else it will cause a stack overflow error._\n",
    "\n",
    "---"
   ]
  },
  {
   "cell_type": "markdown",
   "id": "refined-energy",
   "metadata": {},
   "source": [
    "## The complete code"
   ]
  },
  {
   "cell_type": "markdown",
   "id": "educated-marble",
   "metadata": {},
   "source": [
    "```c\n",
    "/*\n",
    " * Parth Sarthi Sharma (pss242@cornell.edu)\n",
    " * Code based on examples from Raspberry Pi Foundation.\n",
    " * This code is an implementation of a circle fractal\n",
    " * on the Raspberry Pi Pico to draw a pattern. The pattern is developed\n",
    " * by recursively calling a function by reducing a parameter until a base condition is met.\n",
    " */\n",
    "#include <stdio.h> //The standard C library\n",
    "#include <math.h> //The standard math library\n",
    "#include \"pico/stdlib.h\" //Standard library for Pico\n",
    "#include \"hardware/pio.h\" //The hardware PIO library\n",
    "#include \"hardware/dma.h\" //The hardware DMA library\n",
    "#include \"pico/time.h\" //The pico time library\n",
    "#include \"hardware/gpio.h\" //The hardware GPIO library\n",
    "#include \"pico/multicore.h\" //The pico multicore library\n",
    "#include \"vga_graphics.h\" //The graphics library\n",
    "\n",
    "#define HEIGHT 480 //Height of the VGA screen\n",
    "#define WIDTH 640 //Width of the VGA screen\n",
    "\n",
    "void makeCircleFractal(int x, int y, float radius){ //Function to recursively draw a circle fractal\n",
    "  drawCircle(x, y, radius, WHITE); //Draw a circle\n",
    "  if(radius > 8){ //If the radius is greater than 8\n",
    "    makeCircleFractal(x + radius / 2, y, radius / 3); //Start another function with shifted x-coordinate and 1/3rd the radius\n",
    "\tmakeCircleFractal(x - radius / 2, y, radius / 3); //Start another function with shifted x-coordinate and 1/3rd the radius\n",
    "\tmakeCircleFractal(x, y + radius / 2, radius / 3); //Start another function with shifted y-coordinate and 1/3rd the radius\n",
    "\tmakeCircleFractal(x, y - radius / 2, radius / 3); //Start another function with shifted y-coordinate and 1/3rd the radius\n",
    "  }\n",
    "}\n",
    "\n",
    "int main(){ //The program running on core 0\n",
    "\tstdio_init_all(); //Initialize all of the present standard stdio types that are linked into the binary\n",
    "\tinitVGA(); //Initialize the VGA screen and functions\n",
    "\tmakeCircleFractal(WIDTH / 2, HEIGHT / 2, 300); //Start the fractal function from the centre of the screen with 300 radius\n",
    "}\n",
    "\n",
    "```\n",
    "\n",
    "---\n",
    "\n",
    "<br>"
   ]
  },
  {
   "cell_type": "markdown",
   "id": "coordinate-hospital",
   "metadata": {},
   "source": [
    "## The output"
   ]
  },
  {
   "cell_type": "markdown",
   "id": "numerical-thing",
   "metadata": {},
   "source": [
    "<div style=\"display: flex; justify-content: center;\">\n",
    "  <img src=\"https://parthssharma.github.io/Pico/Files/LineFractal.jpg\" style=\"width: 600px; height: 453px;\" >\n",
    "</div>\n",
    "<figure>\n",
    "    <center><figcaption>The generated fractals</figcaption></center>\n",
    "</figure>\n",
    "\n",
    "---\n",
    "\n",
    "---"
   ]
  },
  {
   "cell_type": "markdown",
   "id": "handmade-talent",
   "metadata": {},
   "source": [
    "## CMakeLists.txt"
   ]
  },
  {
   "cell_type": "markdown",
   "id": "organic-degree",
   "metadata": {},
   "source": [
    "```cmake\n",
    "cmake_minimum_required(VERSION 3.13)\n",
    "\n",
    "include(pico_sdk_import.cmake)\n",
    "\n",
    "project(LineFractal-project)\n",
    "\n",
    "pico_sdk_init()\n",
    "\n",
    "add_executable(LineFractal)\n",
    "\n",
    "pico_enable_stdio_usb(LineFractal 1)\n",
    "pico_enable_stdio_uart(LineFractal 1)\n",
    "\n",
    "pico_generate_pio_header(LineFractal ${CMAKE_CURRENT_LIST_DIR}/hsync.pio)\n",
    "pico_generate_pio_header(LineFractal ${CMAKE_CURRENT_LIST_DIR}/vsync.pio)\n",
    "pico_generate_pio_header(LineFractal ${CMAKE_CURRENT_LIST_DIR}/rgb.pio)\n",
    "\n",
    "target_sources(LineFractal PRIVATE LineFractal.c vga_graphics.c)\n",
    "\n",
    "target_link_libraries(LineFractal PRIVATE pico_stdlib hardware_pio hardware_dma hardware_adc hardware_irq pico_time pico_multicore)\n",
    "\n",
    "pico_add_extra_outputs(LineFractal)\n",
    "\n",
    "\n",
    "```\n",
    "\n",
    "---"
   ]
  }
 ],
 "metadata": {
  "kernelspec": {
   "display_name": "Python 3",
   "language": "python",
   "name": "python3"
  },
  "language_info": {
   "codemirror_mode": {
    "name": "ipython",
    "version": 3
   },
   "file_extension": ".py",
   "mimetype": "text/x-python",
   "name": "python",
   "nbconvert_exporter": "python",
   "pygments_lexer": "ipython3",
   "version": "3.9.2"
  }
 },
 "nbformat": 4,
 "nbformat_minor": 5
}
