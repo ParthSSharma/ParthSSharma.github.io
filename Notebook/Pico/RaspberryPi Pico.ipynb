{
 "cells": [
  {
   "cell_type": "markdown",
   "id": "handled-republic",
   "metadata": {},
   "source": [
    "# The RaspberryPi Pico\n",
    "\n",
    "As a part of my MEng Project at Cornell University, I have worked intensively with the new [RaspberryPi Pico](https://www.raspberrypi.org/products/raspberry-pi-pico/) microcontroller under the guidance of [Prof. Van Hunter Adams](https://www.engineering.cornell.edu/faculty-directory/hunter-adams) and [Prof. Bruce Robert Land](https://www.ece.cornell.edu/faculty-directory/bruce-robert-land).\n",
    "\n",
    "---"
   ]
  },
  {
   "cell_type": "markdown",
   "id": "handed-tolerance",
   "metadata": {},
   "source": [
    "> - [Introduction](https://parthssharma.github.io/Pico/Pico.html#Introduction)\n",
    "> - [Programming the Pico](https://parthssharma.github.io/Pico/Pico.html#Programming-the-Pico)\n",
    "> - [Progress along the way](https://parthssharma.github.io/Pico/Pico.html#Progress-along-the-way)\n",
    "\n",
    "---"
   ]
  },
  {
   "cell_type": "markdown",
   "id": "presidential-annotation",
   "metadata": {},
   "source": [
    "## Introduction\n",
    "The Raspberry Pi Pico is a tiny, fast, and versatile board built using RP2040, a brand new microcontroller chip designed by Raspberry Pi foundation. It features:\n",
    "- Dual-core Arm Cortex M0+ processor, flexible clock running up to 133 MHz\n",
    "- 264KB of SRAM, and 2MB of on-board Flash memory\n",
    "- Low-power sleep and dormant modes\n",
    "- Drag-and-drop programming using mass storage over USB\n",
    "- 26 × multi-function GPIO pins\n",
    "- 2 × SPI, 2 × I2C, 2 × UART, 3 × 12-bit ADC, 16 × controllable PWM channels\n",
    "- An on-board temperature sensor\n",
    "- 8 × Programmable I/O (PIO) state machines for custom peripheral support\n",
    "- Support for C and Python\n",
    "\n",
    "---"
   ]
  },
  {
   "cell_type": "markdown",
   "id": "apparent-assumption",
   "metadata": {},
   "source": [
    "## Programming the Pico\n",
    "The Raspberry Pi Pico can be programmed using **C** as well as the **Python** programming language. I chose to program using C because of the following reasons:\n",
    "1. A C program is compiled, and is thus faster than Python.\n",
    "2. I have more experience working with C and is therefore more comfortable for me.\n",
    "\n",
    "---"
   ]
  },
  {
   "cell_type": "markdown",
   "id": "unlimited-being",
   "metadata": {},
   "source": [
    "## Progress along the way\n",
    "In order to keep track of my progress along the way, I have documented what I did along the way.\n",
    "> - [Setting up the Raspberry Pi Pico for C/C++ Development on Windows](https://parthssharma.github.io/Pico/Setup.html)\n",
    "> - [Creating a new C/C++ Raspberry Pi Pico Project on Windows](https://parthssharma.github.io/Pico/CreateProject.html)\n",
    "> - [Understanding the C/C++ SDK architecture for the Raspberry Pi Pico](https://parthssharma.github.io/Pico/SDKArchitecture.html)\n",
    "\n",
    "> Over the course of the project, I covered the following topics (not necessarily in the order).\n",
    "> > Basic GPIO\n",
    "> > > - [LED Blink (Hello World)](https://parthssharma.github.io/Pico/LEDBlink.html)\n",
    "> > > - [LED PWM](https://parthssharma.github.io/Pico/LEDPWM.html)\n",
    "> > > - [ADC Input](https://parthssharma.github.io/Pico/ADCInput.html)\n",
    "> > > - [ADC Input UART](https://parthssharma.github.io/Pico/ADCInputUART.html)\n",
    "\n",
    "> > Timer\n",
    "> > > - [Timer Basic](https://parthssharma.github.io/Pico/TimerBasic.html)\n",
    "\n",
    "> > Multi Core\n",
    "> > > - [Multi Core Basic](https://parthssharma.github.io/Pico/MultiCoreBasic.html)\n",
    "> > > - [Multi Core Performance Compare](https://parthssharma.github.io/Pico/MultiCorePerformanceCompare.html)\n",
    "> > > - [Multi Core Contention](https://parthssharma.github.io/Pico/MultiCoreContention.html)\n",
    "> > > - [Multi Core Contention Prevention](https://parthssharma.github.io/Pico/MultiCoreContentionPrevention.html)\n",
    "\n",
    "---"
   ]
  }
 ],
 "metadata": {
  "kernelspec": {
   "display_name": "Python 3",
   "language": "python",
   "name": "python3"
  },
  "language_info": {
   "codemirror_mode": {
    "name": "ipython",
    "version": 3
   },
   "file_extension": ".py",
   "mimetype": "text/x-python",
   "name": "python",
   "nbconvert_exporter": "python",
   "pygments_lexer": "ipython3",
   "version": "3.9.2"
  }
 },
 "nbformat": 4,
 "nbformat_minor": 5
}
