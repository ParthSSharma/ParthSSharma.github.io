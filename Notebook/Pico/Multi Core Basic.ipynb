{
 "cells": [
  {
   "cell_type": "markdown",
   "id": "acquired-ministry",
   "metadata": {},
   "source": [
    "# Multi Core Basic\n",
    "\n",
    "RP2040 has Dual Cortex M0+ processor cores which can run upto 133MHz independent of each other. However, the second core (core 1) is asleep on boot and needs to be waken up by a function call from the first core (core 0). This program blinks 2 LEDs by controlling them separately from each core. The resources for the project include the [C SDK User Guide](https://datasheets.raspberrypi.org/pico/raspberry-pi-pico-c-sdk.pdf), the [RP2040 Datasheet](https://datasheets.raspberrypi.org/rp2040/rp2040-datasheet.pdf) and Prof. Hunter's [website](https://vha3.github.io/).\n",
    "\n",
    "---"
   ]
  },
  {
   "cell_type": "markdown",
   "id": "pressed-rogers",
   "metadata": {},
   "source": [
    "## The complete code"
   ]
  },
  {
   "cell_type": "markdown",
   "id": "proprietary-float",
   "metadata": {},
   "source": [
    "```c\n",
    "/*\n",
    " * Parth Sarthi Sharma (pss242@cornell.edu)\n",
    " * Code based on examples from Raspberry Pi Foundation.\n",
    " * The code wakes up core 1 from its slumber and controles\n",
    " * an LED from each core.\n",
    " */\n",
    "#include <stdio.h> //The standard C library\n",
    "#include \"pico/stdlib.h\" //Standard library for Pico\n",
    "#include \"pico/time.h\" //The pico time library\n",
    "#include \"pico/multicore.h\" //The pico multicore library\n",
    "#include \"hardware/gpio.h\" //The hardware GPIO library\n",
    "\n",
    "#define LED1 2 //The LED1 Pin\n",
    "#define LED2 3 //The LED2 Pin\n",
    "\n",
    "void core1_entry() { //The program running on core 1\n",
    "\tgpio_init(LED2); //Initialize the LED2 pin\n",
    "\tgpio_set_dir(LED2, GPIO_OUT); //Initialize the LED2 pin to be output\n",
    "\twhile(1){ //While eternity\n",
    "\t\tprintf(\"LED2 On\\n\"); //Print \"LED2 On\\n\" on the serial monitor\n",
    "\t\tgpio_put(LED2, 1); //Turn the LED2 on\n",
    "\t\tsleep_ms(300); //Sleep for 300 milliseconds\n",
    "\t\tprintf(\"LED2 Off\\n\"); //Print \"LED2 Off\\n\" on the serial monitor\n",
    "\t\tgpio_put(LED2, 0); //Turn the LED2 off\n",
    "\t\tsleep_ms(300); //Sleep for 300 milliseconds\n",
    "\t}\n",
    "}\n",
    "\n",
    "int main() { //The program running on core 0\n",
    "    stdio_init_all(); //Initialize all of the present standard stdio types that are linked into the binary\n",
    "\t\n",
    "\tgpio_init(LED1); //Initialize the LED1 pin\n",
    "\tgpio_set_dir(LED1, GPIO_OUT); //Initialize the LED1 pin to be output\n",
    "\t\n",
    "\tmulticore_launch_core1(core1_entry); //Reset core1 and enter the core1_entry function on core 1 using the default core 1 stack\n",
    "\twhile(1){ //While eternity\n",
    "\t\tprintf(\"LED1 On\\n\"); //Print \"LED1 On\\n\" on the serial monitor\n",
    "\t\tgpio_put(LED1, 1); //Turn the LED1 on\n",
    "\t\tsleep_ms(500); //Sleep for 500 milliseconds\n",
    "\t\tprintf(\"LED1 Off\\n\"); //Print \"LED1 Off\\n\" on the serial monitor\n",
    "\t\tgpio_put(LED1, 0); //Turn the LED1 off\n",
    "\t\tsleep_ms(500); //Sleep for 500 milliseconds\n",
    "\t}\n",
    "}\n",
    "```\n",
    "\n",
    "---\n",
    "\n",
    "<br>"
   ]
  },
  {
   "cell_type": "markdown",
   "id": "theoretical-garden",
   "metadata": {},
   "source": [
    "## Stepping through the code\n",
    "\n",
    "### Includes\n",
    "\n",
    "The first lines of code in the C source file include some header files. One of these is standard C headers (`stdio.h`) and the others are headers which come from the C SDK for the Raspberry Pi Pico. The first of these, `pico/stdlib.h` is what the SDK calls a \"High-Level API.\" These high-level API's \"provide higher level functionality that isn’t hardware related or provides a richer set of functionality above the basic hardware interfaces.\" The architecture of this SDK is described at length in the SDK manual. All libraries within the SDK are INTERFACE libraries.\n",
    "\n",
    "The next includes pull in hardware APIs which are not already brought in by `pico/stdlib.h`. These include `hardware/gpio.h`, `pico/time.h` and `pico/multicore.h`. As the names suggest, these interface libraries give us access to the API's associated with the hardware GPIO, pico time and pico multicore on the RP2040.\n",
    "\n",
    "**Don't forget to link these in the CMakeLists.txt file!**"
   ]
  },
  {
   "cell_type": "markdown",
   "id": "nervous-secretary",
   "metadata": {},
   "source": [
    "```c\n",
    "#include <stdio.h>\n",
    "#include \"pico/stdlib.h\"\n",
    "#include \"pico/time.h\"\n",
    "#include \"pico/multicore.h\"\n",
    "#include \"hardware/gpio.h\"\n",
    "```\n",
    "\n",
    "<br>"
   ]
  },
  {
   "cell_type": "markdown",
   "id": "protective-lodge",
   "metadata": {},
   "source": [
    "### Global declarations and defines\n",
    "\n",
    "The next section of the code is basically two `#define`'s which define the GPIO pins for the LEDs."
   ]
  },
  {
   "cell_type": "markdown",
   "id": "looking-table",
   "metadata": {},
   "source": [
    "```c\n",
    "#define LED1 2\n",
    "#define LED2 3\n",
    "```\n",
    "\n",
    "<br>"
   ]
  },
  {
   "cell_type": "markdown",
   "id": "offshore-bedroom",
   "metadata": {},
   "source": [
    "### Core 1 function\n",
    "\n",
    "The core 1 function is the function which runs on the core 1 once it wakes up from its slumber. In other terms, this function is the `main()` function for core 1 and runs independent of the actual `main()` function running on core 0 (unless there is an intra-core communication). The `core1_entry()` function initializes the LED2 pin and configures it to be the output pin. The `gpio_init()` function is used to initialize the pin and the `gpio_set_dir()` function us used to set the pin direction which can be GPIO_OUT (output) or GPIO_IN (input). Then, in an infinite while loop, it turns the LED on and off at regular intervals using the `gpio_put()` function and sleeps for 300 milliseconds using the `sleep_ms()` function. _Note: This will only put core 1 to sleep and not core 0._"
   ]
  },
  {
   "cell_type": "markdown",
   "id": "hidden-limitation",
   "metadata": {},
   "source": [
    "```c\n",
    "void core1_entry() {\n",
    "\tgpio_init(LED2);\n",
    "\tgpio_set_dir(LED2, GPIO_OUT);\n",
    "\twhile(1){\n",
    "\t\tprintf(\"LED2 On\\n\");\n",
    "\t\tgpio_put(LED2, 1);\n",
    "\t\tsleep_ms(300);\n",
    "\t\tprintf(\"LED2 Off\\n\");\n",
    "\t\tgpio_put(LED2, 0);\n",
    "\t\tsleep_ms(300);\n",
    "\t}\n",
    "}\n",
    "```\n",
    "\n",
    "<br>"
   ]
  },
  {
   "cell_type": "markdown",
   "id": "equivalent-prairie",
   "metadata": {},
   "source": [
    "### The main function\n",
    "\n",
    "#### Initializing communication\n",
    "\n",
    "The first line in `main()` is a call to `stdio_init_all()`. This function initializes stdio to communicate through either UART or USB, depending on the configurations in the CMakeLists.txt file."
   ]
  },
  {
   "cell_type": "markdown",
   "id": "separate-rochester",
   "metadata": {},
   "source": [
    "```c\n",
    "stdio_init_all();\n",
    "```\n",
    "\n",
    "<br>"
   ]
  },
  {
   "cell_type": "markdown",
   "id": "lovely-third",
   "metadata": {},
   "source": [
    "#### GPIO initialization and configuration\n",
    "\n",
    "In the next 2 lines of the code, I initialized the LED1 pin and configured it to be the output pin. The `gpio_init()` function is used to initialize the pin and the `gpio_set_dir()` function us used to set the pin direction which can be `GPIO_OUT` (output) or `GPIO_IN` (input)."
   ]
  },
  {
   "cell_type": "markdown",
   "id": "military-andrews",
   "metadata": {},
   "source": [
    "```c\n",
    "gpio_init(LED2);\n",
    "gpio_set_dir(LED2, GPIO_OUT);\n",
    "```\n",
    "\n",
    "<br>"
   ]
  },
  {
   "cell_type": "markdown",
   "id": "hollow-pickup",
   "metadata": {},
   "source": [
    "#### Waking up core 1 from its sleep\n",
    "\n",
    "In order to wake up the core 1 from sleep, I used the `multicore_launch_core1()` function. This function resets core 1 and enters the given function on core 1 using the default core 1 stack (below core 0 stack)."
   ]
  },
  {
   "cell_type": "markdown",
   "id": "statewide-campus",
   "metadata": {},
   "source": [
    "```c\n",
    "multicore_launch_core1(core1_entry);\n",
    "```\n",
    "\n",
    "<br>"
   ]
  },
  {
   "cell_type": "markdown",
   "id": "canadian-chick",
   "metadata": {},
   "source": [
    "#### The infinite while loop\n",
    "\n",
    "This is the loop which which runs forever and executes the code sequentially. It basically contains 2 subsections: turning the LED1 on and turning the LED1 off. I also used the `printf()` statement to print the output to the screen. In order to see the output, I used the serial monitor provided by the Arduino IDE. Then I used `gpio_put()` to set the pins `HIGH` or `LOW`. Lastly, I used the `sleep_ms()` to put the CPU to sleep for 1 second for both `HIGH` and `LOW`. This infinite while loop runs in parallel with the infinite while loop on core 1."
   ]
  },
  {
   "cell_type": "markdown",
   "id": "computational-police",
   "metadata": {},
   "source": [
    "```c\n",
    "while(1){\n",
    "\tprintf(\"LED1 On\\n\");\n",
    "\tgpio_put(LED1, 1);\n",
    "\tsleep_ms(500);\n",
    "\tprintf(\"LED1 Off\\n\");\n",
    "\tgpio_put(LED1, 0);\n",
    "\tsleep_ms(500);\n",
    "}\n",
    "```\n",
    "\n",
    "---\n",
    "\n",
    "<br>"
   ]
  },
  {
   "cell_type": "markdown",
   "id": "maritime-location",
   "metadata": {},
   "source": [
    "## The output\n",
    "\n",
    "In order to view the output, I used the serial monitor provided by the Arduino IDE. As it shows, the two LEDs are toggling simultaneously."
   ]
  },
  {
   "cell_type": "markdown",
   "id": "infrared-legislature",
   "metadata": {},
   "source": [
    "<div style=\"display: flex; justify-content: center;\">\n",
    "  <img src=\"https://parthssharma.github.io/Pico/Files/MultiCoreTestOutput.png\" style=\"width: 1001px; height: 447px;\" >\n",
    "</div>\n",
    "<figure>\n",
    "    <center><figcaption>Output of the Multicore Test</figcaption></center>\n",
    "</figure>\n",
    "\n",
    "---\n",
    "\n",
    "<br>"
   ]
  },
  {
   "cell_type": "markdown",
   "id": "serial-harvard",
   "metadata": {},
   "source": [
    "## CMakeLists.txt"
   ]
  },
  {
   "cell_type": "markdown",
   "id": "scenic-nudist",
   "metadata": {},
   "source": [
    "```cmake\n",
    "cmake_minimum_required(VERSION 3.13)\n",
    "\n",
    "include(pico_sdk_import.cmake)\n",
    "\n",
    "project(MultiTest)\n",
    "\n",
    "pico_sdk_init()\n",
    "\n",
    "add_executable(MultiTest MultiTest.c)\n",
    "\n",
    "pico_enable_stdio_usb(MultiTest 1)\n",
    "pico_enable_stdio_uart(MultiTest 1)\n",
    "\n",
    "pico_add_extra_outputs(MultiTest)\n",
    "\n",
    "target_link_libraries(MultiTest pico_stdlib pico_time pico_multicore hardware_gpio)\n",
    "```\n",
    "\n",
    "---\n",
    "\n",
    "<br>"
   ]
  }
 ],
 "metadata": {
  "kernelspec": {
   "display_name": "Python 3",
   "language": "python",
   "name": "python3"
  },
  "language_info": {
   "codemirror_mode": {
    "name": "ipython",
    "version": 3
   },
   "file_extension": ".py",
   "mimetype": "text/x-python",
   "name": "python",
   "nbconvert_exporter": "python",
   "pygments_lexer": "ipython3",
   "version": "3.9.2"
  }
 },
 "nbformat": 4,
 "nbformat_minor": 5
}
