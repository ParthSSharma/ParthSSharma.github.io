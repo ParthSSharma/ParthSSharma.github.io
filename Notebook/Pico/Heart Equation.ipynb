{
 "cells": [
  {
   "cell_type": "markdown",
   "id": "higher-input",
   "metadata": {},
   "source": [
    "# Heart Equation\n",
    "\n",
    "This program was my attempt to plot a given equation on a VGA screen using Prof. Hunter Adam's [VGA Library](https://vha3.github.io/Pico/VGA/VGA.html) for the RaspberryPi Pico. The resources for the project include the [C SDK User Guide](https://datasheets.raspberrypi.org/pico/raspberry-pi-pico-c-sdk.pdf), the [RP2040 Datasheet](https://datasheets.raspberrypi.org/rp2040/rp2040-datasheet.pdf) and Prof. Hunter's [website](https://vha3.github.io/).\n",
    "\n",
    "---"
   ]
  },
  {
   "cell_type": "markdown",
   "id": "coral-municipality",
   "metadata": {},
   "source": [
    "## The Equation\n",
    "\n",
    "The equation I chose the following equation to plot:\n",
    "\n",
    "\\begin{align}\n",
    "\\left(sin\\left(a \\times \\frac{\\pi}{10}\\right) + x\\right)^2 + \\left(cos\\left(a \\times \\frac{\\pi}{10}\\right) + y\\right)^2 = 0.7|x|y + 1\n",
    "\\end{align}\n",
    "\n",
    "Here, different values of $a$ give different graphs, which when put together give the shape of a heart.\n",
    "\n",
    "Using [desmos](https://www.desmos.com/calculator), the plotted equation looks as shown."
   ]
  },
  {
   "cell_type": "markdown",
   "id": "curious-replacement",
   "metadata": {},
   "source": [
    "<div style=\"display: flex; justify-content: center;\">\n",
    "  <img src=\"https://parthssharma.github.io/Pico/Files/SinCosTanDesmos.png\" style=\"width: 851px; height: 400px;\" >\n",
    "</div>\n",
    "<figure>\n",
    "    <center><figcaption>The plot of the equation on Desmos</figcaption></center>\n",
    "</figure>\n",
    "\n",
    "---"
   ]
  },
  {
   "cell_type": "markdown",
   "id": "refined-energy",
   "metadata": {},
   "source": [
    "## The complete code"
   ]
  },
  {
   "cell_type": "markdown",
   "id": "educated-marble",
   "metadata": {},
   "source": [
    "```c\n",
    "/*\n",
    " * Parth Sarthi Sharma (pss242@cornell.edu)\n",
    " * Code based on examples from Raspberry Pi Foundation.\n",
    " * This code is an implementation of a custom heart function\n",
    " * on the Raspberry Pi Pico to draw a pattern.\n",
    " */\n",
    "#include <stdio.h> //The standard C library\n",
    "#include <math.h> //The standard math library\n",
    "#include \"pico/stdlib.h\" //Standard library for Pico\n",
    "#include \"hardware/pio.h\" //The hardware PIO library\n",
    "#include \"hardware/dma.h\" //The hardware DMA library\n",
    "#include \"pico/time.h\" //The pico time library\n",
    "#include \"hardware/gpio.h\" //The hardware GPIO library\n",
    "#include \"pico/multicore.h\" //The pico multicore library\n",
    "#include \"vga_graphics.h\" //The graphics library\n",
    "\n",
    "#define HEIGHT 480 //Height of the VGA screen\n",
    "#define WIDTH 640 //Width of the VGA screen\n",
    "#define PI 3.14159265358 //The value of PI\n",
    "\n",
    "void core1_entry() { //The program running on core 1\n",
    "\tdouble error = 0.01, step = 0.01, x, y, a, ans; //The error, step, x coordiante, y coordinate, iterator, and the answer variables\n",
    "\tfor(a = 11; a <= 20; a += 0.5){ //For x in range [11, 20] with 0.5 step size\n",
    "\t\tfor(x = -3; x < 3; x += step){ //For x in range [-3, 3) with 0.01 step size\n",
    "\t\t\tfor(y = -3; y < 3; y += step){ //For y in range [-3, 3) with 0.01 step size\n",
    "\t\t\t\tans = pow((sin(a * PI / 10.0) + x), 2.0) + pow((cos(a * PI / 10.0) + y), 2.0) - (0.7 *  fabs(x) * y); //Solve for the equation\n",
    "\t\t\t\tif((ans < 1 + error) && (ans > 1 - error)){ //If the solution is within the given error limits\n",
    "\t\t\t\t\tfillCircle((50 * x) + (WIDTH / 2), (HEIGHT / 2) - (50 * y), 1, RED); //Draw a red circle to create an enlarged image\n",
    "\t\t\t\t}\n",
    "\t\t\t}\n",
    "\t\t}\n",
    "\t}\n",
    "}\n",
    "\n",
    "int main(){ //The program running on core 0\n",
    "\tdouble error = 0.01, step = 0.01, x, y, a, ans; //The error, step, x coordiante, y coordinate, iterator, and the answer variables\n",
    "\t\n",
    "\tstdio_init_all(); //Initialize all of the present standard stdio types that are linked into the binary\n",
    "\tinitVGA(); //Initialize the VGA screen and functions\n",
    "\tmulticore_launch_core1(core1_entry); //Reset core1 and enter the core1_entry function on core 1 using the default core 1 stack\n",
    "\t\n",
    "\tfor(a = 1; a <= 10; a += 0.5){ //For x in range [1, 10] with 0.5 step size\n",
    "\t\tfor(x = -3; x < 3; x += step){ //For x in range [-3, 3) with 0.01 step size\n",
    "\t\t\tfor(y = -3; y < 3; y += step){ //For y in range [-3, 3) with 0.01 step size\n",
    "\t\t\t\tans = pow((sin(a * PI / 10.0) + x), 2.0) + pow((cos(a * PI / 10.0) + y), 2.0) - (0.7 *  fabs(x) * y); //Solve for the equation\n",
    "\t\t\t\tif((ans < 1 + error) && (ans > 1 - error)){ //If the solution is within the given error limits\n",
    "\t\t\t\t\tfillCircle((50 * x) + (WIDTH / 2), (HEIGHT / 2) - (50 * y), 1, RED); //Draw a red circle to create an enlarged image\n",
    "\t\t\t\t}\n",
    "\t\t\t}\n",
    "\t\t}\n",
    "\t}\n",
    "}\n",
    "\n",
    "```\n",
    "\n",
    "---\n",
    "\n",
    "<br>"
   ]
  },
  {
   "cell_type": "markdown",
   "id": "based-credits",
   "metadata": {},
   "source": [
    "## Code Organization\n",
    "\n",
    "The code has a [VGA library](https://vha3.github.io/Pico/VGA/VGA.html) which has been explained really nicely by Prof. Adams, the [Bitmap header file](https://people.ece.cornell.edu/land/courses/ece4760/FinalProjects/s2021/pss242_sp2544/pss242_sp2544/BitMap.h) and the main file.\n",
    "\n",
    "The main crux of the program lies in the fact that I needed to compute the equation within a given error as trying to find the exact solution can be really computationally expensive. Therefore, I divided the x-coordinates and the y-coordinates into a series of small steps and computed the equation on using those coordinates. If the answer is within the given error limit, draw a red circle at the given location.\n",
    "\n",
    "---"
   ]
  },
  {
   "cell_type": "markdown",
   "id": "coordinate-hospital",
   "metadata": {},
   "source": [
    "## The output"
   ]
  },
  {
   "cell_type": "markdown",
   "id": "numerical-thing",
   "metadata": {},
   "source": [
    "<div style=\"display: flex; justify-content: center;\">\n",
    "    <iframe width=\"560\" height=\"315\" src=\"https://www.youtube.com/embed/k5gRs-tfkyQ\" title=\"YouTube video player\" frameborder=\"0\" allow=\"accelerometer; autoplay; clipboard-write; encrypted-media; gyroscope; picture-in-picture\" allowfullscreen>\n",
    "    </iframe>\n",
    "</div>\n",
    "<figure>\n",
    "    <center><figcaption>Plotting the equation on RaspberryPi Pico</figcaption></center>\n",
    "</figure>\n",
    "\n",
    "---"
   ]
  },
  {
   "cell_type": "markdown",
   "id": "handmade-talent",
   "metadata": {},
   "source": [
    "## CMakeLists.txt"
   ]
  },
  {
   "cell_type": "markdown",
   "id": "organic-degree",
   "metadata": {},
   "source": [
    "```cmake\n",
    "cmake_minimum_required(VERSION 3.13)\n",
    "\n",
    "include(pico_sdk_import.cmake)\n",
    "\n",
    "project(HeartEquation-project)\n",
    "\n",
    "pico_sdk_init()\n",
    "\n",
    "add_executable(HeartEquation)\n",
    "\n",
    "pico_enable_stdio_usb(HeartEquation 1)\n",
    "pico_enable_stdio_uart(HeartEquation 1)\n",
    "\n",
    "pico_generate_pio_header(HeartEquation ${CMAKE_CURRENT_LIST_DIR}/hsync.pio)\n",
    "pico_generate_pio_header(HeartEquation ${CMAKE_CURRENT_LIST_DIR}/vsync.pio)\n",
    "pico_generate_pio_header(HeartEquation ${CMAKE_CURRENT_LIST_DIR}/rgb.pio)\n",
    "\n",
    "target_sources(HeartEquation PRIVATE HeartEquation.c vga_graphics.c)\n",
    "\n",
    "target_link_libraries(HeartEquation PRIVATE pico_stdlib hardware_pio hardware_dma hardware_adc hardware_irq pico_time pico_multicore)\n",
    "\n",
    "pico_add_extra_outputs(HeartEquation)\n",
    "\n",
    "```\n",
    "\n",
    "---"
   ]
  }
 ],
 "metadata": {
  "kernelspec": {
   "display_name": "Python 3",
   "language": "python",
   "name": "python3"
  },
  "language_info": {
   "codemirror_mode": {
    "name": "ipython",
    "version": 3
   },
   "file_extension": ".py",
   "mimetype": "text/x-python",
   "name": "python",
   "nbconvert_exporter": "python",
   "pygments_lexer": "ipython3",
   "version": "3.9.2"
  }
 },
 "nbformat": 4,
 "nbformat_minor": 5
}
