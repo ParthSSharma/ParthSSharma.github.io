{
 "cells": [
  {
   "cell_type": "markdown",
   "id": "varying-softball",
   "metadata": {},
   "source": [
    "# Multi Core Performance Compare\n",
    "\n",
    "RP2040 has Dual Cortex M0+ processor cores which can run upto 133MHz independent of each other. However, the second core (core 1) is asleep on boot and needs to be waken up by a function call from the first core (core 0). This program compares the performance of the two cores by incrementing two different variables on each core. The resources for the project include the [C SDK User Guide](https://datasheets.raspberrypi.org/pico/raspberry-pi-pico-c-sdk.pdf), the [RP2040 Datasheet](https://datasheets.raspberrypi.org/rp2040/rp2040-datasheet.pdf) and Prof. Hunter's [website](https://vha3.github.io/).\n",
    "\n",
    "---"
   ]
  },
  {
   "cell_type": "markdown",
   "id": "ordinary-dover",
   "metadata": {},
   "source": [
    "## The complete code"
   ]
  },
  {
   "cell_type": "markdown",
   "id": "talented-sound",
   "metadata": {},
   "source": [
    "```c\n",
    "/*\n",
    " * Parth Sarthi Sharma (pss242@cornell.edu)\n",
    " * Code based on examples from Raspberry Pi Foundation.\n",
    " * The code wakes up core 1 from its slumber and increments two\n",
    " * different variables on each core in order to compare the\n",
    " * performance of the cores.\n",
    " */\n",
    "#include <stdio.h> //The standard C library\n",
    "#include \"pico/stdlib.h\" //Standard library for Pico\n",
    "#include \"pico/time.h\" //The pico time library\n",
    "#include \"pico/multicore.h\" //The pico multicore library\n",
    "#include \"hardware/gpio.h\" //The hardware GPIO library\n",
    "\n",
    "#define BUTTON 5 //The pushbutton\n",
    "\n",
    "int i = 0, j = 0; //The two variables to be incremented\n",
    "\n",
    "void core1_entry() { //The program running on core 1\n",
    "\tuint64_t startTimeCore1 = get_absolute_time(); //Fetch the time at which core 1 starts executing the program\n",
    "\tprintf(\"Core 1 Start Time: %lld.\\n\", startTimeCore1); //Print out the time at which core 1 starts executing the program\n",
    "\twhile(1){ //While eternity\n",
    "\t\tif(j < 100000000){ //As long as j is less than 100000000\n",
    "\t\t\tj++; //Increment j\n",
    "\t\t}\n",
    "\t\telse if(j == 100000000){ //As soon as j hits 100000000\n",
    "\t\t\tuint64_t timeTaken = get_absolute_time() - startTimeCore1; //Get the time it took for core 1 to finish the job\n",
    "\t\t\tprintf(\"Core 1 Time Taken: %lld.\\n\", timeTaken); //Print out the time it took for core 1 to finish the job\n",
    "\t\t\tj++; //Increment j to stop printing\n",
    "\t\t}\n",
    "\t\telse if(gpio_get(BUTTON)){ //If the button has been pressed\n",
    "\t\t\tj = 0; //Reset j to start the performance test again\n",
    "\t\t\tstartTimeCore1 = get_absolute_time(); //Reset the start time\n",
    "\t\t\tprintf(\"Core 1 Start Time: %lld.\\n\", startTimeCore1); //Print out start time\n",
    "\t\t}\n",
    "\t}\n",
    "}\n",
    "\n",
    "int main() { //The program running on core 0\n",
    "    stdio_init_all(); //Initialize all of the present standard stdio types that are linked into the binary\n",
    "\t\n",
    "\tgpio_init(BUTTON);//Initialize the pushbutton pin\n",
    "\tgpio_set_dir(BUTTON, GPIO_IN); //Initialize the pushbutton pin to be input\n",
    "\t\n",
    "\tsleep_ms(10000); //Sleep for 10000 milliseconds\n",
    "\tmulticore_launch_core1(core1_entry); //Reset core1 and enter the core1_entry function on core 1 using the default core 1 stack\n",
    "\t\n",
    "\tuint64_t startTimeCore0 = get_absolute_time(); //Fetch the time at which core 0 starts executing the program\n",
    "\tprintf(\"Core 0 Start Time: %lld.\\n\", startTimeCore0); //Print out the time at which core 0 starts executing the program\n",
    "\twhile(1){ //While eternity\n",
    "\t\tif(i < 100000000){ //As long as i is less than 100000000\n",
    "\t\t\ti++; //Increment i\n",
    "\t\t}\n",
    "\t\telse if(i == 100000000){ //As soon as i hits 100000000\n",
    "\t\t\tuint64_t timeTaken = get_absolute_time() - startTimeCore0; //Get the time it took for core 0 to finish the job\n",
    "\t\t\tprintf(\"Core 0 Time Taken: %lld.\\n\", timeTaken); //Print out the time it took for core 0 to finish the job\n",
    "\t\t\ti++; //Increment i to stop printing\n",
    "\t\t}\n",
    "\t\telse if(gpio_get(BUTTON)){ //If the button has been pressed\n",
    "\t\t\ti = 0; //Reset i to start the performance test again\n",
    "\t\t\tstartTimeCore0 = get_absolute_time(); //Reset the start time\n",
    "\t\t\tprintf(\"Core 0 Start Time: %lld.\\n\", startTimeCore0); //Print out start time\n",
    "\t\t}\n",
    "\t}\n",
    "}\n",
    "```\n",
    "\n",
    "---\n",
    "\n",
    "<br>"
   ]
  },
  {
   "cell_type": "markdown",
   "id": "incident-undergraduate",
   "metadata": {},
   "source": [
    "## Stepping through the code\n",
    "\n",
    "### Includes\n",
    "\n",
    "The first lines of code in the C source file include some header files. One of these is standard C headers (`stdio.h`) and the others are headers which come from the C SDK for the Raspberry Pi Pico. The first of these, `pico/stdlib.h` is what the SDK calls a \"High-Level API.\" These high-level API's \"provide higher level functionality that isn’t hardware related or provides a richer set of functionality above the basic hardware interfaces.\" The architecture of this SDK is described at length in the SDK manual. All libraries within the SDK are INTERFACE libraries.\n",
    "\n",
    "The next includes pull in hardware APIs which are not already brought in by `pico/stdlib.h`. These include `hardware/gpio.h`, `pico/time.h` and `pico/multicore.h`. As the names suggest, these interface libraries give us access to the API's associated with the hardware GPIO, pico time and pico multicore on the RP2040.\n",
    "\n",
    "**Don't forget to link these in the CMakeLists.txt file!**"
   ]
  },
  {
   "cell_type": "markdown",
   "id": "developing-conference",
   "metadata": {},
   "source": [
    "```c\n",
    "#include <stdio.h>\n",
    "#include \"pico/stdlib.h\"\n",
    "#include \"pico/time.h\"\n",
    "#include \"pico/multicore.h\"\n",
    "#include \"hardware/gpio.h\"\n",
    "```\n",
    "\n",
    "<br>"
   ]
  },
  {
   "cell_type": "markdown",
   "id": "monetary-establishment",
   "metadata": {},
   "source": [
    "### Global declarations and defines\n",
    "\n",
    "The next section of the code is the `#define`'s and the global variables which will be used throughout the code. The `#define` is the pushbutton pin declaration on GPIO 5. The variables declared are `i` and `j` which are used as the incrementers to test the performance of the cores."
   ]
  },
  {
   "cell_type": "markdown",
   "id": "considerable-going",
   "metadata": {},
   "source": [
    "```c\n",
    "#define BUTTON 5\n",
    "int i = 0, j = 0;\n",
    "```\n",
    "\n",
    "<br>"
   ]
  },
  {
   "cell_type": "markdown",
   "id": "ideal-third",
   "metadata": {},
   "source": [
    "### Core 1 function\n",
    "\n",
    "The core 1 function is the function which runs on the core 1 once it wakes up from its slumber. In other terms, this function is the `main()` function for core 1 and runs independent of the actual `main()` function running on core 0 (unless there is an intra-core communication). The `core1_entry()` function follows the following algorithm:\n",
    "- Fetch the start time.\n",
    "- Print out the start time.\n",
    "- If `j` is less than 100000000, increment `j`.\n",
    "- If `j` is equal to 100000000, calculate the time taken by core 1 to finish the job and print it out. Increment `j` to avoid multiple prints.\n",
    "- If `j` is greater than 100000000 and the button has been pushed, reset `j` and the start time to start the job again."
   ]
  },
  {
   "cell_type": "markdown",
   "id": "signed-testimony",
   "metadata": {},
   "source": [
    "```c\n",
    "void core1_entry() {\n",
    "\tuint64_t startTimeCore1 = get_absolute_time();\n",
    "\tprintf(\"Core 1 Start Time: %lld.\\n\", startTimeCore1);\n",
    "\twhile(1){\n",
    "\t\tif(j < 100000000){\n",
    "\t\t\tj++;\n",
    "\t\t}\n",
    "\t\telse if(j == 100000000){\n",
    "\t\t\tuint64_t timeTaken = get_absolute_time() - startTimeCore1;\n",
    "\t\t\tprintf(\"Core 1 Time Taken: %lld.\\n\", timeTaken);\n",
    "\t\t\tj++;\n",
    "\t\t}\n",
    "\t\telse if(gpio_get(BUTTON)){\n",
    "\t\t\tj = 0;\n",
    "\t\t\tstartTimeCore1 = get_absolute_time();\n",
    "\t\t\tprintf(\"Core 1 Start Time: %lld.\\n\", startTimeCore1);\n",
    "\t\t}\n",
    "\t}\n",
    "}\n",
    "```\n",
    "\n",
    "<br>"
   ]
  },
  {
   "cell_type": "markdown",
   "id": "hairy-absorption",
   "metadata": {},
   "source": [
    "### The main function\n",
    "\n",
    "#### Initializing communication\n",
    "\n",
    "The first line in `main()` is a call to `stdio_init_all()`. This function initializes stdio to communicate through either UART or USB, depending on the configurations in the CMakeLists.txt file."
   ]
  },
  {
   "cell_type": "markdown",
   "id": "outdoor-screw",
   "metadata": {},
   "source": [
    "```c\n",
    "stdio_init_all();\n",
    "```\n",
    "\n",
    "<br>"
   ]
  },
  {
   "cell_type": "markdown",
   "id": "exposed-mother",
   "metadata": {},
   "source": [
    "#### Initializing the GPIO input\n",
    "\n",
    "In the next 2 lines of the code, I initialized the button pin and configured it to be the input pin. The `gpio_init()` function is used to initialize the pin and the `gpio_set_dir()` function us used to set the pin direction which can be GPIO_OUT (output) or GPIO_IN (input)."
   ]
  },
  {
   "cell_type": "markdown",
   "id": "alert-service",
   "metadata": {},
   "source": [
    "```c\n",
    "gpio_init(BUTTON);\n",
    "gpio_set_dir(BUTTON, GPIO_IN);\n",
    "```\n",
    "\n",
    "<br>"
   ]
  },
  {
   "cell_type": "markdown",
   "id": "married-genius",
   "metadata": {},
   "source": [
    "#### Waking up core 1 from its sleep\n",
    "\n",
    "In order to wake up the core 1 from sleep, I used the `multicore_launch_core1()` function. This function resets core 1 and enters the given function on core 1 using the default core 1 stack (below core 0 stack)."
   ]
  },
  {
   "cell_type": "markdown",
   "id": "headed-steering",
   "metadata": {},
   "source": [
    "```c\n",
    "multicore_launch_core1(core1_entry);\n",
    "```\n",
    "\n",
    "<br>"
   ]
  },
  {
   "cell_type": "markdown",
   "id": "disabled-florist",
   "metadata": {},
   "source": [
    "#### The infinite while loop\n",
    "\n",
    "This part of the program is quite similar to the `core1_entry()` function. It runs on the core 0 and follows the following algorithm:\n",
    "- Fetch the start time.\n",
    "- Print out the start time.\n",
    "- If `i` is less than 100000000, increment `i`.\n",
    "- If `i` is equal to 100000000, calculate the time taken by core 0 to finish the job and print it out. Increment `i` to avoid multiple prints.\n",
    "- If `i` is greater than 100000000 and the button has been pushed, reset `i` and the start time to start the job again."
   ]
  },
  {
   "cell_type": "markdown",
   "id": "monetary-virtue",
   "metadata": {},
   "source": [
    "```c\n",
    "uint64_t startTimeCore0 = get_absolute_time();\n",
    "printf(\"Core 0 Start Time: %lld.\\n\", startTimeCore0);\n",
    "while(1){\n",
    "\tif(i < 100000000){\n",
    "\t\ti++;\n",
    "\t}\n",
    "\telse if(i == 100000000){\n",
    "\t\tuint64_t timeTaken = get_absolute_time() - startTimeCore0;\n",
    "\t\tprintf(\"Core 0 Time Taken: %lld.\\n\", timeTaken);\n",
    "\t\ti++;\n",
    "\t}\n",
    "\telse if(gpio_get(BUTTON)){\n",
    "\t\ti = 0;\n",
    "\t\tstartTimeCore0 = get_absolute_time();\n",
    "\t\tprintf(\"Core 0 Start Time: %lld.\\n\", startTimeCore0);\n",
    "\t}\n",
    "}\n",
    "```\n",
    "\n",
    "---\n",
    "\n",
    "<br>"
   ]
  },
  {
   "cell_type": "markdown",
   "id": "satellite-litigation",
   "metadata": {},
   "source": [
    "## The output\n",
    "\n",
    "In order to view the output, I used the serial monitor provided by the Arduino IDE. As it is quite evident from the provided data, core 0 takes an average of 90 milliseconds more than core 1 to finish the same job.\n",
    "\n",
    "| Iteration | Time taken by Core 0 | Time taken by Core 1 |\n",
    "| :-: | :-: | :-: |\n",
    "| 1 | 7779846 | 7690696 |\n",
    "| 2 | 7791554 | 7697507 |\n",
    "| 3 | 7781144 | 7692173 |\n",
    "| 4 | 7791770 | 7702660 |\n",
    "| Average| 7786078 | 7695759 |"
   ]
  },
  {
   "cell_type": "markdown",
   "id": "alternative-external",
   "metadata": {},
   "source": [
    "<div style=\"display: flex; justify-content: center;\">\n",
    "  <img src=\"https://parthssharma.github.io/Pico/Files/MultiCoreMultiVarPerfOutput.png\" style=\"width: 1049px; height: 519px;\" >\n",
    "</div>\n",
    "<figure>\n",
    "    <center><figcaption>Output of the Multicore Performance Comparison</figcaption></center>\n",
    "</figure>\n",
    "\n",
    "---\n",
    "\n",
    "<br>"
   ]
  },
  {
   "cell_type": "markdown",
   "id": "rough-preservation",
   "metadata": {},
   "source": [
    "## CMakeLists.txt"
   ]
  },
  {
   "cell_type": "markdown",
   "id": "fresh-rabbit",
   "metadata": {},
   "source": [
    "```cmake\n",
    "cmake_minimum_required(VERSION 3.13)\n",
    "\n",
    "include(pico_sdk_import.cmake)\n",
    "\n",
    "project(MultiCoreMultiVarPerf)\n",
    "\n",
    "pico_sdk_init()\n",
    "\n",
    "add_executable(MultiCoreMultiVarPerf MultiCoreMultiVarPerf.c)\n",
    "\n",
    "pico_enable_stdio_usb(MultiCoreMultiVarPerf 1)\n",
    "pico_enable_stdio_uart(MultiCoreMultiVarPerf 1)\n",
    "\n",
    "pico_add_extra_outputs(MultiCoreMultiVarPerf)\n",
    "\n",
    "target_link_libraries(MultiCoreMultiVarPerf pico_stdlib pico_time pico_multicore hardware_gpio hardware_sync)\n",
    "```\n",
    "\n",
    "---\n",
    "\n",
    "<br>"
   ]
  }
 ],
 "metadata": {
  "kernelspec": {
   "display_name": "Python 3",
   "language": "python",
   "name": "python3"
  },
  "language_info": {
   "codemirror_mode": {
    "name": "ipython",
    "version": 3
   },
   "file_extension": ".py",
   "mimetype": "text/x-python",
   "name": "python",
   "nbconvert_exporter": "python",
   "pygments_lexer": "ipython3",
   "version": "3.9.2"
  }
 },
 "nbformat": 4,
 "nbformat_minor": 5
}
