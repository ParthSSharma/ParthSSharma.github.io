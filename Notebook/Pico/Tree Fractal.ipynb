{
 "cells": [
  {
   "cell_type": "markdown",
   "id": "higher-input",
   "metadata": {},
   "source": [
    "# Tree Fractal\n",
    "\n",
    "This program was my attempt to draw fractals on a VGA screen using Prof. Hunter Adam's [VGA Library](https://vha3.github.io/Pico/VGA/VGA.html) for the RaspberryPi Pico. The resources for the project include the [C SDK User Guide](https://datasheets.raspberrypi.org/pico/raspberry-pi-pico-c-sdk.pdf), the [RP2040 Datasheet](https://datasheets.raspberrypi.org/rp2040/rp2040-datasheet.pdf) and Prof. Hunter's [website](https://vha3.github.io/). I also used the [Nature of Code](https://natureofcode.com/book/) series by [Daniel Shiffman](https://shiffman.net/) as a starting point for studying fractals.\n",
    "\n",
    "---"
   ]
  },
  {
   "cell_type": "markdown",
   "id": "coral-municipality",
   "metadata": {},
   "source": [
    "## About Fractals\n",
    "\n",
    "According to Nature of Code's [fractal page](https://natureofcode.com/book/chapter-8-fractals/), the term **fractal** (from the Latin fractus, meaning “broken”) was coined by the mathematician Benoit Mandelbrot in 1975. In his seminal work “The Fractal Geometry of Nature,” he defines a fractal as “a rough or fragmented geometric shape that can be split into parts, each of which is (at least approximately) a reduced-size copy of the whole.” In short, a fractal is a shape which when divided into various parts, each part can represent the figure as a whole.\n",
    "\n",
    "---"
   ]
  },
  {
   "cell_type": "markdown",
   "id": "curious-replacement",
   "metadata": {},
   "source": [
    "## Recursion\n",
    "\n",
    "The repeated application of a rule to successive results is known as recursion. One of the most famous applications for recursion is the calculation of factorical. The factorial of a natural number is defined as:\n",
    "\n",
    "\\begin{align}\n",
    "n! &= n \\times (n-1)! \\\\\n",
    "0! &= 1\n",
    "\\end{align}\n",
    "\n",
    "For instance, solving for 5! looks like:\n",
    "\\begin{align}\n",
    "5! &= 5 \\times 4! \\\\\n",
    "5! &= 5 \\times 4 \\times 3! \\\\\n",
    "5! &= 5 \\times 4 \\times 3 \\times 2! \\\\\n",
    "5! &= 5 \\times 4 \\times 3 \\times 2 \\times 1! \\\\\n",
    "5! &= 5 \\times 4 \\times 3 \\times 2 \\times 1 \\\\\n",
    "5! &= 120\n",
    "\\end{align}\n",
    "\n",
    "_Note: Recursions must always have a base case and that too at a reasonable depth, else it will cause a stack overflow error._\n",
    "\n",
    "---"
   ]
  },
  {
   "cell_type": "markdown",
   "id": "refined-energy",
   "metadata": {},
   "source": [
    "## The complete code"
   ]
  },
  {
   "cell_type": "markdown",
   "id": "educated-marble",
   "metadata": {},
   "source": [
    "```c\n",
    "/*\n",
    " * Parth Sarthi Sharma (pss242@cornell.edu)\n",
    " * Code based on examples from Raspberry Pi Foundation.\n",
    " * This code is an implementation of a tree fractal\n",
    " * on the Raspberry Pi Pico to draw a pattern. The pattern is developed\n",
    " * by recursively calling a function by reducing a parameter until a base condition is met.\n",
    " */\n",
    "#include <stdio.h> //The standard C library\n",
    "#include <math.h> //The standard math library\n",
    "#include \"pico/stdlib.h\" //Standard library for Pico\n",
    "#include \"hardware/pio.h\" //The hardware PIO library\n",
    "#include \"hardware/dma.h\" //The hardware DMA library\n",
    "#include \"pico/time.h\" //The pico time library\n",
    "#include \"hardware/gpio.h\" //The hardware GPIO library\n",
    "#include \"pico/multicore.h\" //The pico multicore library\n",
    "#include \"vga_graphics.h\" //The graphics library\n",
    "\n",
    "#define HEIGHT 480 //Height of the VGA screen\n",
    "#define WIDTH 640 //Width of the VGA screen\n",
    "#define PI 3.14159265358 //The value of PI\n",
    "\n",
    "#define INC_ANGLE_PIN 2 //GPIO Pin to increase the angle\n",
    "#define DEC_ANGLE_PIN 3 //GPIO Pin to decrease the angle\n",
    "\n",
    "volatile float angle = PI / 4; //The default angle\n",
    "volatile char resetFlag = 1; //Reset flag to reset the image once the angle changes\n",
    "\n",
    "void drawTree1(float x1, float y1, float x2, float y2, float theta, float thetaOrig){ //Function to draw the right part of the tree\n",
    "\tdrawLine(x1, y1, x2, y2, WHITE); //Draw a white line\n",
    "\t\n",
    "\tfloat length = sqrt(pow((x2 - x1), 2) + pow((y2 - y1), 2)); //Calculate the length of the line\n",
    "\tlength *= 0.66; //Reduce the length of the new lines to be drawn\n",
    "  \n",
    "\tif(length > 5){ //If the length is greater than 5\n",
    "\t\tfloat perp = length * sin(theta); //Calculate the perpendicular\n",
    "\t\tfloat base = length * cos(theta); //Calculate the base\n",
    "\t\tdrawTree1(x2, y2, x2 + perp, y2 - base, theta - thetaOrig, thetaOrig); //Draw the left branches\n",
    "\t\tdrawTree1(x2, y2, x2 + perp, y2 - base, theta + thetaOrig, thetaOrig); //Draw the right branches\n",
    "\t}\n",
    "}\n",
    "void drawTree2(float x1, float y1, float x2, float y2, float theta, float thetaOrig){ //Function to draw the left part of the tree\n",
    "\tdrawLine(x1, y1, x2, y2, WHITE); //Draw a white line\n",
    "\t  \n",
    "\tfloat length = sqrt(pow((x2 - x1), 2) + pow((y2 - y1), 2)); //Calculate the length of the line\n",
    "\tlength *= 0.66; //Reduce the length of the new lines to be drawn\n",
    "  \n",
    "\tif(length > 5){ //If the length is greater than 5\n",
    "\t\tfloat perp = length * sin(theta); //Calculate the perpendicular\n",
    "\t\tfloat base = length * cos(theta); //Calculate the base\n",
    "\t\tdrawTree2(x2, y2, x2 - perp, y2 - base, theta - thetaOrig, thetaOrig); //Draw the left branches\n",
    "\t\tdrawTree2(x2, y2, x2 - perp, y2 - base, theta + thetaOrig, thetaOrig); //Draw the right branches\n",
    "\t}\n",
    "}\n",
    "\n",
    "void changeAngle(uint gpio, uint32_t events) { //The GPIO callback function to change the angle\n",
    "\tif(gpio == INC_ANGLE_PIN){ //If the GPIO pin is INC_ANGLE_PIN\n",
    "\t\tif(angle < PI){ //If the angle is less than PI\n",
    "\t\t\tangle += 0.01; //Increment the angle by 0.01\n",
    "\t\t}\n",
    "\t}\n",
    "\telse{ //If the GPIO pin is DEC_ANGLE_PIN\n",
    "\t\tif(angle > 0){ //If the angle is greater than 0\n",
    "\t\t\tangle -= 0.01; //Decrement the angle by 0.01\n",
    "\t\t}\n",
    "\t}\n",
    "\tresetFlag = 1; //Set the reset flag\n",
    "}\n",
    "\n",
    "int main(){ //The program running on core 0\n",
    "    stdio_init_all(); //Initialize all of the present standard stdio types that are linked into the binary\n",
    "\tinitVGA(); //Initialize the VGA screen and functions\n",
    "\t\n",
    "\tgpio_set_irq_enabled_with_callback(DEC_ANGLE_PIN, GPIO_IRQ_EDGE_FALL, true, &changeAngle); //Enable interrupts for the GPIO pin\n",
    "\tgpio_set_irq_enabled_with_callback(INC_ANGLE_PIN, GPIO_IRQ_EDGE_FALL, true, &changeAngle); //Enable interrupts for the GPIO pin\n",
    "\t\n",
    "\twhile(1){ //While eternity\n",
    "\t\twhile(!resetFlag); //Sit here until the reset flag is set\n",
    "\t\tfillRect(100, 200, 380, 280, BLACK); //Clear the tree\n",
    "\t\tdrawTree1(WIDTH / 2, 480, WIDTH / 2, 380, angle, angle); //Draw the right tree\n",
    "\t\tdrawTree2(WIDTH / 2, 480, WIDTH / 2, 380, angle, angle); //Draw the left tree\n",
    "\t\tresetFlag = 0; //Clear the reset flag\n",
    "\t}\n",
    "}\n",
    "```\n",
    "\n",
    "---\n",
    "\n",
    "<br>"
   ]
  },
  {
   "cell_type": "markdown",
   "id": "coordinate-hospital",
   "metadata": {},
   "source": [
    "## The output"
   ]
  },
  {
   "cell_type": "markdown",
   "id": "numerical-thing",
   "metadata": {},
   "source": [
    "<div style=\"display: flex; justify-content: center;\">\n",
    "    <iframe width=\"560\" height=\"315\" src=\"https://www.youtube.com/embed/P9Uil9_8irE\" title=\"YouTube video player\" frameborder=\"0\" allow=\"accelerometer; autoplay; clipboard-write; encrypted-media; gyroscope; picture-in-picture\" allowfullscreen>\n",
    "    </iframe>\n",
    "</div>\n",
    "<figure>\n",
    "    <center><figcaption>The generated fractals</figcaption></center>\n",
    "</figure>\n",
    "\n",
    "---"
   ]
  },
  {
   "cell_type": "markdown",
   "id": "handmade-talent",
   "metadata": {},
   "source": [
    "## CMakeLists.txt"
   ]
  },
  {
   "cell_type": "markdown",
   "id": "organic-degree",
   "metadata": {},
   "source": [
    "```cmake\n",
    "cmake_minimum_required(VERSION 3.13)\n",
    "\n",
    "include(pico_sdk_import.cmake)\n",
    "\n",
    "project(TreeFractal-project)\n",
    "\n",
    "pico_sdk_init()\n",
    "\n",
    "add_executable(TreeFractal)\n",
    "\n",
    "pico_enable_stdio_usb(TreeFractal 1)\n",
    "pico_enable_stdio_uart(TreeFractal 1)\n",
    "\n",
    "pico_generate_pio_header(TreeFractal ${CMAKE_CURRENT_LIST_DIR}/hsync.pio)\n",
    "pico_generate_pio_header(TreeFractal ${CMAKE_CURRENT_LIST_DIR}/vsync.pio)\n",
    "pico_generate_pio_header(TreeFractal ${CMAKE_CURRENT_LIST_DIR}/rgb.pio)\n",
    "\n",
    "target_sources(TreeFractal PRIVATE TreeFractal.c vga_graphics.c)\n",
    "\n",
    "target_link_libraries(TreeFractal PRIVATE pico_stdlib hardware_pio hardware_dma hardware_adc hardware_irq pico_time pico_multicore)\n",
    "\n",
    "pico_add_extra_outputs(TreeFractal)\n",
    "\n",
    "\n",
    "```\n",
    "\n",
    "---"
   ]
  }
 ],
 "metadata": {
  "kernelspec": {
   "display_name": "Python 3",
   "language": "python",
   "name": "python3"
  },
  "language_info": {
   "codemirror_mode": {
    "name": "ipython",
    "version": 3
   },
   "file_extension": ".py",
   "mimetype": "text/x-python",
   "name": "python",
   "nbconvert_exporter": "python",
   "pygments_lexer": "ipython3",
   "version": "3.9.2"
  }
 },
 "nbformat": 4,
 "nbformat_minor": 5
}
