{
 "cells": [
  {
   "cell_type": "markdown",
   "id": "higher-input",
   "metadata": {},
   "source": [
    "# Hello PIO\n",
    "\n",
    "This program was an introduction to the Programmable Input Output (PIO) on the Raspberry Pi Pico. There are 2 identical PIO blocks in RP2040. Each PIO block has dedicated connections to the bus fabric, GPIO and interrupt controller. These are programmable in the same sense as a processor. There are two PIO blocks with four state machines each, that can independently execute sequential programs to manipulate GPIOs and transfer data. Unlike a general purpose processor, PIO state machines are highly specialised for IO, with a focus on determinism, precise timing, and close integration with fixed-function hardware.  The resources for the project include the [C SDK User Guide](https://datasheets.raspberrypi.org/pico/raspberry-pi-pico-c-sdk.pdf), the [RP2040 Datasheet](https://datasheets.raspberrypi.org/rp2040/rp2040-datasheet.pdf) and Prof. Hunter's [website](https://vha3.github.io/).\n",
    "\n",
    "---"
   ]
  },
  {
   "cell_type": "markdown",
   "id": "refined-energy",
   "metadata": {},
   "source": [
    "## The complete code"
   ]
  },
  {
   "cell_type": "markdown",
   "id": "previous-balance",
   "metadata": {},
   "source": [
    "### HelloPIO.c\n",
    "\n",
    "```c\n",
    "/*\n",
    " * Parth Sarthi Sharma (pss242@cornell.edu)\n",
    " * Code based on examples from Raspberry Pi Foundation.\n",
    " * The code initializes a PIO state machine on a given\n",
    " * GPIO and turns it ON and OFF repeatedly.\n",
    " */\n",
    "#include \"pico/stdlib.h\" //Standard library for Pico\n",
    "#include \"hardware/pio.h\" //The hardware PIO library\n",
    "#include \"hello.pio.h\" //The hello pio header created after compilation\n",
    "\n",
    "#define LED 25 //Define the default LED Pin\n",
    "\n",
    "int main(){ //The main function\n",
    "\tPIO pio = pio0; //Identifier for the first (PIO 0) hardware PIO instance\n",
    "\tuint offset = pio_add_program(pio, &hello_program); //Attempt to load the program\n",
    "\tuint sm = pio_claim_unused_sm(pio, true); //Claim a free state machine on a PIO instance\n",
    "\thello_program_init(pio, sm, offset, LED); //Initialize the hello program\n",
    "\t\n",
    "\twhile(1){ //While eternity\n",
    "\t\tpio_sm_put_blocking(pio, sm, 1); //Write high to the state machine's TX FIFO, blocking if the FIFO is full\n",
    "\t\tsleep_ms(500); //Sleep for 500 milliseconds\n",
    "\t\tpio_sm_put_blocking(pio, sm, 0); //Write low to the state machine's TX FIFO, blocking if the FIFO is full\n",
    "\t\tsleep_ms(500); //Sleep for 500 milliseconds\n",
    "\t}\n",
    "}\n",
    "```\n",
    "\n",
    "<br>"
   ]
  },
  {
   "cell_type": "markdown",
   "id": "dated-receipt",
   "metadata": {},
   "source": [
    "### hello.pio\n",
    "\n",
    "```assembly\n",
    ".program hello ;Program name\n",
    "\n",
    ";Repeatedly get one word of data from the TX FIFO, stalling when the FIFO is empty. Write the least significant bit to the OUT pin group.\n",
    "\n",
    "loop: ;The main infinity loop\n",
    "\tpull ;Removes a 32-bit word from the TX FIFO and places into the OSR\n",
    "\tout pins, 1 ;Shift data from the OSR to other destinations, 1…32 bits at a time\n",
    "\tjmp loop ;Jump to the loop label\n",
    "\t\n",
    ";Helper function\n",
    "\n",
    "%c-sdk{\n",
    "\tstatic inline void hello_program_init(PIO pio, uint sm, uint offset, uint pin){ //Program to initialize the PIO\n",
    "\t\tpio_sm_config c = hello_program_get_default_config(offset); //Get default configurations for the PIO state machine\n",
    "\t\tsm_config_set_out_pins(&c, pin, 1); //Set the state machine configurations on the given pin\n",
    "\t\tpio_gpio_init(pio, pin); //Setup the function select for a GPIO to use output from the given PIO instance\n",
    "\t\tpio_sm_set_consecutive_pindirs(pio, sm, pin, 1, true); //Use a state machine to set the same pin direction for multiple consecutive pins for the PIO instance\n",
    "\t\tpio_sm_init(pio, sm, offset, &c); //Resets the state machine to a consistent state, and configures it\n",
    "\t\tpio_sm_set_enabled(pio, sm, true); //Enable or disable a PIO state machine\n",
    "\t}\n",
    "%}\n",
    "```\n",
    "\n",
    "---\n",
    "\n",
    "<br>"
   ]
  },
  {
   "cell_type": "markdown",
   "id": "based-credits",
   "metadata": {},
   "source": [
    "## Stepping through the code\n",
    "\n",
    "### Includes\n",
    "\n",
    "The first lines of code in the C source file include some header files. The headers which come from the C SDK for the Raspberry Pi Pico include `pico/stdlib.h` is what the SDK calls a \"High-Level API.\" These high-level API's \"provide higher level functionality that isn’t hardware related or provides a richer set of functionality above the basic hardware interfaces.\" The architecture of this SDK is described at length in the SDK manual. All libraries within the SDK are INTERFACE libraries.\n",
    "\n",
    "The next includes pull in hardware APIs which are not already brought in by pico/stdlib.h. These include `hardware/pio.h` and `hello.pio.h`. As the names suggest, these interface libraries give us access to the API's associated with the hardware and the custom hello pio file created in the directory on the RP2040.\n",
    "\n",
    "**Don't forget to link these in the CMakeLists.txt file!**"
   ]
  },
  {
   "cell_type": "markdown",
   "id": "cross-chinese",
   "metadata": {},
   "source": [
    "```c\n",
    "#include \"pico/stdlib.h\"\n",
    "#include \"hardware/pio.h\"\n",
    "#include \"hello.pio.h\"\n",
    "```\n",
    "\n",
    "<br>"
   ]
  },
  {
   "cell_type": "markdown",
   "id": "chronic-quest",
   "metadata": {},
   "source": [
    "### Global declarations and defines\n",
    "\n",
    "The next section of the code is basically a single line which `#define`'s the LED pin number (GPIO 25 is linked to the on-board LED)."
   ]
  },
  {
   "cell_type": "markdown",
   "id": "vertical-tradition",
   "metadata": {},
   "source": [
    "```c\n",
    "#define LED 25\n",
    "```\n",
    "\n",
    "<br>"
   ]
  },
  {
   "cell_type": "markdown",
   "id": "tired-dating",
   "metadata": {},
   "source": [
    "### The main function\n",
    "\n",
    "#### Initializing the PIO\n",
    "\n",
    "The first line in the `main()` initializes the PIO instance. The `pio_add_program()` function loads the program definition and returns the instruction memory offset the program is loaded at. The `pio_claim_unused_sm()` function is used to claim a free state machine on a PIO instance. Lastly, the `hello_program_init()` is called with the given parameters in order to finish configuring the PIO with the given pins and program."
   ]
  },
  {
   "cell_type": "markdown",
   "id": "tutorial-black",
   "metadata": {},
   "source": [
    "```c\n",
    "PIO pio = pio0;\n",
    "uint offset = pio_add_program(pio, &hello_program);\n",
    "uint sm = pio_claim_unused_sm(pio, true);\n",
    "hello_program_init(pio, sm, offset, LED);\n",
    "```\n",
    "\n",
    "<br>"
   ]
  },
  {
   "cell_type": "markdown",
   "id": "revolutionary-humidity",
   "metadata": {},
   "source": [
    "#### The infinite while loop\n",
    "\n",
    "This is the loop which which runs forever and executes the code sequentially. It basically contains 2 subsections: turning the LED on and turning the LED off. In order to do so, it sends in 1 and 0 to the PIO state machine and sleeps for 500 milliseconds."
   ]
  },
  {
   "cell_type": "markdown",
   "id": "emotional-rwanda",
   "metadata": {},
   "source": [
    "```c\n",
    "while(1){\n",
    "    pio_sm_put_blocking(pio, sm, 1);\n",
    "\tsleep_ms(500);\n",
    "\tpio_sm_put_blocking(pio, sm, 0);\n",
    "\tsleep_ms(500);\n",
    "}\n",
    "```\n",
    "\n",
    "---\n",
    "\n",
    "<br>"
   ]
  },
  {
   "cell_type": "markdown",
   "id": "coordinate-hospital",
   "metadata": {},
   "source": [
    "## Expected vs actual output\n",
    "\n",
    "In order to view the output, I used the GPIO pin 6 and attached an oscilloscope to it. Since, the delay between consecutive state change is 500 ms, the expected frequency of the generated square wave is 1 Hz.\n",
    "\n",
    "The scope trace below shows the output from the GPIO pin 6. The text in the top left corner of the screen confirms that the frequency of the generated wave is infact 1 Hz. We've obtained the expected result."
   ]
  },
  {
   "cell_type": "markdown",
   "id": "numerical-thing",
   "metadata": {},
   "source": [
    "<div style=\"display: flex; justify-content: center;\">\n",
    "  <img src=\"https://parthssharma.github.io/Pico/Files/HelloPIOOutput.jpeg\" style=\"width: 520px; height: 366px;\" >\n",
    "</div>\n",
    "<figure>\n",
    "    <center><figcaption>Output of the Hello PIO code</figcaption></center>\n",
    "</figure>\n",
    "\n",
    "---\n",
    "\n",
    "<br>"
   ]
  },
  {
   "cell_type": "markdown",
   "id": "handmade-talent",
   "metadata": {},
   "source": [
    "## CMakeLists.txt"
   ]
  },
  {
   "cell_type": "markdown",
   "id": "organic-degree",
   "metadata": {},
   "source": [
    "```cmake\n",
    "cmake_minimum_required(VERSION 3.13)\n",
    "\n",
    "include(pico_sdk_import.cmake)\n",
    "\n",
    "project(HelloPIO)\n",
    "\n",
    "pico_sdk_init()\n",
    "\n",
    "add_executable(HelloPIO HelloPIO.c)\n",
    "\n",
    "pico_generate_pio_header(HelloPIO ${CMAKE_CURRENT_LIST_DIR}/hello.pio)\n",
    "\n",
    "pico_enable_stdio_usb(HelloPIO 1)\n",
    "pico_enable_stdio_uart(HelloPIO 0)\n",
    "\n",
    "pico_add_extra_outputs(HelloPIO)\n",
    "\n",
    "target_link_libraries(HelloPIO pico_stdlib hardware_pio)\n",
    "```\n",
    "\n",
    "---\n",
    "\n",
    "<br>"
   ]
  }
 ],
 "metadata": {
  "kernelspec": {
   "display_name": "Python 3",
   "language": "python",
   "name": "python3"
  },
  "language_info": {
   "codemirror_mode": {
    "name": "ipython",
    "version": 3
   },
   "file_extension": ".py",
   "mimetype": "text/x-python",
   "name": "python",
   "nbconvert_exporter": "python",
   "pygments_lexer": "ipython3",
   "version": "3.9.2"
  }
 },
 "nbformat": 4,
 "nbformat_minor": 5
}
