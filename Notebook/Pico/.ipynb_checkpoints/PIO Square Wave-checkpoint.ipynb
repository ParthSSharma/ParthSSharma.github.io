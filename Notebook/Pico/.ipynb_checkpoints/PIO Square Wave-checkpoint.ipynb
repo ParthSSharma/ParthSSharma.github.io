{
 "cells": [
  {
   "cell_type": "markdown",
   "id": "higher-input",
   "metadata": {},
   "source": [
    "# PIO Square Wave\n",
    "\n",
    "This program was an extension of the introduction to the Programmable Input Output (PIO) on the Raspberry Pi Pico. There are 2 identical PIO blocks in RP2040. Each PIO block has dedicated connections to the bus fabric, GPIO and interrupt controller. These are programmable in the same sense as a processor. There are two PIO blocks with four state machines each, that can independently execute sequential programs to manipulate GPIOs and transfer data. Unlike a general purpose processor, PIO state machines are highly specialised for IO, with a focus on determinism, precise timing, and close integration with fixed-function hardware.  The resources for the project include the [C SDK User Guide](https://datasheets.raspberrypi.org/pico/raspberry-pi-pico-c-sdk.pdf), the [RP2040 Datasheet](https://datasheets.raspberrypi.org/rp2040/rp2040-datasheet.pdf) and Prof. Hunter's [website](https://vha3.github.io/).\n",
    "\n",
    "---"
   ]
  },
  {
   "cell_type": "markdown",
   "id": "refined-energy",
   "metadata": {},
   "source": [
    "## The complete code"
   ]
  },
  {
   "cell_type": "markdown",
   "id": "previous-balance",
   "metadata": {},
   "source": [
    "### PIOMaxSquareWave.c\n",
    "\n",
    "```c\n",
    "/*\n",
    " * Parth Sarthi Sharma (pss242@cornell.edu)\n",
    " * Code based on examples from Raspberry Pi Foundation.\n",
    " * The code initializes a PIO state machine on a given\n",
    " * GPIO and generates a square wave.\n",
    " */\n",
    "\n",
    "#include \"pico/stdlib.h\" /Standard library for Pico\n",
    "#include \"hardware/pio.h\" //The hardware PIO library\n",
    "#include \"PIOMaxSqaureWave.pio.h\" //The pio header created after compilation\n",
    "\n",
    "#define PIN 6 //Define the GPIO Pin\n",
    "\n",
    "int main(){ //The main function\n",
    "\tPIO pio = pio0; //Identifier for the first (PIO 0) hardware PIO instance\n",
    "\tuint offset = pio_add_program(pio, &PIOMaxSqaureWave_program); //Attempt to load the program\n",
    "\tuint sm = pio_claim_unused_sm(pio, true); //Claim a free state machine on a PIO instance\n",
    "\tPIOMaxSqaureWave_program_init(pio, sm, offset, PIN, 625.0f); //Initialize the program\n",
    "\t\n",
    "\twhile(1){ //Empty eternity\n",
    "\t}\n",
    "}\n",
    "```\n",
    "\n",
    "<br>"
   ]
  },
  {
   "cell_type": "markdown",
   "id": "dated-receipt",
   "metadata": {},
   "source": [
    "### PIOMaxSqaureWave.pio\n",
    "\n",
    "```assembly\n",
    ".program PIOMaxSqaureWave ;Program name\n",
    "\n",
    ";Generate a square wave on a GPIO pin\n",
    "\n",
    "\tset pindirs, 1 ;Set pin direction to output\n",
    ".wrap_target ;Free 0 cycle unconditional jump\n",
    "\tset pins, 1 ;Drive pins high\n",
    "\tset pins, 0 ;Drive pins low\n",
    ".wrap\n",
    "\n",
    ";Helper function\n",
    "\n",
    "%c-sdk{\n",
    "\tstatic inline void PIOMaxSqaureWave_program_init(PIO pio, uint sm, uint offset, uint pin, float clk_div){ //Program to initialize the PIO\n",
    "\t\tpio_sm_config c = PIOMaxSqaureWave_program_get_default_config(offset); //Get default configurations for the PIO state machine\n",
    "\t\tsm_config_set_set_pins(&c, pin, 1); //Set the state machine configurations on the given pin\n",
    "\t\tsm_config_set_clkdiv(&c, clk_div); //Set the state machine clock divider\n",
    "\t\tpio_gpio_init(pio, pin); //Setup the function select for a GPIO to use output from the given PIO instance\n",
    "\t\tpio_sm_set_consecutive_pindirs(pio, sm, pin, 1, true); //Use a state machine to set the same pin direction for multiple consecutive pins for the PIO instance\n",
    "\t\tpio_sm_init(pio, sm, offset, &c); //Resets the state machine to a consistent state, and configures it\n",
    "\t\tpio_sm_set_enabled(pio, sm, true); //Enable or disable a PIO state machine\n",
    "\t}\n",
    "%}\n",
    "```\n",
    "\n",
    "---\n",
    "\n",
    "<br>"
   ]
  },
  {
   "cell_type": "markdown",
   "id": "based-credits",
   "metadata": {},
   "source": [
    "## Stepping through the code\n",
    "\n",
    "### Includes\n",
    "\n",
    "The first lines of code in the C source file include some header files. The headers which come from the C SDK for the Raspberry Pi Pico include `pico/stdlib.h` is what the SDK calls a \"High-Level API.\" These high-level API's \"provide higher level functionality that isn’t hardware related or provides a richer set of functionality above the basic hardware interfaces.\" The architecture of this SDK is described at length in the SDK manual. All libraries within the SDK are INTERFACE libraries.\n",
    "\n",
    "The next includes pull in hardware APIs which are not already brought in by pico/stdlib.h. These include `hardware/pio.h` and `PIOMaxSqaureWave.pio.h`. As the names suggest, these interface libraries give us access to the API's associated with the hardware and the custom square wave pio file created in the directory on the RP2040.\n",
    "\n",
    "**Don't forget to link these in the CMakeLists.txt file!**"
   ]
  },
  {
   "cell_type": "markdown",
   "id": "cross-chinese",
   "metadata": {},
   "source": [
    "```c\n",
    "#include \"pico/stdlib.h\"\n",
    "#include \"hardware/pio.h\"\n",
    "#include \"PIOMaxSqaureWave.pio.h\"\n",
    "```\n",
    "\n",
    "<br>"
   ]
  },
  {
   "cell_type": "markdown",
   "id": "chronic-quest",
   "metadata": {},
   "source": [
    "### Global declarations and defines\n",
    "\n",
    "The next section of the code is basically a single line which `#define`'s the GPIO pin number to read the square wave on."
   ]
  },
  {
   "cell_type": "markdown",
   "id": "vertical-tradition",
   "metadata": {},
   "source": [
    "```c\n",
    "#define PIN 6\n",
    "```\n",
    "\n",
    "<br>"
   ]
  },
  {
   "cell_type": "markdown",
   "id": "tired-dating",
   "metadata": {},
   "source": [
    "### The main function\n",
    "\n",
    "#### Initializing the PIO\n",
    "\n",
    "The first line in the `main()` initializes the PIO instance. The `pio_add_program()` function loads the program definition and returns the instruction memory offset the program is loaded at. The `pio_claim_unused_sm()` function is used to claim a free state machine on a PIO instance. Lastly, the `PIOMaxSqaureWave_program_init()` is called with the given parameters in order to finish configuring the PIO with the given pins and program."
   ]
  },
  {
   "cell_type": "markdown",
   "id": "tutorial-black",
   "metadata": {},
   "source": [
    "```c\n",
    "PIO pio = pio0;\n",
    "uint offset = pio_add_program(pio, &PIOMaxSqaureWave_program);\n",
    "uint sm = pio_claim_unused_sm(pio, true);\n",
    "PIOMaxSqaureWave_program_init(pio, sm, offset, PIN, 625.0f);\n",
    "```\n",
    "\n",
    "<br>"
   ]
  },
  {
   "cell_type": "markdown",
   "id": "revolutionary-humidity",
   "metadata": {},
   "source": [
    "#### The infinite while loop\n",
    "\n",
    "The infinite while loop for this program is an empty while loop which serves only to keep the core running and not let it exit."
   ]
  },
  {
   "cell_type": "markdown",
   "id": "emotional-rwanda",
   "metadata": {},
   "source": [
    "```c\n",
    "while(1){\n",
    "}\n",
    "```\n",
    "\n",
    "---\n",
    "\n",
    "<br>"
   ]
  },
  {
   "cell_type": "markdown",
   "id": "coordinate-hospital",
   "metadata": {},
   "source": [
    "## Expected vs actual output\n",
    "\n",
    "In order to view the output, I used the GPIO pin 6 and attached an oscilloscope to it. Since, the clock divider is 625, the effective clock frequency for the PIO is $clk_{eff} = \\frac{\\text{clock frequency}}{625} = 200 KHz$. Each instruction takes a clock cycle to execute, therefore, the expected square wave frequency is $sq_{freq} = \\frac{\\text{200000}}{2} = 100 KHz$.\n",
    "\n",
    "The scope trace below shows the output from the GPIO pin 6. The text in the top left corner of the screen confirms that the frequency of the generated wave is infact 100.490 KHz. We've obtained a square wave which is quite close to the expected result."
   ]
  },
  {
   "cell_type": "markdown",
   "id": "numerical-thing",
   "metadata": {},
   "source": [
    "<div style=\"display: flex; justify-content: center;\">\n",
    "  <img src=\"https://parthssharma.github.io/Pico/Files/PIOSqWaveOutput.jpeg\" style=\"width: 600px; height: 448px;\" >\n",
    "</div>\n",
    "<figure>\n",
    "    <center><figcaption>Output of the Square Wave PIO code</figcaption></center>\n",
    "</figure>\n",
    "\n",
    "---\n",
    "\n",
    "<br>"
   ]
  },
  {
   "cell_type": "markdown",
   "id": "handmade-talent",
   "metadata": {},
   "source": [
    "## CMakeLists.txt"
   ]
  },
  {
   "cell_type": "markdown",
   "id": "organic-degree",
   "metadata": {},
   "source": [
    "```cmake\n",
    "cmake_minimum_required(VERSION 3.13)\n",
    "\n",
    "include(pico_sdk_import.cmake)\n",
    "\n",
    "project(PIOMaxSqaureWave)\n",
    "\n",
    "pico_sdk_init()\n",
    "\n",
    "add_executable(PIOMaxSqaureWave PIOMaxSqaureWave.c)\n",
    "\n",
    "pico_generate_pio_header(PIOMaxSqaureWave ${CMAKE_CURRENT_LIST_DIR}/PIOMaxSqaureWave.pio)\n",
    "\n",
    "\n",
    "pico_enable_stdio_usb(PIOMaxSqaureWave 1)\n",
    "pico_enable_stdio_uart(PIOMaxSqaureWave 0)\n",
    "\n",
    "pico_add_extra_outputs(PIOMaxSqaureWave)\n",
    "\n",
    "target_link_libraries(PIOMaxSqaureWave pico_stdlib hardware_pio)\n",
    "```\n",
    "\n",
    "---\n",
    "\n",
    "<br>"
   ]
  }
 ],
 "metadata": {
  "kernelspec": {
   "display_name": "Python 3",
   "language": "python",
   "name": "python3"
  },
  "language_info": {
   "codemirror_mode": {
    "name": "ipython",
    "version": 3
   },
   "file_extension": ".py",
   "mimetype": "text/x-python",
   "name": "python",
   "nbconvert_exporter": "python",
   "pygments_lexer": "ipython3",
   "version": "3.9.2"
  }
 },
 "nbformat": 4,
 "nbformat_minor": 5
}
