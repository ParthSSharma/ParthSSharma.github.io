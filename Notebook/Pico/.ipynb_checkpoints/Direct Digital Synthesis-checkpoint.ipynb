{
 "cells": [
  {
   "cell_type": "markdown",
   "id": "intense-garden",
   "metadata": {},
   "source": [
    "# Direct Digital Synthesis\n",
    "\n",
    "This program was an introduction to the SPI communication protocol on the Raspberry Pi Pico. RP2040 has two identical SPI controllers, both based on an ARM Primecell Synchronous Serial Port (SSP). I used an [MCP4822 DAC](https://ww1.microchip.com/downloads/en/DeviceDoc/20002249B.pdf) to generate a sine wave of a given frequency. The Pico transmits data to the DAC using SPI. The resources for the project include the [C SDK User Guide](https://datasheets.raspberrypi.org/pico/raspberry-pi-pico-c-sdk.pdf), the [RP2040 Datasheet](https://datasheets.raspberrypi.org/rp2040/rp2040-datasheet.pdf) and Prof. Hunter's [website](https://vha3.github.io/).\n",
    "\n",
    "---"
   ]
  },
  {
   "cell_type": "markdown",
   "id": "closing-spiritual",
   "metadata": {},
   "source": [
    "## The complete code"
   ]
  },
  {
   "cell_type": "markdown",
   "id": "interstate-mouse",
   "metadata": {},
   "source": [
    "```c\n",
    "/*\n",
    " * Parth Sarthi Sharma (pss242@cornell.edu)\n",
    " * Code based on examples from Raspberry Pi Foundation.\n",
    " * The code initializes a pin to be PWM output and then\n",
    " * turns the duty cycle up and down in order to fade an LED in and out\n",
    " */\n",
    "#include <stdio.h> //The standard C library\n",
    "#include \"pico/stdlib.h\" //Standard library for Pico\n",
    "#include \"pico/time.h\" //The pico time library\n",
    "#include \"hardware/irq.h\" //The hardware interrupt library\n",
    "#include \"hardware/pwm.h\" //The hardware PWM library\n",
    "\n",
    "#define LEDPin 16 //The LED Pin\n",
    "\n",
    "void wrapHandler(){ //The PWM wrap handler function\n",
    "\tstatic int fade = 0; //Brightness level\n",
    "\tstatic bool rise = true; //Check if fading in or out\n",
    "\tpwm_clear_irq(pwm_gpio_to_slice_num(LEDPin)); //Clear the interrupt flag\n",
    "\t\n",
    "\tif(rise){ //If the brightness is rising\n",
    "\t\tfade++; //Increment the brightness level\n",
    "\t\tif(fade > 255){ //If the fade is greater than 255\n",
    "\t\t\tfade = 255; //Set the fade to be 255\n",
    "\t\t\trise = false; //Set flag to make brightness fall\n",
    "\t\t}\n",
    "\t}\n",
    "\telse{ //If the brightness is dalling\n",
    "\t\tfade--; //Decrement the brightness level\n",
    "\t\tif(fade < 0){ //If the fade is lesser than 0\n",
    "\t\t\tfade = 0; //Set the fade to be 0\n",
    "\t\t\trise = true; //Set flag to make brightness rise\n",
    "\t\t}\n",
    "\t}\n",
    "\t\n",
    "\tpwm_set_gpio_level(LEDPin, fade * fade); //Set the PWM level for the slice and channel associated with a GPIO. We use a square to make the change in brightness appear linear.\n",
    "}\n",
    "\n",
    "int main(){\n",
    "\tgpio_set_function(LEDPin, GPIO_FUNC_PWM); //Set the LED Pin to be PWM\n",
    "\tuint sliceNum = pwm_gpio_to_slice_num(LEDPin); //Get PWM slice number\n",
    "\t\n",
    "\tpwm_clear_irq(sliceNum); //Clear the IRQ for the linked slice\n",
    "    pwm_set_irq_enabled(sliceNum, true); //Enable the IRQ for the given slice\n",
    "    irq_set_exclusive_handler(PWM_IRQ_WRAP, wrapHandler); //Set an exclusive interrupt handler for the interrupt\n",
    "    irq_set_enabled(PWM_IRQ_WRAP, true); //Enable or disable a specific interrupt on the executing core\n",
    "\t\n",
    "\tpwm_config config = pwm_get_default_config(); //Get a set of default values for PWM configuration\n",
    "\tpwm_config_set_clkdiv(&config, 4.f); //Set clock divider in a PWM configuration\n",
    "\tpwm_init(sliceNum, &config, true); //Initialise a PWM with settings from a configuration object\n",
    "\t\n",
    "\twhile(1){\n",
    "\t\ttight_loop_contents(); //Empty function\n",
    "\t}\n",
    "}\n",
    "```\n",
    "\n",
    "---\n",
    "\n",
    "<br>"
   ]
  }
 ],
 "metadata": {
  "kernelspec": {
   "display_name": "Python 3",
   "language": "python",
   "name": "python3"
  },
  "language_info": {
   "codemirror_mode": {
    "name": "ipython",
    "version": 3
   },
   "file_extension": ".py",
   "mimetype": "text/x-python",
   "name": "python",
   "nbconvert_exporter": "python",
   "pygments_lexer": "ipython3",
   "version": "3.9.2"
  }
 },
 "nbformat": 4,
 "nbformat_minor": 5
}
