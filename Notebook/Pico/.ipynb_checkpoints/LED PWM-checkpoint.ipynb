{
 "cells": [
  {
   "cell_type": "markdown",
   "id": "higher-input",
   "metadata": {},
   "source": [
    "# LED PWM\n",
    "\n",
    "This program was an introduction to PWM in order to control the brightness of an LED connected to a GPIO pin. This was also an introduction to the PWM output on a GPIO pin. The resources for the project include the [C SDK User Guide](https://datasheets.raspberrypi.org/pico/raspberry-pi-pico-c-sdk.pdf), the [RP2040 Datasheet](https://datasheets.raspberrypi.org/rp2040/rp2040-datasheet.pdf) and Prof. Hunter's [website](https://vha3.github.io/).\n",
    "\n",
    "---"
   ]
  },
  {
   "cell_type": "markdown",
   "id": "refined-energy",
   "metadata": {},
   "source": [
    "## The complete code\n",
    "\n",
    "The following is the complete C code used to fade the LED in and out."
   ]
  },
  {
   "cell_type": "markdown",
   "id": "elegant-patio",
   "metadata": {},
   "source": [
    "```c\n",
    "/*\n",
    " * Parth Sarthi Sharma (pss242@cornell.edu)\n",
    " * Code based on examples from Raspberry Pi Foundation.\n",
    " * The code initializes a pin to be PWM output and then\n",
    " * turns the duty cycle up and down in order to fade an LED in and out\n",
    " */\n",
    "#include <stdio.h> //The standard C library\n",
    "#include \"pico/stdlib.h\" //Standard library for Pico\n",
    "#include \"pico/time.h\" //The pico time library\n",
    "#include \"hardware/irq.h\" //The hardware interrupt library\n",
    "#include \"hardware/pwm.h\" //The hardware PWM library\n",
    "\n",
    "#define LEDPin 16 //The LED Pin\n",
    "\n",
    "void wrapHandler(){ //The PWM wrap handler function\n",
    "\tstatic int fade = 0; //Brightness level\n",
    "\tstatic bool rise = true; //Check if fading in or out\n",
    "\tpwm_clear_irq(pwm_gpio_to_slice_num(LEDPin)); //Clear the interrupt flag\n",
    "\t\n",
    "\tif(rise){ //If the brightness is rising\n",
    "\t\tfade++; //Increment the brightness level\n",
    "\t\tif(fade > 255){ //If the fade is greater than 255\n",
    "\t\t\tfade = 255; //Set the fade to be 255\n",
    "\t\t\trise = false; //Set flag to make brightness fall\n",
    "\t\t}\n",
    "\t}\n",
    "\telse{ //If the brightness is dalling\n",
    "\t\tfade--; //Decrement the brightness level\n",
    "\t\tif(fade < 0){ //If the fade is lesser than 0\n",
    "\t\t\tfade = 0; //Set the fade to be 0\n",
    "\t\t\trise = true; //Set flag to make brightness rise\n",
    "\t\t}\n",
    "\t}\n",
    "\t\n",
    "\tpwm_set_gpio_level(LEDPin, fade * fade); //Set the PWM level for the slice and channel associated with a GPIO. We use a square to make the change in brightness appear linear.\n",
    "}\n",
    "\n",
    "int main(){\n",
    "\tgpio_set_function(LEDPin, GPIO_FUNC_PWM); //Set the LED Pin to be PWM\n",
    "\tuint sliceNum = pwm_gpio_to_slice_num(LEDPin); //Get PWM slice number\n",
    "\t\n",
    "\tpwm_clear_irq(sliceNum); //Clear the IRQ for the linked slice\n",
    "    pwm_set_irq_enabled(sliceNum, true); //Enable the IRQ for the given slice\n",
    "    irq_set_exclusive_handler(PWM_IRQ_WRAP, wrapHandler); //Set an exclusive interrupt handler for the interrupt\n",
    "    irq_set_enabled(PWM_IRQ_WRAP, true); //Enable or disable a specific interrupt on the executing core\n",
    "\t\n",
    "\tpwm_config config = pwm_get_default_config(); //Get a set of default values for PWM configuration\n",
    "\tpwm_config_set_clkdiv(&config, 4.f); //Set clock divider in a PWM configuration\n",
    "\tpwm_init(sliceNum, &config, true); //Initialise a PWM with settings from a configuration object\n",
    "\t\n",
    "\twhile(1){\n",
    "\t\ttight_loop_contents(); //Empty function\n",
    "\t}\n",
    "}\n",
    "```\n",
    "\n",
    "---\n",
    "\n",
    "<br>"
   ]
  },
  {
   "cell_type": "markdown",
   "id": "based-credits",
   "metadata": {},
   "source": [
    "## Stepping through the code\n",
    "\n",
    "### Includes\n",
    "\n",
    "The first lines of code in the C source file include some header files. One of these is standard C headers (`stdio.h`) and the others are headers which come from the C SDK for the Raspberry Pi Pico. The first of these, `pico/stdlib.h` is what the SDK calls a \"High-Level API.\" These high-level API's \"provide higher level functionality that isn’t hardware related or provides a richer set of functionality above the basic hardware interfaces.\" The architecture of this SDK is described at length in the SDK manual. All libraries within the SDK are INTERFACE libraries.\n",
    "\n",
    "The next includes pull in hardware APIs which are not already brought in by `pico/stdlib.h`. These include `hardware/irq.h`, `hardware/pwm.h` and `pico/time.h`. As the names suggest, these interface libraries give us access to the API's associated with the hardware PWM, hardware IRQ and pico time on the RP2040.\n",
    "\n",
    "**Don't forget to link these in the CMakeLists.txt file!**"
   ]
  },
  {
   "cell_type": "markdown",
   "id": "cross-chinese",
   "metadata": {},
   "source": [
    "```c\n",
    "#include <stdio.h>\n",
    "#include \"pico/stdlib.h\"\n",
    "#include \"pico/time.h\"\n",
    "#include \"hardware/irq.h\"\n",
    "#include \"hardware/pwm.h\"\n",
    "```"
   ]
  },
  {
   "cell_type": "markdown",
   "id": "chronic-quest",
   "metadata": {},
   "source": [
    "### Global declarations and defines\n",
    "\n",
    "The next section of the code is basically a single line which `#define`'s the LED pin number (GPIO 16 in this case)."
   ]
  },
  {
   "cell_type": "markdown",
   "id": "vertical-tradition",
   "metadata": {},
   "source": [
    "```c\n",
    "#define LEDPin 16\n",
    "```"
   ]
  },
  {
   "cell_type": "markdown",
   "id": "swiss-sector",
   "metadata": {},
   "source": [
    "### The PWM wrap handler\n",
    "\n",
    "The `wrapHandler()` is the function that is called every time the PWM timer throws an interrupt. This function has two `static` variables: `fade` and `rise`. The `fade` variable is used to keep a track of the brightness level of the LED. The `rise` variable is used to keep a track of the state whether the LED is fading in or fading out. Since I wanted the change in brightness to be linearly visible, I used the square of the fade value to determine the duty cycle. I used the `pwm_set_gpio_level()` function to change the duty cycle. Since the PWM in the RP2040 is 16-bit wide, it can take in values from 0 to 65536.  "
   ]
  },
  {
   "cell_type": "markdown",
   "id": "tired-dating",
   "metadata": {},
   "source": [
    "### The main function\n",
    "\n",
    "#### Initializing UART\n",
    "\n",
    "The first line in `main()` is a call to `stdio_init_all()`. This function initializes stdio to communicate through either UART or USB, depending on the configurations in the CMakeLists.txt file."
   ]
  },
  {
   "cell_type": "markdown",
   "id": "tutorial-black",
   "metadata": {},
   "source": [
    "```c\n",
    "stdio_init_all();\n",
    "```"
   ]
  },
  {
   "cell_type": "markdown",
   "id": "binding-language",
   "metadata": {},
   "source": [
    "#### GPIO initialization and configuration\n",
    "\n",
    "In the next 2 lines of the code, I initialized the LED pin and configured it to be the output pin. The `gpio_init()` function is used to initialize the pin and the `gpio_set_dir()` function us used to set the pin direction which can be `GPIO_OUT` (output) or `GPIO_IN` (input)."
   ]
  },
  {
   "cell_type": "markdown",
   "id": "french-boundary",
   "metadata": {},
   "source": [
    "```c\n",
    "gpio_init(LED);\n",
    "gpio_set_dir(LED, GPIO_OUT);\n",
    "```"
   ]
  },
  {
   "cell_type": "markdown",
   "id": "revolutionary-humidity",
   "metadata": {},
   "source": [
    "#### The infinite while loop\n",
    "\n",
    "This is the loop which which runs forever and executes the code sequentially. It basically contains 2 subsections: turning the LED on and tunring the LED off. I also used the `printf()` statement to print the output to the screen. In order to see the output, I used the serial monitor provided by the Arduino IDE. Then I used `gpio_put()` to set the pins `HIGH` or `LOW`. Lastly, I used the `sleep_ms()` to put the CPU to sleep for 1 second for both `HIGH` and `LOW`."
   ]
  },
  {
   "cell_type": "markdown",
   "id": "emotional-rwanda",
   "metadata": {},
   "source": [
    "```c\n",
    "while(1){\n",
    "    printf(\"LED OFF\\n\");\n",
    "    gpio_put(LED, 0);\n",
    "    sleep_ms(1000);\n",
    "    printf(\"LED ON\\n\");\n",
    "    gpio_put(LED, 1);\n",
    "    sleep_ms(1000);\n",
    "}\n",
    "```"
   ]
  },
  {
   "cell_type": "markdown",
   "id": "coordinate-hospital",
   "metadata": {},
   "source": [
    "## The output\n",
    "\n",
    "In order to view the output, I used the serial monitor provided by the Arduino IDE. As it shows, the LED is toggling at an interval of 1 second."
   ]
  },
  {
   "cell_type": "markdown",
   "id": "numerical-thing",
   "metadata": {},
   "source": [
    "<div style=\"display: flex; justify-content: center;\">\n",
    "  <img src=\"https://parthssharma.github.io/Pico/Files/LEDBlinkOutput.png\" style=\"width: 1004px; height: 447px;\" >\n",
    "</div>\n",
    "<figure>\n",
    "    <center><figcaption>Output of the LED Blink code</figcaption></center>\n",
    "</figure>"
   ]
  },
  {
   "cell_type": "markdown",
   "id": "handmade-talent",
   "metadata": {},
   "source": [
    "## CMakeLists.txt"
   ]
  },
  {
   "cell_type": "markdown",
   "id": "organic-degree",
   "metadata": {},
   "source": [
    "```cmake\n",
    "cmake_minimum_required(VERSION 3.13)\n",
    "\n",
    "include(pico_sdk_import.cmake)\n",
    "\n",
    "project(LEDPWM)\n",
    "\n",
    "pico_sdk_init()\n",
    "\n",
    "add_executable(LEDPWM LEDPWM.c)\n",
    "\n",
    "pico_enable_stdio_usb(LEDPWM 1)\n",
    "pico_enable_stdio_uart(LEDPWM 0)\n",
    "\n",
    "pico_add_extra_outputs(LEDPWM)\n",
    "\n",
    "target_link_libraries(LEDPWM pico_stdlib pico_time hardware_irq hardware_pwm)\n",
    "```"
   ]
  }
 ],
 "metadata": {
  "kernelspec": {
   "display_name": "Python 3",
   "language": "python",
   "name": "python3"
  },
  "language_info": {
   "codemirror_mode": {
    "name": "ipython",
    "version": 3
   },
   "file_extension": ".py",
   "mimetype": "text/x-python",
   "name": "python",
   "nbconvert_exporter": "python",
   "pygments_lexer": "ipython3",
   "version": "3.9.2"
  }
 },
 "nbformat": 4,
 "nbformat_minor": 5
}
