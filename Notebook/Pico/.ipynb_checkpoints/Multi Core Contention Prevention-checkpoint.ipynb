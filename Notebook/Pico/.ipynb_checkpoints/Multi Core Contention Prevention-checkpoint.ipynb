{
 "cells": [
  {
   "cell_type": "markdown",
   "id": "varying-softball",
   "metadata": {},
   "source": [
    "# Multi Core Contention Prevention\n",
    "\n",
    "RP2040 has Dual Cortex M0+ processor cores which can run upto 133MHz independent of each other. However, the second core (core 1) is asleep on boot and needs to be waken up by a function call from the first core (core 0). This program demonstrates the prevention of contention between core 0 and core 1 for a shared memory space using spin locks. The demonstration of contention can be found [here](https://parthssharma.github.io/Pico/MultiCoreContention.html). The resources for the project include the [C SDK User Guide](https://datasheets.raspberrypi.org/pico/raspberry-pi-pico-c-sdk.pdf), the [RP2040 Datasheet](https://datasheets.raspberrypi.org/rp2040/rp2040-datasheet.pdf) and Prof. Hunter's [website](https://vha3.github.io/).\n",
    "\n",
    "---"
   ]
  },
  {
   "cell_type": "markdown",
   "id": "ordinary-dover",
   "metadata": {},
   "source": [
    "## The complete code"
   ]
  },
  {
   "cell_type": "markdown",
   "id": "talented-sound",
   "metadata": {},
   "source": [
    "```c\n",
    "/*\n",
    " * Parth Sarthi Sharma (pss242@cornell.edu)\n",
    " * Code based on examples from Raspberry Pi Foundation.\n",
    " * This code is a demonstration of contention prevention between the\n",
    " * two cores. The code wakes up core 1 from its slumber and increments a\n",
    " * common variable on each core using the spin lock mechanism to prevent contention.\n",
    " */\n",
    "#include <stdio.h> //The standard C library\n",
    "#include \"pico/stdlib.h\" //Standard library for Pico\n",
    "#include \"pico/time.h\" //The pico time library\n",
    "#include \"pico/multicore.h\" //The pico multicore library\n",
    "#include \"hardware/gpio.h\" //The hardware GPIO library\n",
    "#include \"hardware/timer.h\" //The hardware timer library\n",
    "#include \"hardware/sync.h\" //The hardware sync library\n",
    "\n",
    "#define BUTTON 5 //The pushbutton\n",
    "\n",
    "int spinNum; //The spin lock number\n",
    "spin_lock_t *spinLock; //The spinlock object that will be associated with spinNum\n",
    "\n",
    "int i = 0; //The number to be incremented\n",
    "int core0 = 0, core1 = 0; //Counters for each core\n",
    "\n",
    "void core1_entry() { //The program running on core 1\n",
    "\twhile(1){ //While eternity\n",
    "\t\tspin_lock_unsafe_blocking(spinLock); //Acquire the spin lock without disabling interrupts\n",
    "\t\tif(i < 100000000){ //If i is less than 100000000\n",
    "\t\t\ti++; //Increment i\n",
    "\t\t\tcore1++; //Increment core 1 \n",
    "\t\t}\n",
    "\t\tspin_unlock_unsafe(spinLock); //Release the spin lock without re-enabling interrupts\n",
    "\t}\n",
    "}\n",
    "\n",
    "int main(){ //The program running on core 0\n",
    "    stdio_init_all(); //Initialize all of the present standard stdio types that are linked into the binary\n",
    "\t\n",
    "\tgpio_init(BUTTON); //Initialize the pushbutton pin\n",
    "\tgpio_set_dir(BUTTON, GPIO_IN); //Initialize the pushbutton pin to be input\n",
    "\t\n",
    "\tspinNum = spin_lock_claim_unused(true); //Claim a free spin lock. If true the function will panic if none are available\n",
    "    spinLock = spin_lock_init(spinNum); //Initialise a spin lock\n",
    "\t\n",
    "\tmulticore_launch_core1(core1_entry); //Reset core1 and enter the core1_entry function on core 1 using the default core 1 stack\n",
    "\t\n",
    "\tuint64_t startTime = get_absolute_time(); //Fetch the time at which the CPU starts executing the program\n",
    "\tprintf(\"Start Time: %lld.\\n\", startTime); //Print out the time start time\n",
    "\twhile(1){ //While eternity\n",
    "\t\tspin_lock_unsafe_blocking(spinLock); //Acquire the spin lock without disabling interrupts\n",
    "\t\tif(i < 100000000){ //As long as i is less than 100000000\n",
    "\t\t\ti++; //Increment i\n",
    "\t\t\tcore0++; //Increment core 0\n",
    "\t\t}\n",
    "\t\telse if(i == 100000000){ //As soon as i hits 100000000\n",
    "\t\t\tuint64_t timeTaken = get_absolute_time() - startTime; //Get the time it took to finish the job\n",
    "\t\t\tprintf(\"Time Taken: %lld.\\n\", timeTaken); //Print out the time it took to finish the job\t\t\t\n",
    "\t\t\tprintf(\"Core0: %d, core1: %d\\n\", core0, core1); //Print out the number of increments on core 0 and core 1\n",
    "\t\t\ti++; //Increment i to stop printing\n",
    "\t\t}\n",
    "\t\telse if(gpio_get(BUTTON)){ //If the button has been pressed\n",
    "\t\t\ti = 0; //Reset i\n",
    "\t\t\tcore0 = 0; //Reset core 0 counter\n",
    "\t\t\tcore1 = 0; //Reset core 1 counter\n",
    "\t\t\tstartTime = get_absolute_time(); //Reset the start time\n",
    "\t\t\tprintf(\"Start Time: %lld.\\n\", startTime); //Print out the new time\n",
    "\t\t}\n",
    "\t\tspin_unlock_unsafe(spinLock); //Release the spin lock without re-enabling interrupts\n",
    "\t}\n",
    "}\n",
    "```\n",
    "\n",
    "---\n",
    "\n",
    "<br>"
   ]
  },
  {
   "cell_type": "markdown",
   "id": "incident-undergraduate",
   "metadata": {},
   "source": [
    "## Stepping through the code\n",
    "\n",
    "### Includes\n",
    "\n",
    "The first lines of code in the C source file include some header files. One of these is standard C headers (`stdio.h`) and the others are headers which come from the C SDK for the Raspberry Pi Pico. The first of these, `pico/stdlib.h` is what the SDK calls a \"High-Level API.\" These high-level API's \"provide higher level functionality that isn’t hardware related or provides a richer set of functionality above the basic hardware interfaces.\" The architecture of this SDK is described at length in the SDK manual. All libraries within the SDK are INTERFACE libraries.\n",
    "\n",
    "The next includes pull in hardware APIs which are not already brought in by `pico/stdlib.h`. These include `hardware/gpio.h`, `hardware/timer.h`, `hardware/sync.h`, `pico/time.h` and `pico/multicore.h`. As the names suggest, these interface libraries give us access to the API's associated with the hardware GPIO, hardware timer, hardware sync, pico time and pico multicore on the RP2040.\n",
    "\n",
    "**Don't forget to link these in the CMakeLists.txt file!**"
   ]
  },
  {
   "cell_type": "markdown",
   "id": "developing-conference",
   "metadata": {},
   "source": [
    "```c\n",
    "#include <stdio.h>\n",
    "#include \"pico/stdlib.h\"\n",
    "#include \"pico/time.h\"\n",
    "#include \"pico/multicore.h\"\n",
    "#include \"hardware/gpio.h\"\n",
    "#include \"hardware/timer.h\"\n",
    "#include \"hardware/sync.h\"\n",
    "```\n",
    "\n",
    "<br>"
   ]
  },
  {
   "cell_type": "markdown",
   "id": "monetary-establishment",
   "metadata": {},
   "source": [
    "### Global declarations and defines\n",
    "\n",
    "The next section of the code is the `#define`'s and the global variables which will be used throughout the code. The `#define` is the pushbutton pin declaration on GPIO 5. The variables declared include a spin lock number and a spin lock identifier. The next variables that are declared are the increment variable `i` and the tracker variables `core0` and `core1`. The increment variable `i` is shared by both cores as it is declared in the global memory space."
   ]
  },
  {
   "cell_type": "markdown",
   "id": "considerable-going",
   "metadata": {},
   "source": [
    "```c\n",
    "#define BUTTON 5\n",
    "\n",
    "int spinNum;\n",
    "spin_lock_t *spinLock;\n",
    "\n",
    "int i = 0;\n",
    "int core0 = 0, core1 = 0;\n",
    "```\n",
    "\n",
    "<br>"
   ]
  },
  {
   "cell_type": "markdown",
   "id": "ideal-third",
   "metadata": {},
   "source": [
    "### Core 1 function\n",
    "\n",
    "The core 1 function is the function which runs on the core 1 once it wakes up from its slumber. In other terms, this function is the `main()` function for core 1 and runs independent of the actual `main()` function running on core 0 (unless there is an intra-core communication). The `core1_entry()` function grabs the spin lock (if it is unlocked) and checks if `i` is less than 100000000. If it is, it increments both `i` and `core1` and releases the spinlock. It then proceeds to repeat the process for eternity. As long as the spin lock is acquired by core 1, core 0 will not be able to acquire it.\n",
    "\n",
    "##### Additional information\n",
    "\n",
    "As per [Wikipedia](https://en.wikipedia.org/wiki/Spinlock): A spinlock is a lock which causes a thread trying to acquire it to simply wait in a loop (\"spin\") while repeatedly checking if the lock is available. Since the thread remains active but is not performing a useful task, the use of such a lock is a kind of busy waiting. Once acquired, spinlocks will usually be held until they are explicitly released, although in some implementations they may be automatically released if the thread being waited on (the one which holds the lock) blocks, or \"goes to sleep\"."
   ]
  },
  {
   "cell_type": "markdown",
   "id": "signed-testimony",
   "metadata": {},
   "source": [
    "```c\n",
    "void core1_entry() {\n",
    "\twhile(1){\n",
    "        spin_lock_unsafe_blocking(spinLock);\n",
    "\t\tif(i < 100000000){\n",
    "\t\t\ti++;\n",
    "\t\t\tcore1++;\n",
    "\t\t}\n",
    "        spin_unlock_unsafe(spinLock);\n",
    "\t}\n",
    "}\n",
    "```\n",
    "\n",
    "<br>"
   ]
  },
  {
   "cell_type": "markdown",
   "id": "hairy-absorption",
   "metadata": {},
   "source": [
    "### The main function\n",
    "\n",
    "#### Initializing communication\n",
    "\n",
    "The first line in `main()` is a call to `stdio_init_all()`. This function initializes stdio to communicate through either UART or USB, depending on the configurations in the CMakeLists.txt file."
   ]
  },
  {
   "cell_type": "markdown",
   "id": "outdoor-screw",
   "metadata": {},
   "source": [
    "```c\n",
    "stdio_init_all();\n",
    "```\n",
    "\n",
    "<br>"
   ]
  },
  {
   "cell_type": "markdown",
   "id": "exposed-mother",
   "metadata": {},
   "source": [
    "#### GPIO initialization and configuration\n",
    "\n",
    "In the next 2 lines of the code, I initialized the button pin and configured it to be the input pin. The `gpio_init()` function is used to initialize the pin and the `gpio_set_dir()` function us used to set the pin direction which can be GPIO_OUT (output) or GPIO_IN (input)."
   ]
  },
  {
   "cell_type": "markdown",
   "id": "alert-service",
   "metadata": {},
   "source": [
    "```c\n",
    "gpio_init(BUTTON);\n",
    "gpio_set_dir(BUTTON, GPIO_IN);\n",
    "```\n",
    "\n",
    "<br>"
   ]
  },
  {
   "cell_type": "markdown",
   "id": "persistent-girlfriend",
   "metadata": {},
   "source": [
    "#### Spin lock initialization\n",
    "\n",
    "The next line of code claims an unused spin lock using the `spin_lock_claim_unused()` function. This function takes a boolean value as an argument. If the argument is `true`, the function will panic if no spin locks are available. Then, this spin lock is initialized using the `spin_lock_init()` function."
   ]
  },
  {
   "cell_type": "markdown",
   "id": "transsexual-passenger",
   "metadata": {},
   "source": [
    "```c\n",
    "spinNum = spin_lock_claim_unused(true);\n",
    "spinLock = spin_lock_init(spinNum);\n",
    "```\n",
    "\n",
    "<br>"
   ]
  },
  {
   "cell_type": "markdown",
   "id": "married-genius",
   "metadata": {},
   "source": [
    "#### Waking up core 1 from its sleep\n",
    "\n",
    "In order to wake up the core 1 from sleep, I used the `multicore_launch_core1()` function. This function resets core 1 and enters the given function on core 1 using the default core 1 stack (below core 0 stack)."
   ]
  },
  {
   "cell_type": "markdown",
   "id": "headed-steering",
   "metadata": {},
   "source": [
    "```c\n",
    "multicore_launch_core1(core1_entry);\n",
    "```\n",
    "\n",
    "<br>"
   ]
  },
  {
   "cell_type": "markdown",
   "id": "disabled-florist",
   "metadata": {},
   "source": [
    "#### The infinite while loop\n",
    "\n",
    "This part of the program is quite similar to the `core1_entry()` function but has some additional functionality. It runs on the core 0 and follows the following algorithm:\n",
    "- Fetch the start time.\n",
    "- Print out the start time.\n",
    "- If the spin lock is unclaimed, grab it. Else, wait for it to become available.\n",
    "- If `i` is less than 100000000, increment `i` and `core0` tracker.\n",
    "- If `i` is equal to 100000000, calculate the time taken by core 0 to finish the job and print it out. Also, print out the values of `core0` and `core1` tracker variables. Increment `i` to avoid multiple prints.\n",
    "- If `i` is greater than 100000000 and the button has been pushed, reset `i` and the tracker variables and the start time to start the job again.\n",
    "- Release the spin lock."
   ]
  },
  {
   "cell_type": "markdown",
   "id": "monetary-virtue",
   "metadata": {},
   "source": [
    "```c\n",
    "uint64_t startTime = get_absolute_time();\n",
    "printf(\"Start Time: %lld.\\n\", startTime);\n",
    "while(1){\n",
    "    spin_lock_unsafe_blocking(spinLock);\n",
    "\tif(i < 100000000){\n",
    "\t\ti++;\n",
    "\t\tcore0++;\n",
    "\t}\n",
    "\telse if(i == 100000000){\n",
    "\t\tuint64_t timeTaken = get_absolute_time() - startTime;\n",
    "\t\tprintf(\"Time Taken: %lld.\\n\", timeTaken);\t\t\n",
    "\t\tprintf(\"Core0: %d, core1: %d\\n\", core0, core1);\n",
    "\t\ti++;\n",
    "\t}\n",
    "\telse if(gpio_get(BUTTON)){\n",
    "\t\ti = 0;\n",
    "\t\tcore0 = 0;\n",
    "\t\tcore1 = 0;\n",
    "\t\tstartTime = get_absolute_time();\n",
    "\t\tprintf(\"Start Time: %lld.\\n\", startTime);\n",
    "\t}\n",
    "    spin_unlock_unsafe(spinLock);\n",
    "}\n",
    "\n",
    "```\n",
    "\n",
    "---\n",
    "\n",
    "<br>"
   ]
  },
  {
   "cell_type": "markdown",
   "id": "satellite-litigation",
   "metadata": {},
   "source": [
    "## The output\n",
    "\n",
    "In order to view the output, I used the serial monitor provided by the Arduino IDE. As it is quite evident from the provided data, implementing the spin lock avoids the contention for shared memory between both cores and allows safe access of data."
   ]
  },
  {
   "cell_type": "markdown",
   "id": "alternative-external",
   "metadata": {},
   "source": [
    "<div style=\"display: flex; justify-content: center;\">\n",
    "  <img src=\"https://parthssharma.github.io/Pico/Files/SpinLockOutput.png\" style=\"width: 448px; height: 257px;\" >\n",
    "</div>\n",
    "<figure>\n",
    "    <center><figcaption>Output of the Spin Lock Mechanism</figcaption></center>\n",
    "</figure>\n",
    "\n",
    "---\n",
    "\n",
    "<br>"
   ]
  },
  {
   "cell_type": "markdown",
   "id": "rough-preservation",
   "metadata": {},
   "source": [
    "## CMakeLists.txt"
   ]
  },
  {
   "cell_type": "markdown",
   "id": "fresh-rabbit",
   "metadata": {},
   "source": [
    "```cmake\n",
    "cmake_minimum_required(VERSION 3.13)\n",
    "\n",
    "include(pico_sdk_import.cmake)\n",
    "\n",
    "project(MultiCoreCommonVarPerformaceCompDualCoreSpinLock)\n",
    "\n",
    "pico_sdk_init()\n",
    "\n",
    "add_executable(MultiCoreCommonVarPerformaceCompDualCoreSpinLock MultiCoreCommonVarPerformaceCompDualCoreSpinLock.c)\n",
    "\n",
    "pico_enable_stdio_usb(MultiCoreCommonVarPerformaceCompDualCoreSpinLock 1)\n",
    "pico_enable_stdio_uart(MultiCoreCommonVarPerformaceCompDualCoreSpinLock 1)\n",
    "\n",
    "pico_add_extra_outputs(MultiCoreCommonVarPerformaceCompDualCoreSpinLock)\n",
    "\n",
    "target_link_libraries(MultiCoreCommonVarPerformaceCompDualCoreSpinLock pico_stdlib pico_time pico_multicore hardware_gpio hardware_sync)\n",
    "```\n",
    "\n",
    "---\n",
    "\n",
    "<br>"
   ]
  }
 ],
 "metadata": {
  "kernelspec": {
   "display_name": "Python 3",
   "language": "python",
   "name": "python3"
  },
  "language_info": {
   "codemirror_mode": {
    "name": "ipython",
    "version": 3
   },
   "file_extension": ".py",
   "mimetype": "text/x-python",
   "name": "python",
   "nbconvert_exporter": "python",
   "pygments_lexer": "ipython3",
   "version": "3.9.2"
  }
 },
 "nbformat": 4,
 "nbformat_minor": 5
}
