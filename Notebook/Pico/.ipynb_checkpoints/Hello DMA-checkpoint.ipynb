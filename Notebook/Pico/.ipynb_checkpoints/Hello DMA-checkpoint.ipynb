{
 "cells": [
  {
   "cell_type": "markdown",
   "id": "higher-input",
   "metadata": {},
   "source": [
    "# Hello DMA\n",
    "\n",
    "This program was an introduction to the Direct Memory Access (DMA) on the Raspberry Pi Pico. The RP2040 DMA controller has separate read and write master connections to the bus fabric, and performs bulk data transfers on a processor’s behalf. This leaves processors free to attend to other tasks, or enter low-power sleep states. The data throughput of the DMA is also significantly higher than one of RP2040’s processors. The DMA can perform one read access and one write access, up to 32 bits in size, every clock cycle. There are 12 independent channels, each which supervise a sequence of bus transfers. The resources for the project include the [C SDK User Guide](https://datasheets.raspberrypi.org/pico/raspberry-pi-pico-c-sdk.pdf), the [RP2040 Datasheet](https://datasheets.raspberrypi.org/rp2040/rp2040-datasheet.pdf) and Prof. Hunter's [website](https://vha3.github.io/).\n",
    "\n",
    "---"
   ]
  },
  {
   "cell_type": "markdown",
   "id": "refined-energy",
   "metadata": {},
   "source": [
    "## The complete code"
   ]
  },
  {
   "cell_type": "markdown",
   "id": "previous-balance",
   "metadata": {},
   "source": [
    "```c\n",
    "/*\n",
    " * Parth Sarthi Sharma (pss242@cornell.edu)\n",
    " * Code based on examples from Raspberry Pi Foundation.\n",
    " * The code initializes a DMA channel and copies the\n",
    " * contents of an array to another array.\n",
    " */\n",
    " \n",
    "#include <stdio.h> //The standard C library\n",
    "#include \"pico/stdlib.h\" //Standard library for Pico\n",
    "#include \"hardware/dma.h\" //The hardware DMA library\n",
    "#include \"pico/time.h\" //The pico time library\n",
    "\n",
    "#define SIZE 256 //The size for data transfers\n",
    "\n",
    "int src[SIZE]; //The source array\n",
    "int dst[SIZE]; //The destination array\n",
    "\n",
    "int main(){ //The program running on core 0\n",
    "    stdio_init_all(); //Initialize all of the present standard stdio types that are linked into the bin\n",
    "\t\n",
    "\tint chan = dma_claim_unused_channel(true); //Claim a free dma channel\n",
    "\t\n",
    "\tsleep_ms(5000); //Sleep for 5 seconds\n",
    "\t\n",
    "\tint i; //The counter i\n",
    "\tfor(i = 0; i < SIZE; i++){ //For the sine table size\n",
    "\t\tsrc[i] = i; //Fill in the source array\n",
    "\t\tprintf(\"Source[%d]: %d\\n\", i, src[i]); //Print the source array\n",
    "\t}\n",
    "\t\n",
    "\tdma_channel_config c = dma_channel_get_default_config(chan); //Get the default channel configuration for a given channel\n",
    "    channel_config_set_transfer_data_size(&c, DMA_SIZE_32); //Set the size of each DMA bus transfer as 32 bits\n",
    "    channel_config_set_read_increment(&c, true); //Set DMA channel read increment\n",
    "    channel_config_set_write_increment(&c, true); //Set DMA channel write increment\n",
    "\t\n",
    "\tdma_channel_configure(chan, &c, dst, src, SIZE, true);//Configure all DMA parameters and optionally start transfer\n",
    "\tdma_channel_wait_for_finish_blocking(chan); //Wait for a DMA channel transfer to complete\n",
    "\t\n",
    "\tfor(i = 0; i < SIZE; i++){ //For the sine table size\n",
    "\t\tprintf(\"Destination[%d]: %d\\n\", i, dst[i]); //Print the destination array\n",
    "\t}\n",
    "}\n",
    "```\n",
    "\n",
    "<br>"
   ]
  },
  {
   "cell_type": "markdown",
   "id": "based-credits",
   "metadata": {},
   "source": [
    "## Stepping through the code\n",
    "\n",
    "### Includes\n",
    "\n",
    "The first lines of code in the C source file include some header files. The headers which come from the C SDK for the Raspberry Pi Pico include `pico/stdlib.h` is what the SDK calls a \"High-Level API.\" These high-level API's \"provide higher level functionality that isn’t hardware related or provides a richer set of functionality above the basic hardware interfaces.\" The architecture of this SDK is described at length in the SDK manual. All libraries within the SDK are INTERFACE libraries.\n",
    "\n",
    "The next includes pull in hardware APIs which are not already brought in by `pico/stdlib.h`. These include `hardware/dma.h` and `pico/time.h`. As the names suggest, these interface libraries give us access to the API's associated with the hardware dma and the pico time on the RP2040..\n",
    "\n",
    "**Don't forget to link these in the CMakeLists.txt file!**"
   ]
  },
  {
   "cell_type": "markdown",
   "id": "cross-chinese",
   "metadata": {},
   "source": [
    "```c\n",
    "#include <stdio.h>\n",
    "#include \"pico/stdlib.h\"\n",
    "#include \"hardware/dma.h\"\n",
    "#include \"pico/time.h\"\n",
    "```\n",
    "\n",
    "<br>"
   ]
  },
  {
   "cell_type": "markdown",
   "id": "chronic-quest",
   "metadata": {},
   "source": [
    "### Global declarations and defines\n",
    "\n",
    "The next section of the code is the #define's and the global variables which will be used throughout the code. \n",
    "\n",
    "The following are the `#define`'s to be used throughout the code:\n",
    " - The number of elements in the sine table\n",
    " \n",
    "The following are the variables to be used throughout the code:\n",
    " - The source array\n",
    " - The destination array"
   ]
  },
  {
   "cell_type": "markdown",
   "id": "vertical-tradition",
   "metadata": {},
   "source": [
    "```c\n",
    "#define SIZE 256\n",
    "\n",
    "int src[SIZE];\n",
    "int dst[SIZE];\n",
    "```\n",
    "\n",
    "<br>"
   ]
  },
  {
   "cell_type": "markdown",
   "id": "tired-dating",
   "metadata": {},
   "source": [
    "### The main function\n",
    "\n",
    "#### Initializing communication\n",
    "\n",
    "The first line in `main()` is a call to `stdio_init_all()`. This function initializes stdio to communicate through either UART or USB, depending on the configurations in the CMakeLists.txt file."
   ]
  },
  {
   "cell_type": "markdown",
   "id": "tutorial-black",
   "metadata": {},
   "source": [
    "```c\n",
    "stdio_init_all();\n",
    "```\n",
    "\n",
    "<br>"
   ]
  },
  {
   "cell_type": "markdown",
   "id": "outstanding-humanity",
   "metadata": {},
   "source": [
    "#### Claiming a DMA channel\n",
    "\n",
    "In order to fetch an unused DMA channel, I used the `dma_claim_unused_channel()`."
   ]
  },
  {
   "cell_type": "markdown",
   "id": "affecting-logic",
   "metadata": {},
   "source": [
    "```c\n",
    "int chan = dma_claim_unused_channel(true);\n",
    "```\n",
    "\n",
    "<br>"
   ]
  },
  {
   "cell_type": "markdown",
   "id": "retained-filter",
   "metadata": {},
   "source": [
    "#### Initializing the source array\n",
    "\n",
    "The aim is to copy the contents from one memory location to other. Hence, I initialized a source array using a `for` loop."
   ]
  },
  {
   "cell_type": "markdown",
   "id": "certified-conversation",
   "metadata": {},
   "source": [
    "```c\n",
    "int i;\n",
    "for(i = 0; i < SIZE; i++){\n",
    "\tsrc[i] = i;\n",
    "\tprintf(\"Source[%d]: %d\\n\", i, src[i]);\n",
    "}\n",
    "```\n",
    "\n",
    "<br>"
   ]
  },
  {
   "cell_type": "markdown",
   "id": "worthy-program",
   "metadata": {},
   "source": [
    "#### Configuring the DMA channel\n",
    "\n",
    "Finally, I configured the DMA channel using a series of commands. First, I used the `dma_channel_get_default_config()` function to fetch the default configurations. Next, I used the `channel_config_set_transfer_data_size()` fcuntion to set the transfer size to 32 bits. Lastly, I used the `channel_config_set_read_increment()` and `channel_config_set_write_increment()`to set the read and write to increment the address after each transfer.\n",
    "\n",
    "Once the configurations are set, I used the `dma_channel_configure()` function to set the destination, the source and the size of the transfer. The `dma_channel_wait_for_finish_blocking()` function waits until the DMA channel is done transfering."
   ]
  },
  {
   "cell_type": "markdown",
   "id": "earned-truth",
   "metadata": {},
   "source": [
    "```c\n",
    "dma_channel_config c = dma_channel_get_default_config(chan);\n",
    "channel_config_set_transfer_data_size(&c, DMA_SIZE_32);\n",
    "channel_config_set_read_increment(&c, true);\n",
    "channel_config_set_write_increment(&c, true);\n",
    "\t\n",
    "dma_channel_configure(chan, &c, dst, src, SIZE, true);\n",
    "dma_channel_wait_for_finish_blocking(chan);\n",
    "```\n",
    "\n",
    "<br>"
   ]
  },
  {
   "cell_type": "markdown",
   "id": "revolutionary-humidity",
   "metadata": {},
   "source": [
    "#### Printing the result in the destination array\n",
    "\n",
    "To verify the result of the DMA trasnfer, I printed the contents of the destination array on the console using a `for` loop."
   ]
  },
  {
   "cell_type": "markdown",
   "id": "emotional-rwanda",
   "metadata": {},
   "source": [
    "```c\n",
    "for(i = 0; i < SIZE; i++){\n",
    "\tprintf(\"Destination[%d]: %d\\n\", i, dst[i]);\n",
    "}\n",
    "```\n",
    "\n",
    "---\n",
    "\n",
    "<br>"
   ]
  },
  {
   "cell_type": "markdown",
   "id": "coordinate-hospital",
   "metadata": {},
   "source": [
    "## The Output\n",
    "\n",
    "The output of the DMA transfer is shown below. As it is quite evident, the DMA transfer was successful."
   ]
  },
  {
   "cell_type": "markdown",
   "id": "numerical-thing",
   "metadata": {},
   "source": [
    "<div style=\"display: flex; justify-content: center;\">\n",
    "  <img src=\"https://parthssharma.github.io/Pico/Files/HelloDMAOutput.png\" style=\"width: 655px; height: 357px;\" >\n",
    "</div>\n",
    "<figure>\n",
    "    <center><figcaption>Output of the Hello DMA code</figcaption></center>\n",
    "</figure>\n",
    "\n",
    "---\n",
    "\n",
    "<br>"
   ]
  },
  {
   "cell_type": "markdown",
   "id": "handmade-talent",
   "metadata": {},
   "source": [
    "## CMakeLists.txt"
   ]
  },
  {
   "cell_type": "markdown",
   "id": "organic-degree",
   "metadata": {},
   "source": [
    "```cmake\n",
    "cmake_minimum_required(VERSION 3.13)\n",
    "\n",
    "include(pico_sdk_import.cmake)\n",
    "\n",
    "project(HelloDMA)\n",
    "\n",
    "pico_sdk_init()\n",
    "\n",
    "add_executable(HelloDMA HelloDMA.c)\n",
    "\n",
    "pico_enable_stdio_usb(HelloDMA 1)\n",
    "pico_enable_stdio_uart(HelloDMA 1)\n",
    "\n",
    "pico_add_extra_outputs(HelloDMA)\n",
    "\n",
    "target_link_libraries(HelloDMA pico_stdlib hardware_dma pico_time)\n",
    "```\n",
    "\n",
    "---\n",
    "\n",
    "<br>"
   ]
  }
 ],
 "metadata": {
  "kernelspec": {
   "display_name": "Python 3",
   "language": "python",
   "name": "python3"
  },
  "language_info": {
   "codemirror_mode": {
    "name": "ipython",
    "version": 3
   },
   "file_extension": ".py",
   "mimetype": "text/x-python",
   "name": "python",
   "nbconvert_exporter": "python",
   "pygments_lexer": "ipython3",
   "version": "3.9.2"
  }
 },
 "nbformat": 4,
 "nbformat_minor": 5
}
