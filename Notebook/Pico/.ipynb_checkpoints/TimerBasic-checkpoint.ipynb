{
 "cells": [
  {
   "cell_type": "markdown",
   "id": "ordinary-orchestra",
   "metadata": {},
   "source": [
    "# Timer Basic\n",
    "\n",
    "This program was an introduction to the timer the system timer peripheral on RP2040. It provides a global microsecond timebase for the system, and generates interrupts based on this timebase. This programs fetches and prints the absolute time (the time elapsed since boot) on the serial monitor. The resources for the project include the [C SDK User Guide](https://datasheets.raspberrypi.org/pico/raspberry-pi-pico-c-sdk.pdf), the [RP2040 Datasheet](https://datasheets.raspberrypi.org/rp2040/rp2040-datasheet.pdf) and Prof. Hunter's [website](https://vha3.github.io/).\n",
    "\n",
    "The timer peripheral on RP2040 supports:\n",
    "- A single 64-bit counter, incrementing once per microsecond\n",
    "- This counter can be read from a pair of latching registers, for race-free reads over a 32-bit bus.\n",
    "- Four alarms: match on the lower 32 bits of counter, IRQ on match.\n",
    "\n",
    "---"
   ]
  },
  {
   "cell_type": "markdown",
   "id": "demanding-syntax",
   "metadata": {},
   "source": [
    "## The complete code"
   ]
  },
  {
   "cell_type": "markdown",
   "id": "egyptian-rubber",
   "metadata": {},
   "source": [
    "```c\n",
    "/*\n",
    " * Parth Sarthi Sharma (pss242@cornell.edu)\n",
    " * Code based on examples from Raspberry Pi Foundation.\n",
    " * The code fetches the absolute time into a variable and prints out\n",
    " * the time on the serial monitor.\n",
    " */\n",
    "#include <stdio.h> //The standard C library\n",
    "#include \"pico/stdlib.h\" //Standard library for Pico\n",
    "#include \"pico/time.h\" //The pico time library\n",
    "\n",
    "int main(){\n",
    "    stdio_init_all(); //Initialize all of the present standard stdio types that are linked into the binary\n",
    "    while(1){ //While eternity\n",
    "\t\tuint64_t time = get_absolute_time(); //Get a representation of the current time\n",
    "\t\tprintf(\"Time: %lld\\n\", time); //Print out the time on the serial monitor\n",
    "\t\tsleep_ms(1000); //Sleep for 1000 milliseconds\n",
    "\t}\n",
    "}\n",
    "```\n",
    "\n",
    "---\n",
    "\n",
    "<br>"
   ]
  },
  {
   "cell_type": "markdown",
   "id": "nominated-grocery",
   "metadata": {},
   "source": [
    "## Stepping through the code\n",
    "\n",
    "### Includes\n",
    "\n",
    "The first lines of code in the C source file include some header files. One of these is standard C headers (`stdio.h`) and the others are headers which come from the C SDK for the Raspberry Pi Pico. The first of these, `pico/stdlib.h` is what the SDK calls a \"High-Level API.\" These high-level API's \"provide higher level functionality that isn’t hardware related or provides a richer set of functionality above the basic hardware interfaces.\" The architecture of this SDK is described at length in the SDK manual. All libraries within the SDK are INTERFACE libraries.\n",
    "\n",
    "The next include pulls in hardware API which is not already brought in by `pico/stdlib.h`. This is the include `pico/time.h`. As the name suggestes, this interface library gives us access to the API associated with the pico time on the RP2040.\n",
    "\n",
    "**Don't forget to link these in the CMakeLists.txt file!**"
   ]
  },
  {
   "cell_type": "markdown",
   "id": "dated-potter",
   "metadata": {},
   "source": [
    "```c\n",
    "#include <stdio.h>\n",
    "#include \"pico/stdlib.h\"\n",
    "#include \"pico/time.h\"\n",
    "```\n",
    "\n",
    "<br>"
   ]
  },
  {
   "cell_type": "markdown",
   "id": "straight-communication",
   "metadata": {},
   "source": [
    "### The main function\n",
    "\n",
    "#### Initializing communication\n",
    "\n",
    "The first line in `main()` is a call to `stdio_init_all()`. This function initializes stdio to communicate through either UART or USB, depending on the configurations in the CMakeLists.txt file."
   ]
  },
  {
   "cell_type": "markdown",
   "id": "sealed-justice",
   "metadata": {},
   "source": [
    "```c\n",
    "stdio_init_all();\n",
    "```\n",
    "\n",
    "<br>"
   ]
  },
  {
   "cell_type": "markdown",
   "id": "collaborative-device",
   "metadata": {},
   "source": [
    "#### The infinite while loop\n",
    "\n",
    "For this code, the infinite while loop follows the following algorithm over and over again:\n",
    "- Fetch the absolute time.\n",
    "- Print the fetched absolute time on the screen.\n",
    "- Sleep for 1000 milliseconds.\n",
    "\n",
    "In order to fetch the absolute time, I used the `get_absolute_time()` function. This function returns the time since boot in microseconds as an unsigned 64-bit integer. Therefore, it is going to continue to run for **5851444** years after it boots up! Once the value is fetched, it is printed out on the serial monitor and the CPU sleeps for 1 second."
   ]
  },
  {
   "cell_type": "markdown",
   "id": "deadly-closure",
   "metadata": {},
   "source": [
    "```c\n",
    "uint64_t time = get_absolute_time();\n",
    "printf(\"Time: %lld\\n\", time);\n",
    "sleep_ms(1000);\n",
    "```\n",
    "\n",
    "---\n",
    "\n",
    "<br>"
   ]
  },
  {
   "cell_type": "markdown",
   "id": "bottom-command",
   "metadata": {},
   "source": [
    "## Output\n",
    "\n",
    "The output of the program is shown below. From the image it is verified that the time since boot (in microseconds) is being printed out at an interval of 1000 milliseconds."
   ]
  },
  {
   "cell_type": "markdown",
   "id": "nearby-chosen",
   "metadata": {},
   "source": [
    "<div style=\"display: flex; justify-content: center;\">\n",
    "  <img src=\"https://parthssharma.github.io/Pico/Files/TimerBasicOutput.png\" style=\"width: 275px; height: 207px;\" >\n",
    "</div>\n",
    "<figure>\n",
    "    <center><figcaption>PWM signal generated based on value from the ADC</figcaption></center>\n",
    "</figure>\n",
    "\n",
    "---"
   ]
  },
  {
   "cell_type": "markdown",
   "id": "overall-praise",
   "metadata": {},
   "source": [
    "## CMakeLists.txt"
   ]
  },
  {
   "cell_type": "markdown",
   "id": "crude-drain",
   "metadata": {},
   "source": [
    "```cmake\n",
    "cmake_minimum_required(VERSION 3.13)\n",
    "\n",
    "include(pico_sdk_import.cmake)\n",
    "\n",
    "project(TimerTest)\n",
    "\n",
    "pico_sdk_init()\n",
    "\n",
    "add_executable(TimerTest TimerTest.c)\n",
    "\n",
    "pico_enable_stdio_usb(TimerTest 1)\n",
    "pico_enable_stdio_uart(TimerTest 1)\n",
    "\n",
    "pico_add_extra_outputs(TimerTest)\n",
    "\n",
    "target_link_libraries(TimerTest pico_stdlib pico_time hardware_timer)\n",
    "```\n",
    "\n",
    "---"
   ]
  }
 ],
 "metadata": {
  "kernelspec": {
   "display_name": "Python 3",
   "language": "python",
   "name": "python3"
  },
  "language_info": {
   "codemirror_mode": {
    "name": "ipython",
    "version": 3
   },
   "file_extension": ".py",
   "mimetype": "text/x-python",
   "name": "python",
   "nbconvert_exporter": "python",
   "pygments_lexer": "ipython3",
   "version": "3.9.2"
  }
 },
 "nbformat": 4,
 "nbformat_minor": 5
}
