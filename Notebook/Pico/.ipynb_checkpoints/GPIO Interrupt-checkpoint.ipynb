{
 "cells": [
  {
   "cell_type": "markdown",
   "id": "higher-input",
   "metadata": {},
   "source": [
    "# GPIO Interrupt\n",
    "\n",
    "This program was an introduction to attaching interrupts on a GPIO pin. An interrupt can be generated for every GPIO pin in four scenarios: the GPIO is logical 1, the GPIO is logical 0, there is a falling edge or there is a rising edge. The resources for the project include the [C SDK User Guide](https://datasheets.raspberrypi.org/pico/raspberry-pi-pico-c-sdk.pdf), the [RP2040 Datasheet](https://datasheets.raspberrypi.org/rp2040/rp2040-datasheet.pdf) and Prof. Hunter's [website](https://vha3.github.io/).\n",
    "\n",
    "---"
   ]
  },
  {
   "cell_type": "markdown",
   "id": "refined-energy",
   "metadata": {},
   "source": [
    "## The complete code"
   ]
  },
  {
   "cell_type": "markdown",
   "id": "educated-marble",
   "metadata": {},
   "source": [
    "```c\n",
    "/*\n",
    " * Parth Sarthi Sharma (pss242@cornell.edu)\n",
    " * Code based on examples from Raspberry Pi Foundation.\n",
    " * This code is a demonstration of the GPIO interrupt on the RaspberryPi\n",
    " * Pico.\n",
    " */\n",
    "#include <stdio.h> //The standard C library\n",
    "#include \"pico/stdlib.h\" //Standard library for Pico\n",
    "#include \"hardware/gpio.h\" //The hardware GPIO library\n",
    "\n",
    "#define PIN 2 //The GPIO pin for interrupt\n",
    "\n",
    "volatile unsigned long long int counter = 0; //The counter variable\n",
    "\n",
    "void gpio_callback(uint gpio, uint32_t events) { //The GPIO callback function to handle interrupts\n",
    "\tcounter++; //Increment the counter\n",
    "\tprintf(\"%llu\\n\", counter); //Print the new value of the counter\n",
    "}\n",
    "\n",
    "int main() { //The program running on core 0\n",
    "    stdio_init_all(); //Initialize all of the present standard stdio types that are linked into the binary\n",
    "\n",
    "    gpio_set_irq_enabled_with_callback(PIN, GPIO_IRQ_EDGE_FALL, true, &gpio_callback); //Enable interrupts for the GPIO pin. Note: Currently the GPIO parameter is ignored, and this callback will be called for any enabled GPIO IRQ on any pin\n",
    "\n",
    "    while (1){ //Empty eternity\n",
    "\t}\n",
    "\n",
    "    return 0;\n",
    "}\n",
    "\n",
    "```\n",
    "\n",
    "---\n",
    "\n",
    "<br>"
   ]
  },
  {
   "cell_type": "markdown",
   "id": "based-credits",
   "metadata": {},
   "source": [
    "## Stepping through the code\n",
    "\n",
    "### Includes\n",
    "\n",
    "The first lines of code in the C source file include some header files. One of these is standard C headers (`stdio.h`) and the others are headers which come from the C SDK for the Raspberry Pi Pico. The first of these, `pico/stdlib.h` is what the SDK calls a \"High-Level API.\" These high-level API's \"provide higher level functionality that isn’t hardware related or provides a richer set of functionality above the basic hardware interfaces.\" The architecture of this SDK is described at length in the SDK manual. All libraries within the SDK are INTERFACE libraries.\n",
    "\n",
    "The next include pulls in hardware APIs which are not already brought in by `pico/stdlib.h`. This is the `hardware/gpio.h` library which gives us access to the API associated with the hardware GPIO on the RP2040.\n",
    "\n",
    "**Don't forget to link these in the CMakeLists.txt file!**"
   ]
  },
  {
   "cell_type": "markdown",
   "id": "cross-chinese",
   "metadata": {},
   "source": [
    "```c\n",
    "#include <stdio.h>\n",
    "#include \"pico/stdlib.h\"\n",
    "#include \"hardware/gpio.h\"\n",
    "```\n",
    "\n",
    "<br>"
   ]
  },
  {
   "cell_type": "markdown",
   "id": "chronic-quest",
   "metadata": {},
   "source": [
    "### Global declarations and defines\n",
    "\n",
    "The next section of the code is the `#define`'s and the global variables which will be used throughout the code. These are the  pin number (I attached a push button to this pin) and the counter variable to keep track of the number of times the button was pressed.\n",
    "\n",
    "_Note: The counter variable needs to be **volatile** as it is being changed by an interrupt._"
   ]
  },
  {
   "cell_type": "markdown",
   "id": "vertical-tradition",
   "metadata": {},
   "source": [
    "```c\n",
    "#define PIN 2\n",
    "volatile unsigned long long int counter = 0;\n",
    "```\n",
    "\n",
    "<br>"
   ]
  },
  {
   "cell_type": "markdown",
   "id": "latin-slope",
   "metadata": {},
   "source": [
    "### The interrupt handler\n",
    "\n",
    "The `gpio_callback()` is the function that is called every time the pushbutton calls the interrupt. Since there can only be one interrupt callback associated with the GPIO pins, it takes in the GPIO pin and the event as arguments to take decisions based on them. My interrupt handler increments the counter variable and prints it out on the console."
   ]
  },
  {
   "cell_type": "markdown",
   "id": "accredited-gnome",
   "metadata": {},
   "source": [
    "```c\n",
    "void gpio_callback(uint gpio, uint32_t events) {\n",
    "\tcounter++;\n",
    "\tprintf(\"%llu\\n\", counter);\n",
    "}\n",
    "```\n",
    "\n",
    "<br>"
   ]
  },
  {
   "cell_type": "markdown",
   "id": "tired-dating",
   "metadata": {},
   "source": [
    "### The main function\n",
    "\n",
    "#### Initializing UART\n",
    "\n",
    "The first line in `main()` is a call to `stdio_init_all()`. This function initializes stdio to communicate through either UART or USB, depending on the configurations in the CMakeLists.txt file."
   ]
  },
  {
   "cell_type": "markdown",
   "id": "direct-grill",
   "metadata": {},
   "source": [
    "```c\n",
    "stdio_init_all();\n",
    "```\n",
    "\n",
    "<br>"
   ]
  },
  {
   "cell_type": "markdown",
   "id": "straight-bangkok",
   "metadata": {},
   "source": [
    "#### Initializing the Interrupt\n",
    "\n",
    "I used the `gpio_set_irq_enabled_with_callback()` function enable interrupts for the GPIO pin. Note: Currently the GPIO parameter is ignored, and this callback will be called for any enabled GPIO IRQ on any pin."
   ]
  },
  {
   "cell_type": "markdown",
   "id": "tutorial-black",
   "metadata": {},
   "source": [
    "```c\n",
    "gpio_set_irq_enabled_with_callback(PIN, GPIO_IRQ_EDGE_FALL, true, &gpio_callback);\n",
    "```\n",
    "\n",
    "<br>"
   ]
  },
  {
   "cell_type": "markdown",
   "id": "revolutionary-humidity",
   "metadata": {},
   "source": [
    "#### The infinite while loop\n",
    "\n",
    "The infinite while loop for this program is an empty while loop which serves only to keep the core running and not let it exit."
   ]
  },
  {
   "cell_type": "markdown",
   "id": "emotional-rwanda",
   "metadata": {},
   "source": [
    "```c\n",
    "while(1){\n",
    "}\n",
    "```\n",
    "\n",
    "---\n",
    "\n",
    "<br>"
   ]
  },
  {
   "cell_type": "markdown",
   "id": "coordinate-hospital",
   "metadata": {},
   "source": [
    "## The output\n",
    "\n",
    "In order to view the output, I used PuTTY. As it shows, the counter variable increments on button presses."
   ]
  },
  {
   "cell_type": "markdown",
   "id": "numerical-thing",
   "metadata": {},
   "source": [
    "<div style=\"display: flex; justify-content: center;\">\n",
    "  <img src=\"https://parthssharma.github.io/Pico/Files/ADCInputOutput.jpeg\" style=\"width: 600px; height: 462px;\" >\n",
    "</div>\n",
    "<figure>\n",
    "    <center><figcaption>PWM signal generated based on value from the ADC</figcaption></center>\n",
    "</figure>\n",
    "\n",
    "---"
   ]
  },
  {
   "cell_type": "markdown",
   "id": "handmade-talent",
   "metadata": {},
   "source": [
    "## CMakeLists.txt"
   ]
  },
  {
   "cell_type": "markdown",
   "id": "organic-degree",
   "metadata": {},
   "source": [
    "```cmake\n",
    "cmake_minimum_required(VERSION 3.13)\n",
    "\n",
    "include(pico_sdk_import.cmake)\n",
    "\n",
    "project(HelloIRQ)\n",
    "\n",
    "pico_sdk_init()\n",
    "\n",
    "add_executable(HelloIRQ HelloIRQ.c)\n",
    "\n",
    "pico_enable_stdio_usb(HelloIRQ 1)\n",
    "pico_enable_stdio_uart(HelloIRQ 0)\n",
    "\n",
    "pico_add_extra_outputs(HelloIRQ)\n",
    "\n",
    "target_link_libraries(HelloIRQ pico_stdlib hardware_gpio)\n",
    "```\n",
    "\n",
    "---"
   ]
  }
 ],
 "metadata": {
  "kernelspec": {
   "display_name": "Python 3",
   "language": "python",
   "name": "python3"
  },
  "language_info": {
   "codemirror_mode": {
    "name": "ipython",
    "version": 3
   },
   "file_extension": ".py",
   "mimetype": "text/x-python",
   "name": "python",
   "nbconvert_exporter": "python",
   "pygments_lexer": "ipython3",
   "version": "3.9.2"
  }
 },
 "nbformat": 4,
 "nbformat_minor": 5
}
