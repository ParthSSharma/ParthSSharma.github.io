{
 "cells": [
  {
   "cell_type": "markdown",
   "id": "assured-wellington",
   "metadata": {},
   "source": [
    "# LED Blink\n",
    "\n",
    "As starting with any new programming language or microcontroller, my first program was to blink an LED at a fixt rate (also known as the `Hello World` of microcontrollers). This was also an introduction to the digital output on a GPIO pin. The resources for the project include the [C SDK User Guide](https://datasheets.raspberrypi.org/pico/raspberry-pi-pico-c-sdk.pdf), the [RP2040 Datasheet](https://datasheets.raspberrypi.org/rp2040/rp2040-datasheet.pdf) and Prof. Hunter's [website](https://vha3.github.io/).\n",
    "\n",
    "---"
   ]
  },
  {
   "cell_type": "markdown",
   "id": "pharmaceutical-example",
   "metadata": {},
   "source": [
    "## The complete code\n",
    "\n",
    "The following is the complete C code used to blink the LED."
   ]
  },
  {
   "cell_type": "markdown",
   "id": "joint-chair",
   "metadata": {},
   "source": [
    "```c\n",
    "/*\n",
    " * Parth Sarthi Sharma (pss242@cornell.edu)\n",
    " * Code based on examples from Raspberry Pi Foundation.\n",
    " * The code initializes the LED pin to be output and then\n",
    " * turns it ON and OFF in an infinite while loop\n",
    " */\n",
    "#include <stdio.h> //The standard C library\n",
    "#include \"pico/stdlib.h\" //Standard library for Pico\n",
    "#include \"hardware/gpio.h\" //The hardware GPIO library\n",
    "\n",
    "#define LED 25 //Define the default LED Pin\n",
    "\n",
    "int main(){ //The main function\n",
    "\tstdio_init_all(); //Initialize all of the present standard stdio types that are linked into the binary.\n",
    "\t\n",
    "\tgpio_init(LED); //Initialize the LED pin\n",
    "\tgpio_set_dir(LED, GPIO_OUT); //Initialize the LED pin to be output\n",
    "\t\n",
    "\twhile(1){ //While eternity\n",
    "\t\tprintf(\"LED OFF\\n\"); //Print out \"LED OFF\" to the screen\n",
    "\t\tgpio_put(LED, 0); //Turn the LED off\n",
    "\t\tsleep_ms(1000); //Sleep for 1000 milliseconds\n",
    "\t\tprintf(\"LED ON\\n\"); //Print out \"LED ON\" to the screen\n",
    "\t\tgpio_put(LED, 1); //Turn the LED on\n",
    "\t\tsleep_ms(1000); //Sleep for 1000 milliseconds\n",
    "\t}\n",
    "}\n",
    "```"
   ]
  },
  {
   "cell_type": "markdown",
   "id": "champion-start",
   "metadata": {},
   "source": [
    "## Stepping through the code\n",
    "\n",
    "### Includes\n",
    "\n",
    "The first lines of code in the C source file include some header files. One of these is standard C headers (`stdio.h`) and the others are headers which come from the C SDK for the Raspberry Pi Pico. The first of these, `pico/stdlib.h` is what the SDK calls a \"High-Level API.\" These high-level API's \"provide higher level functionality that isn’t hardware related or provides a richer set of functionality above the basic hardware interfaces.\" The architecture of this SDK is described at length in the SDK manual. All libraries within the SDK are INTERFACE libraries.\n",
    "\n",
    "The next include pulls in hardware API which is not already brought in by `pico/stdlib.h`. As the names suggest, this interface library gives us access to the API's associated with the hardware GPIO pins on the RP2040.\n",
    "\n",
    "**Don't forget to link these in the CMakeLists.txt file!**"
   ]
  },
  {
   "cell_type": "markdown",
   "id": "given-alabama",
   "metadata": {},
   "source": [
    "```c\n",
    "#include <stdio.h>\n",
    "#include \"pico/stdlib.h\"\n",
    "#include \"hardware/gpio.h\"\n",
    "```"
   ]
  },
  {
   "cell_type": "markdown",
   "id": "strange-means",
   "metadata": {},
   "source": [
    "### Global declarations and defines\n",
    "\n",
    "The next section of the code is basically a single line which `#define`'s the LED pin number (GPIO 25 is linked to the on-board LED)."
   ]
  },
  {
   "cell_type": "markdown",
   "id": "inner-psychiatry",
   "metadata": {},
   "source": [
    "```c\n",
    "#define LED 25\n",
    "```"
   ]
  },
  {
   "cell_type": "markdown",
   "id": "looking-carrier",
   "metadata": {},
   "source": [
    "### The main function\n",
    "\n",
    "#### Initializing UART\n",
    "\n",
    "The first line in `main()` is a call to `stdio_init_all()`. This function initializes stdio to communicate through either UART or USB, depending on the configurations in the CMakeLists.txt file."
   ]
  },
  {
   "cell_type": "markdown",
   "id": "fatty-switch",
   "metadata": {},
   "source": [
    "```c\n",
    "stdio_init_all();\n",
    "```"
   ]
  },
  {
   "cell_type": "markdown",
   "id": "amateur-native",
   "metadata": {},
   "source": [
    "#### GPIO initialization and configuration\n",
    "\n",
    "In the next 2 lines of the code, I initialized the LED pin and configured it to be the output pin. The `gpio_init()` function is used to initialize the pin and the `gpio_set_dir()` function us used to set the pin direction which can be `GPIO_OUT` (output) or `GPIO_IN` (input)."
   ]
  },
  {
   "cell_type": "markdown",
   "id": "offshore-heater",
   "metadata": {},
   "source": [
    "```c\n",
    "gpio_init(LED);\n",
    "gpio_set_dir(LED, GPIO_OUT);\n",
    "```"
   ]
  },
  {
   "cell_type": "markdown",
   "id": "verbal-halifax",
   "metadata": {},
   "source": [
    "#### The infinite while loop\n",
    "\n",
    "This is the loop which which runs forever and executes the code sequentially. It basically contains 2 subsections: turning the LED on and tunring the LED off. I also used the `printf()` statement to print the output to the screen. In order to see the output, I used the serial monitor provided by the Arduino IDE. Then I used `gpio_put()` to set the pins `HIGH` or `LOW`. Lastly, I used the `sleep_ms()` to put the CPU to sleep for 1 second for both `HIGH` and `LOW`."
   ]
  },
  {
   "cell_type": "markdown",
   "id": "veterinary-penalty",
   "metadata": {},
   "source": [
    "```c\n",
    "while(1){\n",
    "    printf(\"LED OFF\\n\");\n",
    "    gpio_put(LED, 0);\n",
    "    sleep_ms(1000);\n",
    "    printf(\"LED ON\\n\");\n",
    "    gpio_put(LED, 1);\n",
    "    sleep_ms(1000);\n",
    "}\n",
    "```"
   ]
  },
  {
   "cell_type": "markdown",
   "id": "contemporary-application",
   "metadata": {},
   "source": [
    "## The output\n",
    "\n",
    "In order to view the output, I used the serial monitor provided by the Arduino IDE. As it shows, the LED is toggling at an interval of 1 second."
   ]
  },
  {
   "cell_type": "markdown",
   "id": "twenty-celebration",
   "metadata": {},
   "source": [
    "<div style=\"display: flex; justify-content: center;\">\n",
    "  <img src=\"https://parthssharma.github.io/Pico/Files/LEDBlinkOutput.png\" style=\"width: 1004px; height: 447px;\" >\n",
    "</div>\n",
    "<figure>\n",
    "    <center><figcaption>Output of the LED Blink code</figcaption></center>\n",
    "</figure>"
   ]
  }
 ],
 "metadata": {
  "kernelspec": {
   "display_name": "Python 3",
   "language": "python",
   "name": "python3"
  },
  "language_info": {
   "codemirror_mode": {
    "name": "ipython",
    "version": 3
   },
   "file_extension": ".py",
   "mimetype": "text/x-python",
   "name": "python",
   "nbconvert_exporter": "python",
   "pygments_lexer": "ipython3",
   "version": "3.9.2"
  }
 },
 "nbformat": 4,
 "nbformat_minor": 5
}
