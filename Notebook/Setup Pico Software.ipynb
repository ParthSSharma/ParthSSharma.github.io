{
 "cells": [
  {
   "cell_type": "markdown",
   "id": "photographic-purple",
   "metadata": {},
   "source": [
    "# Setting up the Raspberry Pi Pico for C/C++ Development on Windows\n",
    "Everything in this file comes from the [Getting started with Raspberry Pi Pico for C/C++ development guide](https://datasheets.raspberrypi.org/pico/getting-started-with-pico.pdf) and Prof. Hunter Adams's [setup page](https://vha3.github.io/Pico/Setup/PicoSetup.html). This file contains all of the same content, just organized into an enumerated list.\n",
    "\n",
    "---"
   ]
  },
  {
   "cell_type": "markdown",
   "id": "changed-mediterranean",
   "metadata": {},
   "source": [
    "## Installing Required Software\n",
    "\n",
    "1. Install the [ARM GCC compiler](https://developer.arm.com/tools-and-software/open-source-software/developer-tools/gnu-toolchain/gnu-rm/downloads).\n",
    "> During installation, make sure to tick the box to register the path to the ARM compiler as an environment veraible in the Windows shell when prompted to do so.\n",
    "\n",
    "2. Install [Install CMake](https://cmake.org/download/).\n",
    "> When prompted, add CMake to the system PATH for all users.\n",
    "\n",
    "3. Install [Visual Studio Code](https://visualstudio.microsoft.com/downloads/) and [](https://visualstudio.microsoft.com/downloads/).\n",
    "> - When prompted by the Built Tools for Visual Studio installer, you need to install the C++ build tools only.\n",
    "> - You must install the full \"Windows 10 SDK\" package as the SDK will need to build the pioasm and elf2uf2 tools locally. Removing it from the list of installed items will mean that you will be unable to build Raspberry Pi Pico binaries.\n",
    "\n",
    "4. Install [Python 3.x](https://www.python.org/downloads/windows/) (I installed Python 3.9 but I believe 3.6+ works).\n",
    "> - When prompted by the installer, add Python 3.x to the system PATH for all users.\n",
    "> - You should be additionally disable the MAX_PATH length when prompted at the end of the installation.\n",
    "> - When installing, choose 'Custom installation,' click through 'Optional Features' and then under 'Advanced Features' choose 'Install for all users'\n",
    "> - It is possible that you will need to make a symbolic link so that the Makefile can find Python 3. To do so, type cmd in the Run Window so that the Developer Command Prompt icon appears in the Start Menu. Select the small arrow to the right of the icon, and then select \"Run as administrator.\" Navigate to `C:\\Program Files\\Python39` and make a symlink by running `C:\\Program Files\\Python39 > mklink python3.exe python.exe`. Only do this if your build fails because Make can't find your python installation.\n",
    "\n",
    "5. Install [Git](https://git-scm.com/download/win).\n",
    "> - When prompted by the installer, make sure that you change the default editor away from vim.\n",
    "> - Tick the checkbox to allow Git to be used from third-party tools.\n",
    "> - Check the box \"Checkout as is, commit as-is\" (unless you have a strong reason not to).\n",
    "> - Select \"Use Windows' default console window\".\n",
    "> - Select \"Enable experimental support for pseudo consoles\".\n",
    "\n",
    "---"
   ]
  },
  {
   "cell_type": "markdown",
   "id": "resistant-undergraduate",
   "metadata": {},
   "source": [
    "## Getting the SDK and examples\n",
    "\n",
    "1. Open Windows PowerShell, and create a directory where you'd like to store all the Pico examples and the SDK.\n",
    "2. Run the following set of commands:\n",
    "```\n",
    "git clone -b master https://github.com/raspberrypi/pico-sdk.git\n",
    "cd pico-sdk\n",
    "git submodule update --init\n",
    "cd ..\n",
    "git clone -b master https://github.com/raspberrypi/pico-examples.git\n",
    "```\n",
    "---"
   ]
  },
  {
   "cell_type": "markdown",
   "id": "incorporate-poland",
   "metadata": {},
   "source": [
    "## Building the example projects from the Command Line\n",
    "\n",
    "1. From the Windows Menu, select `Windows > Visual Studio 2019 > Developer Command Prompt`.\n",
    "2. Navigate to the directory where you've installed the Pico examples and SDK.\n",
    "3. Set the path to the SDK by running the following:\n",
    "```\n",
    "setx PICO_SDK_PATH \"..\\..\\pico-sdk\"\n",
    "```\n",
    "4. Close the current command prompt window.\n",
    "5. Open a new Command Prompt window by again navigating from the Windows Menu to `Windows > Visual Studio 2019 > Developer Command Prompt`. Closing/re-opening will set the environment variable that we configured above.\n",
    "6. Navigate to the `pico-examples` folder.\n",
    "7. Build the \"Hello World\" example by running:\n",
    "```\n",
    "cd pico-examples\n",
    "mkdir build\n",
    "cd build\n",
    "cmake -G \"NMake Makefiles\" ..\n",
    "nmake\n",
    "```\n",
    "8. Within the build directory, you will now find a `hello_world` directory. You will find directories for each of the other example projects too. These folders will contain the `ELF`, `bin`, and `uf2` target files for each project. The `uf2` target file can be dragged-and-dropped directly onto an RP2040 board attached to your PC via USB, as explained in the next section.\n",
    "\n",
    "---"
   ]
  },
  {
   "cell_type": "markdown",
   "id": "unique-professor",
   "metadata": {},
   "source": [
    "## Programming the Pico\n",
    "\n",
    "1. While holding down the `BOOTSEL` button, plug the Pico into a USB port.\n",
    "2. The Pico will appear as a mass storage device in your file navigator.\n",
    "3. Drag-and-drop `pico-examples\\build\\blink.uf2` to the Pico, as you would if you were moving a file to a flash drive.\n",
    "4. The Pico will automatically reboot, and start running the Blink example, flashing the LED.\n",
    "\n",
    "---"
   ]
  }
 ],
 "metadata": {
  "kernelspec": {
   "display_name": "Python 3",
   "language": "python",
   "name": "python3"
  },
  "language_info": {
   "codemirror_mode": {
    "name": "ipython",
    "version": 3
   },
   "file_extension": ".py",
   "mimetype": "text/x-python",
   "name": "python",
   "nbconvert_exporter": "python",
   "pygments_lexer": "ipython3",
   "version": "3.9.2"
  }
 },
 "nbformat": 4,
 "nbformat_minor": 5
}
