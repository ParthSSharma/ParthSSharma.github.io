{
 "cells": [
  {
   "cell_type": "markdown",
   "id": "handled-republic",
   "metadata": {},
   "source": [
    "# The RaspberryPi Pico\n",
    "\n",
    "As a part of my MEng Project at Cornell University, I worked intensively with the new [RaspberryPi Pico](https://www.raspberrypi.org/products/raspberry-pi-pico/) microcontroller under the guidance of [Prof. Hunter Adams](https://www.engineering.cornell.edu/faculty-directory/hunter-adams) and [Prof. Bruce Land](https://www.ece.cornell.edu/faculty-directory/bruce-robert-land)."
   ]
  },
  {
   "cell_type": "markdown",
   "id": "presidential-annotation",
   "metadata": {},
   "source": [
    "## Introduction\n",
    "The Raspberry Pi Pico is a tiny, fast, and versatile board built using RP2040, a brand new microcontroller chip designed by Raspberry Pi foundation. It features:\n",
    "- Dual-core Arm Cortex M0+ processor, flexible clock running up to 133 MHz\n",
    "- 264KB of SRAM, and 2MB of on-board Flash memory\n",
    "- Low-power sleep and dormant modes\n",
    "- Drag-and-drop programming using mass storage over USB\n",
    "- 26 × multi-function GPIO pins\n",
    "- 2 × SPI, 2 × I2C, 2 × UART, 3 × 12-bit ADC, 16 × controllable PWM channels\n",
    "- An on-board temperature sensor\n",
    "- 8 × Programmable I/O (PIO) state machines for custom peripheral support\n",
    "- Support for C and Python"
   ]
  },
  {
   "cell_type": "markdown",
   "id": "apparent-assumption",
   "metadata": {},
   "source": [
    "### Programming the Pico\n",
    "The Raspberry Pi Pico can be programmed using **C** as well as the **Python** programming language. I chose to program using C because of the following reason:\n",
    "1. A C program is compiled, and is thus faster than Pytho"
   ]
  }
 ],
 "metadata": {
  "kernelspec": {
   "display_name": "Python 3",
   "language": "python",
   "name": "python3"
  },
  "language_info": {
   "codemirror_mode": {
    "name": "ipython",
    "version": 3
   },
   "file_extension": ".py",
   "mimetype": "text/x-python",
   "name": "python",
   "nbconvert_exporter": "python",
   "pygments_lexer": "ipython3",
   "version": "3.9.2"
  }
 },
 "nbformat": 4,
 "nbformat_minor": 5
}
