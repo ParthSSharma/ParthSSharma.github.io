{
 "cells": [
  {
   "cell_type": "markdown",
   "id": "dietary-appendix",
   "metadata": {},
   "source": [
    "# Parth Sarthi Sharma\n",
    "\n",
    "#### Electrical and Computer Engineering student at Cornell University (pss242@cornell.edu)"
   ]
  },
  {
   "cell_type": "markdown",
   "id": "norwegian-karen",
   "metadata": {},
   "source": [
    "[GitHub](https://github.com/ParthSSharma) [StackOverflow](https://stackoverflow.com/users/9951130/parth-sarthi-sharma) [LinkedIn](https://www.linkedin.com/in/parthssharma/) [Orcid](https://orcid.org/0000-0001-5470-2866)\n",
    "\n",
    "---"
   ]
  },
  {
   "cell_type": "markdown",
   "id": "gorgeous-sapphire",
   "metadata": {},
   "source": [
    "# About Me\n",
    "\n",
    "> Hi, my name’s Parth and I’m currently pursuing Masters of Engineering in Electrical and Computer Engineering at Cornell University. My area of specialization is Embedded Systems. Before studying at Cornell, I was a Research Associate in the Centre for Energy Studies (CES) at the Indian Institute of Technology, Delhi. You can download my CV [here](https://github.com/ParthSSharma/ParthSSharma.github.io/raw/master/bassets/ParthResumeOverleaf.pdf).\n",
    "\n",
    "> I am most skilled in: **Embedded Systems** and **Eating Pizza**\n",
    "\n",
    "---"
   ]
  },
  {
   "cell_type": "markdown",
   "id": "sapphire-vintage",
   "metadata": {},
   "source": [
    "# Education\n",
    "\n",
    "## Cornell University\n",
    "> **MEng in Electrical and Computer Engineering** (2021 - Current)\n",
    "\n",
    "> I am currently in the 1st semester of my masters program. My area of specialisation is Embedded Systems programming. I have taken up course work like:\n",
    "> - ECE 5725: Design with Embedded Operating Systems\n",
    "> - ECE 4760: Digital Systems Design Using Microcontrollers\n",
    "> - ECE 4320: Integrated Micro Sensors and Actuators: Bridging the Physical and Digital Worlds\n",
    "\n",
    "## Ambedkar Institute Of Advanced Communication Technologies & Research\n",
    "> **B.Tech in Electronics and Communication Engineering** (2015 - 2019)\n",
    "\n",
    "> (Overall CGPA: 8.3 / 10)\n",
    "\n",
    "> Finished my undergraduate studies with a first division. Studied courses like:\n",
    "> - ETEC 401: Embedded Systems\n",
    "> - ETEC 305: Microprocessors and Microcontrollers\n",
    "> - ETEC 309: Digital System Design\n",
    "> - ETCS 204: Computer Organisation and Architecture\n",
    "> - ETCS 209: Data Structures and Algorithms\n",
    "\n",
    "---"
   ]
  },
  {
   "cell_type": "markdown",
   "id": "accurate-clone",
   "metadata": {},
   "source": [
    "# Experience\n",
    "\n",
    "## Cornell University\n",
    "> **Graduate Teaching Research Specialist** (Jan 2021 - Present)\n",
    "> - My duties include, but are not limited to, assisting Prof. Peter Doerschuk with debugging and testing the laboratory systems and grading the assignments/homework submitted by the students with ECE 4670 (Digital Communication System Design)\n",
    "\n",
    "## Indian Institute of Technology, Delhi\n",
    "> **Research Associate** (Jun 2019 - Sep 2020)\n",
    "> - Worked on Genetic Algorithms for energy conservation in power grids under Prof. Ashu Verma.\n",
    "> - Worked on hacking CAN Bus and disrupting data under Prof. B. K. Panigrahi\n",
    "\n",
    "## Indian Institute of Technology, Delhi\n",
    "> **Intern** (Jun 2018 - Aug 2018)\n",
    "> - Worked on ”Energy Efficient Buildings” under Prof. B.K. Panigrahi and Prof. Ashu Verma.\n",
    "> - Successfully developed an integrated light automation system (for HVAC) with 4 ambient zones\n",
    "\n",
    "---"
   ]
  }
 ],
 "metadata": {
  "kernelspec": {
   "display_name": "Python 3",
   "language": "python",
   "name": "python3"
  },
  "language_info": {
   "codemirror_mode": {
    "name": "ipython",
    "version": 3
   },
   "file_extension": ".py",
   "mimetype": "text/x-python",
   "name": "python",
   "nbconvert_exporter": "python",
   "pygments_lexer": "ipython3",
   "version": "3.9.2"
  }
 },
 "nbformat": 4,
 "nbformat_minor": 5
}
